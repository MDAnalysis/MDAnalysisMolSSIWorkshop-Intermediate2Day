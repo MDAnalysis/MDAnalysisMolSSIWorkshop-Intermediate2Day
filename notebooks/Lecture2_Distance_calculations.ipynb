{
 "cells": [
  {
   "cell_type": "markdown",
   "metadata": {
    "slideshow": {
     "slide_type": "slide"
    }
   },
   "source": [
    "# <center> Workshop - Intro to MDAnalysis</center>\n"
   ]
  },
  {
   "cell_type": "code",
   "execution_count": 3,
   "metadata": {
    "slideshow": {
     "slide_type": "skip"
    }
   },
   "outputs": [],
   "source": [
    "import warnings\n",
    "warnings.filterwarnings(\"ignore\") "
   ]
  },
  {
   "cell_type": "markdown",
   "metadata": {
    "slideshow": {
     "slide_type": "slide"
    }
   },
   "source": [
    "# Distance calculations in MDAnalysis"
   ]
  },
  {
   "cell_type": "markdown",
   "metadata": {
    "cell_style": "split",
    "slideshow": {
     "slide_type": "-"
    }
   },
   "source": [
    "Atom coordinates are in the \n",
    "`.positions` attribute of an `AtomGroup`\n",
    "\n",
    "The positions are returned as a NumPy array, which we can then readily manipulate.\n",
    "\n",
    "Some built-in functions based on position data:\n",
    "\n",
    "- `center_of_mass()`\n",
    "\n",
    "- `center_of_geometry()`\n",
    "\n"
   ]
  },
  {
   "cell_type": "code",
   "execution_count": 4,
   "metadata": {
    "cell_style": "split",
    "scrolled": true,
    "slideshow": {
     "slide_type": "-"
    }
   },
   "outputs": [
    {
     "data": {
      "text/plain": [
       "array([[ 11.736044 ,   8.500797 , -10.445281 ],\n",
       "       [ 12.365119 ,   7.839936 , -10.834842 ],\n",
       "       [ 12.0919485,   9.441535 , -10.724611 ],\n",
       "       ...,\n",
       "       [  6.512604 ,  18.447018 ,  -7.134053 ],\n",
       "       [  6.300186 ,  19.363485 ,  -7.935916 ],\n",
       "       [  5.5854015,  17.589624 ,  -6.9656615]], dtype=float32)"
      ]
     },
     "execution_count": 4,
     "metadata": {},
     "output_type": "execute_result"
    }
   ],
   "source": [
    "# First we import MDAnalysis\n",
    "import MDAnalysis as mda\n",
    "from MDAnalysis.tests.datafiles import PSF, DCD\n",
    "\n",
    "u = mda.Universe(PSF, DCD)\n",
    "pos = u.atoms.positions\n",
    "pos"
   ]
  },
  {
   "cell_type": "markdown",
   "metadata": {
    "slideshow": {
     "slide_type": "slide"
    }
   },
   "source": [
    "# The `lib.distances` module"
   ]
  },
  {
   "cell_type": "markdown",
   "metadata": {
    "cell_style": "center",
    "slideshow": {
     "slide_type": "-"
    }
   },
   "source": [
    "Particle positions are given as numpy arrays, so most work can be done using numpy (and numpy derived) libraries.\n",
    "\n",
    "MDAnalysis  `lib.distances` module comes handy when\n",
    "\n",
    "- we have periodic boundary conditions \n",
    "\n",
    "- domain specific algorithms can be used\n"
   ]
  },
  {
   "cell_type": "markdown",
   "metadata": {
    "slideshow": {
     "slide_type": "slide"
    }
   },
   "source": [
    "# `distance_array`"
   ]
  },
  {
   "cell_type": "markdown",
   "metadata": {
    "slideshow": {
     "slide_type": "-"
    }
   },
   "source": [
    "To calculate all pairwise distances between two arrays of coordinates."
   ]
  },
  {
   "cell_type": "code",
   "execution_count": 26,
   "metadata": {
    "cell_style": "center",
    "slideshow": {
     "slide_type": "-"
    }
   },
   "outputs": [
    {
     "name": "stdout",
     "output_type": "stream",
     "text": [
      "(10, 3331)\n",
      "[[0.         0.9920841  1.04387783 ... 9.09150004 7.8105948  9.09971745]\n",
      " [0.9920841  0.         1.62846336 ... 9.9430324  8.70396582 9.93966063]\n",
      " [1.04387783 1.62846336 0.         ... 9.0507164  7.82633649 9.24420786]\n",
      " ...\n",
      " [2.67831878 3.60064083 3.02210083 ... 6.98287171 5.50558527 6.7658636 ]\n",
      " [2.48649473 3.41418661 2.15870939 ... 6.94746882 5.71699641 7.21281159]\n",
      " [3.81500409 4.63829735 3.95581602 ... 5.31906104 4.1259778  5.36780012]]\n"
     ]
    }
   ],
   "source": [
    "from MDAnalysis.lib import distances\n",
    "\n",
    "\n",
    "ag1 = u.atoms[:10]\n",
    "ag2 = u.atoms[:-10]\n",
    "\n",
    "reference = ag1.positions\n",
    "configuration = ag2.positions\n",
    "\n",
    "da = distances.distance_array(reference, \n",
    "                         configuration,\n",
    "                         box=u.dimensions)\n",
    "print(da.shape)\n",
    "print(da)"
   ]
  },
  {
   "cell_type": "markdown",
   "metadata": {
    "slideshow": {
     "slide_type": "slide"
    }
   },
   "source": [
    "# `self_distance_array`\n",
    "\n",
    "For calculating distances between all combinations of coordinates.\n",
    "\n",
    "Takes a single array of coordinates and calculates all pairwise distances ( ½ n(n-1) results).\n"
   ]
  },
  {
   "cell_type": "code",
   "execution_count": 9,
   "metadata": {
    "cell_style": "center",
    "slideshow": {
     "slide_type": "-"
    }
   },
   "outputs": [
    {
     "data": {
      "text/plain": [
       "array([0.9920841 , 1.04387783, 1.05986122, 1.4677231 , 1.99856019,\n",
       "       2.36117508, 2.67831878, 2.48649473, 3.81500409, 1.62846336,\n",
       "       1.60838714, 2.0556173 , 2.29211662, 3.26665051, 3.60064083,\n",
       "       3.41418661, 4.63829735, 1.71124615, 2.07688445, 2.30015734,\n",
       "       2.52954317, 3.02210083, 2.15870939, 3.95581602, 2.15028073,\n",
       "       2.94351899, 2.68913032, 2.51650006, 2.87640887, 4.18963886,\n",
       "       1.0655627 , 1.54715331, 2.20757331, 2.20623844, 2.66493636,\n",
       "       2.18253486, 3.12900115, 2.55697562, 2.97064033, 1.20158828,\n",
       "       1.15342801, 1.53357976, 1.92567233, 2.17396078, 2.1796127 ])"
      ]
     },
     "execution_count": 9,
     "metadata": {},
     "output_type": "execute_result"
    }
   ],
   "source": [
    "distances.self_distance_array(reference, box=None, result=None)"
   ]
  },
  {
   "cell_type": "markdown",
   "metadata": {
    "cell_style": "center",
    "slideshow": {
     "slide_type": "slide"
    }
   },
   "source": [
    "# `calc_bonds`\n",
    "\n",
    "For calculating a series of distances between points.\n",
    "\n",
    "Takes 2 arrays of coordinates **of equal length**, and returns the distances between coordinate pairs in each row.\n"
   ]
  },
  {
   "cell_type": "code",
   "execution_count": 20,
   "metadata": {
    "cell_style": "center"
   },
   "outputs": [
    {
     "name": "stdout",
     "output_type": "stream",
     "text": [
      "[4.18088681 4.85935014 5.03940839 5.66651264 4.12341026 5.53698907\n",
      " 3.78848949 2.69663056 4.00235462 3.5374006 ]\n"
     ]
    }
   ],
   "source": [
    "coords1 = u.atoms[:10].positions\n",
    "coords2 = u.atoms[10:20].positions\n",
    "dist = distances.calc_bonds(coords1, \n",
    "                     coords2, \n",
    "                     box=None)\n",
    "print(dist)"
   ]
  },
  {
   "cell_type": "markdown",
   "metadata": {
    "slideshow": {
     "slide_type": "slide"
    }
   },
   "source": [
    "# `calc_angles` & `calc_dihedrals`\n",
    "\n",
    "Same as `calc_bonds`\n",
    "\n",
    "Calculate either the angle or dihedral angle between 3 or 4 arrays of coordinates.\n",
    "\n",
    "Takes 3 or 4 arrays of identical length coordinates.\n"
   ]
  },
  {
   "cell_type": "code",
   "execution_count": 35,
   "metadata": {
    "cell_style": "center",
    "slideshow": {
     "slide_type": "-"
    }
   },
   "outputs": [
    {
     "name": "stdout",
     "output_type": "stream",
     "text": [
      "[ 60.1705515   70.44413816  61.74292062  48.97993666  31.49563244\n",
      "  31.70597945  15.62738421 162.62889398 125.52167306 148.32427929]\n"
     ]
    }
   ],
   "source": [
    "import numpy as np\n",
    "coords1 = u.atoms[:10].positions\n",
    "coords2 = u.atoms[10:20].positions\n",
    "coords3 = u.atoms[20:30].positions\n",
    "\n",
    "angles = distances.calc_angles(\n",
    "coords1, coords2, coords3,\n",
    "box=None, result=None)\n",
    "\n",
    "print(np.rad2deg(angles))\n"
   ]
  },
  {
   "cell_type": "markdown",
   "metadata": {
    "slideshow": {
     "slide_type": "slide"
    }
   },
   "source": [
    "# Minimum image convention\n",
    "\n",
    "To account for periodic boundary conditions in distance calculations,\n",
    "pass the box information as `box=ag.dimensions` to any distance function.\n"
   ]
  },
  {
   "cell_type": "markdown",
   "metadata": {
    "slideshow": {
     "slide_type": "slide"
    }
   },
   "source": [
    "# `capped_distance` and `self_capped_distance`\n",
    "\n",
    "Only find distances up to a limit. It returns:\n",
    "- an array of indices\n",
    "- an array of distances\n"
   ]
  },
  {
   "cell_type": "code",
   "execution_count": 44,
   "metadata": {
    "cell_style": "center",
    "slideshow": {
     "slide_type": "-"
    }
   },
   "outputs": [
    {
     "data": {
      "text/plain": [
       "(array([[   0, 1214],\n",
       "        [   0, 1209],\n",
       "        [   0,  390]]),\n",
       " array([3.07942888, 3.81926148, 3.99841942]))"
      ]
     },
     "execution_count": 44,
     "metadata": {},
     "output_type": "execute_result"
    }
   ],
   "source": [
    "ix, dist = distances.capped_distance(reference, \n",
    "                          configuration, \n",
    "                          min_cutoff = 3,\n",
    "                          max_cutoff=4,\n",
    "                          box=u.dimensions)\n",
    "ix[:3], dist[:3]"
   ]
  },
  {
   "cell_type": "markdown",
   "metadata": {
    "cell_style": "center",
    "deletable": false,
    "editable": false,
    "hide_input": true,
    "run_control": {
     "frozen": true
    },
    "slideshow": {
     "slide_type": "skip"
    }
   },
   "source": [
    "2022-07-26 11:19:45 2022-07-26 11:19:46 ## A summary of Lecture 1\n",
    "\n",
    "Most simulation analysis will involve extracting position data from certain atoms.\n",
    "\n",
    "- A `Universe` contains all information about a simulation system\n",
    "\n",
    "- An `AtomGroup` contains information about a group of atoms\n",
    "\n",
    "- We can use `Universe.select_atoms()` to create an `AtomGroup` containing specific atoms from a `Universe`\n",
    "\n",
    "- Positions of atoms in an AtomGroup are accessed through `AtomGroup.positions`"
   ]
  },
  {
   "cell_type": "markdown",
   "metadata": {
    "slideshow": {
     "slide_type": "slide"
    }
   },
   "source": [
    "# A summary of Lecture 2\n",
    "\n",
    "Calculating pairwise distances:\n",
    "- calc_bonds\n",
    "- distance_array\n",
    "- self_distance_array\n",
    "\n",
    "Faster, sparse pairwise distances:\n",
    "- capped_distance\n",
    "- self_capped_distance\n",
    "\n",
    "Calculating angles:\n",
    "- calc_angles\n",
    "- calc_dihedrals\n"
   ]
  },
  {
   "cell_type": "markdown",
   "metadata": {
    "slideshow": {
     "slide_type": "slide"
    }
   },
   "source": [
    "## Now - on to the second tutorial!\n",
    "\n",
    "Find the tutorial notebook `Tutorial2_Distances_Trajectories` under: \n",
    "\n",
    "https://github.com/MDAnalysis/MDAnalysisWorkshop-Intro1Day/blob/may24-ws/notebooks/Tutorial2_Distances_Trajectories.ipynb\n",
    "\n",
    "**Remember:**\n",
    "- Go at your own pace!\n",
    "- Ask questions!\n",
    "- Take breaks!"
   ]
  },
  {
   "cell_type": "code",
   "execution_count": null,
   "metadata": {},
   "outputs": [],
   "source": []
  }
 ],
 "metadata": {
  "celltoolbar": "Slideshow",
  "hide_input": false,
  "kernelspec": {
   "display_name": "Python 3 (ipykernel)",
   "language": "python",
   "name": "python3"
  },
  "language_info": {
   "codemirror_mode": {
    "name": "ipython",
    "version": 3
   },
   "file_extension": ".py",
   "mimetype": "text/x-python",
   "name": "python",
   "nbconvert_exporter": "python",
   "pygments_lexer": "ipython3",
   "version": "3.11.0"
  },
  "toc": {
   "base_numbering": 1,
   "nav_menu": {},
   "number_sections": true,
   "sideBar": true,
   "skip_h1_title": false,
   "title_cell": "Table of Contents",
   "title_sidebar": "Contents",
   "toc_cell": false,
   "toc_position": {},
   "toc_section_display": true,
   "toc_window_display": false
  }
 },
 "nbformat": 4,
 "nbformat_minor": 2
}
