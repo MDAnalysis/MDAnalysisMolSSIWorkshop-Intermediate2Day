{
 "cells": [
  {
   "cell_type": "code",
   "execution_count": 1,
   "id": "5bdb3782",
   "metadata": {
    "slideshow": {
     "slide_type": "skip"
    }
   },
   "outputs": [],
   "source": [
    "import warnings\n",
    "import numpy as np\n",
    "import matplotlib.pyplot as plt\n",
    "%matplotlib inline\n",
    "warnings.filterwarnings(\"ignore\")"
   ]
  },
  {
   "cell_type": "markdown",
   "id": "168d262f",
   "metadata": {
    "slideshow": {
     "slide_type": "slide"
    }
   },
   "source": [
    "# <center>Lecture 2: Handling Trajectory Data</center>"
   ]
  },
  {
   "cell_type": "markdown",
   "id": "df543b99",
   "metadata": {
    "slideshow": {
     "slide_type": "-"
    }
   },
   "source": [
    "<center>MDAnalysis & MOLSSI Workshop - June 2024 - ASU</center>"
   ]
  },
  {
   "cell_type": "markdown",
   "id": "94093a09",
   "metadata": {
    "slideshow": {
     "slide_type": "slide"
    }
   },
   "source": [
    "## Aims and objectives <a class=\"tocSkip\">"
   ]
  },
  {
   "cell_type": "markdown",
   "id": "0b0abba5",
   "metadata": {},
   "source": [
    "- Give a general overview of how MDAnalysis reads coordinate data\n",
    "- How to programmatically access / use trajectory data with the MDAnalysis API\n",
    "- How to write out coordinates"
   ]
  },
  {
   "cell_type": "markdown",
   "id": "7ec2f7a5",
   "metadata": {
    "slideshow": {
     "slide_type": "slide"
    }
   },
   "source": [
    "## Overview of File IO in MDAnalysis <a class=\"tocSkip\">"
   ]
  },
  {
   "cell_type": "markdown",
   "id": "9ea1d817",
   "metadata": {
    "cell_style": "split"
   },
   "source": [
    "Main file IO in MDAnalysis:\n",
    "  - Topologies\n",
    "  - Coordinates (single frame & trajectories)\n",
    "  - Auxilliary (\"additional information\")\n",
    "  \n",
    "Topology & coordinates form the basis of Universe creation"
   ]
  },
  {
   "cell_type": "markdown",
   "id": "1d65f7e7",
   "metadata": {
    "cell_style": "split"
   },
   "source": [
    "<center><img src=\"imgs/MDA-overview.png\" alt=\"MDA-overview\" style=\"width: 700px;\"/></center>"
   ]
  },
  {
   "cell_type": "markdown",
   "id": "fbe187db",
   "metadata": {
    "slideshow": {
     "slide_type": "slide"
    }
   },
   "source": [
    "## Topology files <a class=\"tocSkip\">"
   ]
  },
  {
   "cell_type": "markdown",
   "id": "90559852",
   "metadata": {
    "cell_style": "split"
   },
   "source": [
    "- ~ 30 formats supported\n",
    "- Provides base information about the system\n",
    "  - e.g. atom names, elements, charges, bonds\n",
    "- MDAnalysis **does not** parse energy function related terms\n",
    "- Read only\n",
    "  - Except for topologies that contain coordinate data (PDB, GRO, etc...)\n",
    "- Only read once at Universe creation"
   ]
  },
  {
   "cell_type": "code",
   "execution_count": 2,
   "id": "6d754391",
   "metadata": {
    "cell_style": "split"
   },
   "outputs": [
    {
     "name": "stdout",
     "output_type": "stream",
     "text": [
      "['N' 'H1' 'H2' ... 'NA' 'NA' 'NA']\n",
      "[-0.30000001  0.33000001  0.33000001 ...  1.          1.\n",
      "  1.        ]\n"
     ]
    }
   ],
   "source": [
    "import MDAnalysis as mda\n",
    "from MDAnalysis.tests.datafiles import TPR\n",
    "\n",
    "u = mda.Universe(TPR)\n",
    "\n",
    "print(u.atoms.names)\n",
    "\n",
    "print(u.atoms.charges)"
   ]
  },
  {
   "cell_type": "markdown",
   "id": "aa3d8071",
   "metadata": {
    "slideshow": {
     "slide_type": "slide"
    }
   },
   "source": [
    "## Coordinates files <a class=\"tocSkip\">"
   ]
  },
  {
   "cell_type": "markdown",
   "id": "1d4962ad",
   "metadata": {
    "cell_style": "split"
   },
   "source": [
    "- ~ 30 coordinate formats supported\n",
    "  - Extra file formats via [chemfiles](https://github.com/chemfiles/chemfiles.py) converter interface\n",
    "- Reads both single frame (e.g. MMTF, PQR) and trajectory files (e.g. XTC, DCD, NetCDF)\n",
    "- MDAnalysis can both read & write\n",
    "  - ~ 50% coordinate file types have writers\n",
    "- Iterative IO model\n",
    "  - Data read from disk frame at a time as requested"
   ]
  },
  {
   "cell_type": "markdown",
   "id": "b47d289e",
   "metadata": {
    "cell_style": "split"
   },
   "source": [
    "<center><img src=\"imgs/mda-coordinates.png\" alt=\"MDA-orview-of-coordinate-readers\" style=\"width: 700px;\"/></center>"
   ]
  },
  {
   "cell_type": "markdown",
   "id": "2a243ea8",
   "metadata": {
    "slideshow": {
     "slide_type": "slide"
    }
   },
   "source": [
    "## General overview of coordinate IO <a class=\"tocSkip\">"
   ]
  },
  {
   "cell_type": "markdown",
   "id": "8a383e69",
   "metadata": {},
   "source": [
    "<center><img src=\"imgs/MDA-CoordinateReading.png\" alt=\"MDA-coordinate-workflow\" style=\"width: 1000px;\"/></center>"
   ]
  },
  {
   "cell_type": "markdown",
   "id": "d8793211",
   "metadata": {
    "slideshow": {
     "slide_type": "slide"
    }
   },
   "source": [
    "## Trajectory class: `Universe.trajectory` <a class=\"tocSkip\">"
   ]
  },
  {
   "cell_type": "markdown",
   "id": "2075b905",
   "metadata": {
    "cell_style": "split",
    "slideshow": {
     "slide_type": "-"
    }
   },
   "source": [
    "- Main class for trajectory access\n",
    "  - Makes the Reader fetch the relevant data from disk\n",
    "  - Works on the basis of frames\n",
    "- Works as an iterator\n",
    "- Can be randomly seeked"
   ]
  },
  {
   "cell_type": "code",
   "execution_count": 3,
   "id": "fded0878",
   "metadata": {
    "cell_style": "split",
    "slideshow": {
     "slide_type": "-"
    }
   },
   "outputs": [
    {
     "data": {
      "text/plain": [
       "<NCDFReader /home/bioc1523/software/mambaforge/install/envs/mda_workshop/lib/python3.11/site-packages/MDAnalysisTests/data/Amber/ace_tip3p.nc with 10 frames of 1398 atoms>"
      ]
     },
     "execution_count": 3,
     "metadata": {},
     "output_type": "execute_result"
    }
   ],
   "source": [
    "from MDAnalysis.tests.datafiles import (PRM_NCBOX,\n",
    "                                        TRJ_NCBOX)\n",
    "\n",
    "u = mda.Universe(PRM_NCBOX, TRJ_NCBOX)\n",
    "\n",
    "u.trajectory"
   ]
  },
  {
   "cell_type": "markdown",
   "id": "08478f6c",
   "metadata": {
    "slideshow": {
     "slide_type": "slide"
    }
   },
   "source": [
    "## Trajectory class: `Universe.trajectory` <a class=\"tocSkip\">"
   ]
  },
  {
   "cell_type": "markdown",
   "id": "9f231607",
   "metadata": {
    "cell_style": "split",
    "slideshow": {
     "slide_type": "-"
    }
   },
   "source": [
    "- Main class for trajectory access\n",
    "  - Makes the Reader fetch the relevant data from disk\n",
    "  - Works on the basis of frames\n",
    "  - Time is in units of **picoseconds**"
   ]
  },
  {
   "cell_type": "code",
   "execution_count": 4,
   "id": "9551fd9b",
   "metadata": {
    "cell_style": "split",
    "slideshow": {
     "slide_type": "-"
    }
   },
   "outputs": [
    {
     "name": "stdout",
     "output_type": "stream",
     "text": [
      "number of frames:  10\n",
      "current frame:  0\n",
      "current time:  1.0\n"
     ]
    }
   ],
   "source": [
    "print(\"number of frames: \", u.trajectory.n_frames)\n",
    "\n",
    "print(\"current frame: \", u.trajectory.frame)\n",
    "\n",
    "print(\"current time: \", u.trajectory.time)"
   ]
  },
  {
   "cell_type": "markdown",
   "id": "d77adfa7",
   "metadata": {
    "slideshow": {
     "slide_type": "slide"
    }
   },
   "source": [
    "## Trajectory class: `Universe.trajectory` <a class=\"tocSkip\">"
   ]
  },
  {
   "cell_type": "markdown",
   "id": "c7af5a10",
   "metadata": {
    "cell_style": "split",
    "slideshow": {
     "slide_type": "-"
    }
   },
   "source": [
    "Trajectories can be randomly seeked."
   ]
  },
  {
   "cell_type": "code",
   "execution_count": 7,
   "id": "07e683a6",
   "metadata": {
    "cell_style": "split"
   },
   "outputs": [
    {
     "name": "stdout",
     "output_type": "stream",
     "text": [
      "current frame:  5\n",
      "current time:  6.0\n"
     ]
    }
   ],
   "source": [
    "# trajectories can be seeked\n",
    "u.trajectory[5]\n",
    "\n",
    "print(\"current frame: \", u.trajectory.frame)\n",
    "print(\"current time: \", u.trajectory.time)"
   ]
  },
  {
   "cell_type": "markdown",
   "id": "00d7819b",
   "metadata": {
    "slideshow": {
     "slide_type": "slide"
    }
   },
   "source": [
    "## Trajectory class: `Universe.trajectory` <a class=\"tocSkip\">"
   ]
  },
  {
   "cell_type": "markdown",
   "id": "2dd34046",
   "metadata": {
    "cell_style": "split",
    "slideshow": {
     "slide_type": "-"
    }
   },
   "source": [
    "Trajectories work as iterators, so you can loop through them!"
   ]
  },
  {
   "cell_type": "code",
   "execution_count": 8,
   "id": "fa249bdf",
   "metadata": {
    "cell_style": "split"
   },
   "outputs": [
    {
     "name": "stdout",
     "output_type": "stream",
     "text": [
      "current frame / time:  0 1.0\n",
      "current frame / time:  1 2.0\n",
      "current frame / time:  2 3.0\n",
      "current frame / time:  3 4.0\n",
      "current frame / time:  4 5.0\n",
      "current frame / time:  5 6.0\n",
      "current frame / time:  6 7.0\n",
      "current frame / time:  7 8.0\n",
      "current frame / time:  8 9.0\n",
      "current frame / time:  9 10.0\n"
     ]
    }
   ],
   "source": [
    "# trajectories can be iterated\n",
    "for ts in u.trajectory:\n",
    "    print('current frame / time: ', u.trajectory.frame,\n",
    "          u.trajectory.time)"
   ]
  },
  {
   "cell_type": "markdown",
   "id": "0b829da6",
   "metadata": {
    "slideshow": {
     "slide_type": "slide"
    }
   },
   "source": [
    "## Timestep class `Universe.trajectory.ts` <a class=\"tocSkip\">"
   ]
  },
  {
   "cell_type": "markdown",
   "id": "682a84e1",
   "metadata": {
    "cell_style": "split"
   },
   "source": [
    "- Class that holds the current frame's data\n",
    "  - Trajectory tells Reader to populate Timestep with a given frame\n",
    "  - Changes every time the trajectory seeks\n",
    "- Contains time-dependent information\n",
    "  - `positions`, `dimensions`, `time`, `frame number`, etc..\n",
    "- Data is then fed to other parts of the Universe\n",
    "  - i.e. `AtomGroup.positions` takes a copy of `ts.positions` given atoms"
   ]
  },
  {
   "cell_type": "code",
   "execution_count": 9,
   "id": "10b798e5",
   "metadata": {
    "cell_style": "split"
   },
   "outputs": [
    {
     "data": {
      "text/plain": [
       "< Timestep 0 with unit cell dimensions [28.818764 28.278753 27.726164 90.       90.       90.      ] >"
      ]
     },
     "execution_count": 9,
     "metadata": {},
     "output_type": "execute_result"
    }
   ],
   "source": [
    "u.trajectory.ts"
   ]
  },
  {
   "cell_type": "markdown",
   "id": "76faa380",
   "metadata": {
    "slideshow": {
     "slide_type": "slide"
    }
   },
   "source": [
    "## Timestep class `Universe.trajectory.ts` <a class=\"tocSkip\">"
   ]
  },
  {
   "cell_type": "markdown",
   "id": "2bb88c8a",
   "metadata": {
    "cell_style": "split"
   },
   "source": [
    "- Class that holds the current frame's data\n",
    "  - Trajectory tells Reader to populate Timestep with a given frame\n",
    "  - Changes every time the trajectory seeks\n",
    "- Contains time-dependent information\n",
    "  - `positions`, `dimensions`, `time`, `frame number`, etc..\n",
    "- Data is then fed to other parts of the Universe\n",
    "  - i.e. `AtomGroup.positions` takes a copy of `ts.positions` given atoms"
   ]
  },
  {
   "cell_type": "code",
   "execution_count": 10,
   "id": "0db2c9d5",
   "metadata": {
    "cell_style": "split"
   },
   "outputs": [
    {
     "name": "stdout",
     "output_type": "stream",
     "text": [
      "positions:\n",
      " [[15.249873  12.578178  15.191731 ]\n",
      " [14.925511  13.58888   14.944009 ]\n",
      " [15.285703  14.3409605 15.645962 ]\n",
      " ...\n",
      " [ 3.9575078 14.525827  16.14651  ]\n",
      " [ 4.6214457 14.670319  15.472312 ]\n",
      " [ 4.3571763 14.856422  16.950998 ]]\n",
      "forces:\n",
      " [[  35.912895     7.5411134  -62.774    ]\n",
      " [ -90.35279    163.55951     27.480358 ]\n",
      " [  18.25486    -50.773525    18.73405  ]\n",
      " ...\n",
      " [-211.5503    -127.57705     14.248226 ]\n",
      " [  65.75678     44.437996   -59.866737 ]\n",
      " [  65.71979     47.376717    45.049736 ]]\n"
     ]
    }
   ],
   "source": [
    "# ts holds time-dependent data like positions and forces\n",
    "\n",
    "print('positions:\\n', u.trajectory.ts.positions)\n",
    "\n",
    "print('forces:\\n', u.trajectory.ts.forces)"
   ]
  },
  {
   "cell_type": "markdown",
   "id": "ce85ed47",
   "metadata": {
    "slideshow": {
     "slide_type": "slide"
    }
   },
   "source": [
    "## Timestep class `Universe.trajectory.ts` <a class=\"tocSkip\">"
   ]
  },
  {
   "cell_type": "markdown",
   "id": "b4cf9a07",
   "metadata": {
    "cell_style": "split"
   },
   "source": [
    "- Class that holds the current frame's data\n",
    "  - Trajectory tells Reader to populate Timestep with a given frame\n",
    "  - Changes every time the trajectory seeks\n",
    "- Contains time-dependent information\n",
    "  - `positions`, `dimensions`, `time`, `frame number`, etc..\n",
    "- Data is then fed to other parts of the Universe\n",
    "  - i.e. `AtomGroup.positions` takes a copy of `ts.positions` given atoms"
   ]
  },
  {
   "cell_type": "code",
   "execution_count": 11,
   "id": "8fddec86",
   "metadata": {
    "cell_style": "split"
   },
   "outputs": [
    {
     "name": "stdout",
     "output_type": "stream",
     "text": [
      "position:\n",
      " [15.249873 12.578178 15.191731]\n",
      "atomgroup position:\n",
      " [15.249873 12.578178 15.191731]\n"
     ]
    }
   ],
   "source": [
    "# positions are passed to things like AtomGroups\n",
    "print('position:\\n', u.trajectory.ts.positions[0])\n",
    "\n",
    "print('atomgroup position:\\n', u.atoms[0].position)"
   ]
  },
  {
   "cell_type": "markdown",
   "id": "c791292c",
   "metadata": {
    "slideshow": {
     "slide_type": "slide"
    }
   },
   "source": [
    "## AtomGroups and UpdatingAtomGroups <a class=\"tocSkip\">"
   ]
  },
  {
   "cell_type": "markdown",
   "id": "73a94def",
   "metadata": {
    "cell_style": "split"
   },
   "source": [
    "- Main entry point for data is AtomGroup\n",
    "  - API preferred over `ts`\n",
    "\n",
    "- AtomGroups are statically defined\n",
    "  - Atoms don't change\n",
    "  - Only time-dependent variables change\n",
    "  \n",
    "- UpdatingAtomGroups\n",
    "  - Time dependent selection of atoms\n",
    "  - Expensive, but can be useful"
   ]
  },
  {
   "cell_type": "code",
   "execution_count": 13,
   "id": "a98bfc76",
   "metadata": {
    "cell_style": "split"
   },
   "outputs": [
    {
     "name": "stdout",
     "output_type": "stream",
     "text": [
      "atoms:  1398\n",
      "atoms:  1371\n"
     ]
    }
   ],
   "source": [
    "u.trajectory[0]\n",
    "\n",
    "# atoms with y coordinates > 1 Angstrom\n",
    "ag = u.select_atoms(\n",
    "    'prop y > 1',\n",
    "    updating=True)\n",
    "\n",
    "print('atoms: ', ag.n_atoms)\n",
    "\n",
    "u.trajectory[5]\n",
    "\n",
    "print('atoms: ', ag.n_atoms)"
   ]
  },
  {
   "cell_type": "markdown",
   "id": "5d45b4d4",
   "metadata": {
    "slideshow": {
     "slide_type": "slide"
    }
   },
   "source": [
    "## Example: TC5b Trp Cage <a class=\"tocSkip\">"
   ]
  },
  {
   "cell_type": "markdown",
   "id": "aa139a69",
   "metadata": {
    "cell_style": "split"
   },
   "source": [
    "- Implicit solvent simulation of TC5b\n",
    "  - Makes different folds over time\n",
    "\n",
    "\n",
    "- Can use NGLView to visualise the trajectory"
   ]
  },
  {
   "cell_type": "code",
   "execution_count": 14,
   "id": "da42fc24",
   "metadata": {
    "cell_style": "split"
   },
   "outputs": [
    {
     "data": {
      "application/vnd.jupyter.widget-view+json": {
       "model_id": "bac7b4e5f81a4a2983b4ac9a686fdc7a",
       "version_major": 2,
       "version_minor": 0
      },
      "text/plain": []
     },
     "metadata": {},
     "output_type": "display_data"
    },
    {
     "data": {
      "application/vnd.jupyter.widget-view+json": {
       "model_id": "f1b47f34150848fba03bdca549fd2e58",
       "version_major": 2,
       "version_minor": 0
      },
      "text/plain": [
       "NGLWidget(max_frame=199)"
      ]
     },
     "metadata": {},
     "output_type": "display_data"
    }
   ],
   "source": [
    "import nglview as nv\n",
    "\n",
    "u = mda.Universe('data/TC5b.ff14igb8.HMR.parm7',\n",
    "                 'data/TC5b.nc')\n",
    "\n",
    "nv.show_mdanalysis(u)"
   ]
  },
  {
   "cell_type": "markdown",
   "id": "01435d2a",
   "metadata": {
    "slideshow": {
     "slide_type": "slide"
    }
   },
   "source": [
    "## Example: TC5b Trp Cage <a class=\"tocSkip\">"
   ]
  },
  {
   "cell_type": "markdown",
   "id": "b2b8ae51",
   "metadata": {
    "cell_style": "split",
    "slideshow": {
     "slide_type": "-"
    }
   },
   "source": [
    "- Let's calculate a simple end-to-end alpha-carbon distance over the trajectory\n",
    "  - Very coarse evaluation of folding"
   ]
  },
  {
   "cell_type": "code",
   "execution_count": 15,
   "id": "7436e00e",
   "metadata": {
    "cell_style": "split"
   },
   "outputs": [
    {
     "data": {
      "text/plain": [
       "Text(0, 0.5, 'distance (Angstroms)')"
      ]
     },
     "execution_count": 15,
     "metadata": {},
     "output_type": "execute_result"
    },
    {
     "data": {
      "image/png": "[encoded data removed]",
      "text/plain": [
       "<Figure size 640x480 with 1 Axes>"
      ]
     },
     "metadata": {},
     "output_type": "display_data"
    }
   ],
   "source": [
    "from MDAnalysis.lib.distances import calc_bonds\n",
    "\n",
    "nterm = u.select_atoms('name CA')[0]\n",
    "cterm = u.select_atoms('name CA')[-1]\n",
    "\n",
    "times = np.empty(u.trajectory.n_frames)\n",
    "distances = np.empty(u.trajectory.n_frames)\n",
    "\n",
    "for i, ts in enumerate(u.trajectory):\n",
    "    times[i] = u.trajectory.time / 1000\n",
    "    distances[i] = calc_bonds(nterm.position,\n",
    "                              cterm.position)\n",
    "    \n",
    "plt.plot(times, distances)\n",
    "plt.xlabel('time (ns)')\n",
    "plt.ylabel('distance (Angstroms)')"
   ]
  },
  {
   "cell_type": "markdown",
   "id": "df0d06ba",
   "metadata": {
    "slideshow": {
     "slide_type": "slide"
    }
   },
   "source": [
    "## I/O Performance Considerations <a class=\"tocSkip\">"
   ]
  },
  {
   "cell_type": "markdown",
   "id": "a3399349",
   "metadata": {},
   "source": [
    "- I/O is expensive - minimize wherever possible\n",
    "- Random seeking can be much more expensive than iterating\n",
    "- Binary are generally faster to read than ASCII\n",
    "- Parallelism is an option"
   ]
  },
  {
   "cell_type": "markdown",
   "id": "7bdf3b30",
   "metadata": {
    "slideshow": {
     "slide_type": "slide"
    }
   },
   "source": [
    "## MemoryReader <a class=\"tocSkip\">"
   ]
  },
  {
   "cell_type": "markdown",
   "id": "44b9b668",
   "metadata": {},
   "source": [
    "- Transferring data to memory speeds up access to trajectory data\n",
    "  - ~ 1-2 orders of magnitude speedups\n",
    "  - Requires being able to store data in RAM\n",
    "\n",
    "- Changes to trajectory data are \"permanent\"\n",
    "  - Directly changes the memory object\n",
    "  - Can be useful\n",
    "  - example: trajectory aligning (`mda.align.AlignTraj`)\n",
    "  \n",
    "- Note: positions from converters (e.g. RDKit, Chemfiles, etc..) are usually MemoryReader instances"
   ]
  },
  {
   "cell_type": "markdown",
   "id": "305d740a",
   "metadata": {
    "slideshow": {
     "slide_type": "slide"
    }
   },
   "source": [
    "## Writing coordinates <a class=\"tocSkip\">"
   ]
  },
  {
   "cell_type": "markdown",
   "id": "a5f52802",
   "metadata": {
    "cell_style": "split"
   },
   "source": [
    "- MDAnalysis implements writers for most coordinate types\n",
    "- Can directly write from `AtomGroup` or use `MDAnalysis.Writer` class\n",
    "- Writers will automatically guess file type based on extension\n",
    "  - Can also pass a `format` keyword to enfore the file type"
   ]
  },
  {
   "cell_type": "code",
   "execution_count": null,
   "id": "92541d1d",
   "metadata": {
    "cell_style": "split"
   },
   "outputs": [],
   "source": [
    "# AtomGroup of all atoms\n",
    "ag = u.atoms\n",
    "\n",
    "# write out a single frame\n",
    "ag.write('test.pdb')\n",
    "\n",
    "# write out all frames\n",
    "ag.write('test.xtc', frame=all)"
   ]
  },
  {
   "cell_type": "markdown",
   "id": "e4a1325c",
   "metadata": {
    "slideshow": {
     "slide_type": "slide"
    }
   },
   "source": [
    "## Writing coordinates <a class=\"tocSkip\">"
   ]
  },
  {
   "cell_type": "markdown",
   "id": "dc0e358e",
   "metadata": {
    "cell_style": "split"
   },
   "source": [
    "- MDAnalysis implements writers for most coordinate types\n",
    "- Can directly write from `AtomGroup` or use `MDAnalysis.Writer` class\n",
    "- Writers will automatically guess file type based on extension\n",
    "  - Can also pass a `format` keyword to enfore the file type"
   ]
  },
  {
   "cell_type": "code",
   "execution_count": null,
   "id": "449f9748",
   "metadata": {
    "cell_style": "split"
   },
   "outputs": [],
   "source": [
    "# Common to use mda.Writer as a context manager\n",
    "with mda.Writer('test.dcd', n_atoms=u.atoms.n_atoms,\n",
    "                format='DCD') as W:\n",
    "    # Iterate through trajectory to feed the writer\n",
    "    # in this case - downsample by skipping by 10\n",
    "    for ts in u.trajectory[::10]:\n",
    "        W.write(u)"
   ]
  },
  {
   "cell_type": "markdown",
   "id": "548e02f3",
   "metadata": {
    "slideshow": {
     "slide_type": "slide"
    }
   },
   "source": [
    "## Review <a class=\"tocSkip\">"
   ]
  },
  {
   "cell_type": "markdown",
   "id": "e9a4d227",
   "metadata": {},
   "source": [
    "- Universes are associated with a Reader when loading coordinates\n",
    "- `Universe.trajectory` allows for iterating through a trajectory\n",
    "- `Universe.trajectory.ts` is assigned time-dependent data which is passed to other parts of the Universe\n",
    "- Writing is achieved through either `AtomGroup.write()` or `MDAnalysis.Write`\n",
    "- I/O is expensive, transferring to memory can be helpful, but generally try to limit I/O calls"
   ]
  },
  {
   "cell_type": "markdown",
   "id": "d847c575",
   "metadata": {
    "slideshow": {
     "slide_type": "slide"
    }
   },
   "source": [
    "## Session 2 - Practical <a class=\"tocSkip\">"
   ]
  },
  {
   "cell_type": "markdown",
   "id": "47289115",
   "metadata": {},
   "source": [
    "- Notebook `Tutorial2_Trajectories.ipynb`\n",
    "  - Covers concepts described here\n",
    "  - Also gives case study examples of how to iterate through trajectories to carry out analyses"
   ]
  }
 ],
 "metadata": {
  "celltoolbar": "Slideshow",
  "kernelspec": {
   "display_name": "Python 3 (ipykernel)",
   "language": "python",
   "name": "python3"
  },
  "language_info": {
   "codemirror_mode": {
    "name": "ipython",
    "version": 3
   },
   "file_extension": ".py",
   "mimetype": "text/x-python",
   "name": "python",
   "nbconvert_exporter": "python",
   "pygments_lexer": "ipython3",
   "version": "3.11.9"
  },
  "toc": {
   "base_numbering": 1,
   "nav_menu": {},
   "number_sections": true,
   "sideBar": true,
   "skip_h1_title": true,
   "title_cell": "Table of Contents",
   "title_sidebar": "Contents",
   "toc_cell": false,
   "toc_position": {},
   "toc_section_display": true,
   "toc_window_display": false
  }
 },
 "nbformat": 4,
 "nbformat_minor": 5
}
