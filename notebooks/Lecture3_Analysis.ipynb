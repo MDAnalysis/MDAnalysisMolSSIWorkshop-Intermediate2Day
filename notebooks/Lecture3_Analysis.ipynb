{
 "cells": [
  {
   "cell_type": "markdown",
   "metadata": {
    "slideshow": {
     "slide_type": "slide"
    }
   },
   "source": [
    "# <center> Workshop - Analysis in MDAnalysis</center>\n"
   ]
  },
  {
   "cell_type": "code",
   "execution_count": 1,
   "metadata": {
    "slideshow": {
     "slide_type": "skip"
    }
   },
   "outputs": [
    {
     "name": "stderr",
     "output_type": "stream",
     "text": [
      "/Users/ugmhackathon/mambaforge/envs/mda_workshop/lib/python3.11/site-packages/MDAnalysis/coordinates/DCD.py:165: DeprecationWarning: DCDReader currently makes independent timesteps by copying self.ts while other readers update self.ts inplace. This behavior will be changed in 3.0 to be the same as other readers. Read more at https://github.com/MDAnalysis/mdanalysis/issues/3889 to learn if this change in behavior might affect you.\n",
      "  warnings.warn(\"DCDReader currently makes independent timesteps\"\n"
     ]
    }
   ],
   "source": [
    "import warnings\n",
    "warnings.filterwarnings(\"ignore\") \n",
    "\n",
    "# plotting\n",
    "import matplotlib.pyplot as plt\n",
    "\n",
    "# First we import MDAnalysis\n",
    "import MDAnalysis as mda\n",
    "from MDAnalysis.tests.datafiles import PSF, DCD\n",
    "u = mda.Universe(PSF, DCD)"
   ]
  },
  {
   "cell_type": "markdown",
   "metadata": {
    "slideshow": {
     "slide_type": "slide"
    }
   },
   "source": [
    "# Existing analyses"
   ]
  },
  {
   "cell_type": "markdown",
   "metadata": {
    "cell_style": "split",
    "jp-MarkdownHeadingCollapsed": true,
    "slideshow": {
     "slide_type": "-"
    }
   },
   "source": [
    "https://userguide.mdanalysis.org/stable/examples/analysis/README.html#\n",
    "\n",
    "- **Alignment and RMS Fitting**\n",
    "\n",
    "- **Distances and Contacts**\n",
    "\n",
    "- **Trajectory Similarity**\n",
    "\n",
    "- **Structural Analysis**\n",
    "\n",
    "- **Structure**\n",
    "\n",
    "- **Volumetric analyses**\n",
    "\n",
    "- **Dimension reduction**\n",
    "\n",
    "- **Polymers and membranes**\n",
    "\n",
    "- **Hydrogen Bond Analysis**"
   ]
  },
  {
   "cell_type": "markdown",
   "metadata": {
    "slideshow": {
     "slide_type": "slide"
    }
   },
   "source": [
    "## Root Mean Square Deviation"
   ]
  },
  {
   "cell_type": "code",
   "execution_count": 3,
   "metadata": {},
   "outputs": [
    {
     "data": {
      "text/plain": [
       "<MDAnalysis.analysis.rms.RMSD at 0x14f77b310>"
      ]
     },
     "execution_count": 3,
     "metadata": {},
     "output_type": "execute_result"
    }
   ],
   "source": [
    "from MDAnalysis.analysis import rms\n",
    "R = rms.RMSD(u,  # universe to align\n",
    "             u,  # reference universe or atomgroup\n",
    "             select='backbone',  # group to superimpose and calculate RMSD\n",
    ")\n",
    "R.run()"
   ]
  },
  {
   "cell_type": "code",
   "execution_count": 4,
   "metadata": {},
   "outputs": [
    {
     "name": "stdout",
     "output_type": "stream",
     "text": [
      "[[0.00000000e+00 9.99999912e-01 5.83434382e-07]\n",
      " [1.00000000e+00 1.99999982e+00 4.63659217e-01]\n",
      " [2.00000000e+00 2.99999974e+00 6.41933990e-01]]\n"
     ]
    }
   ],
   "source": [
    "print(R.results.rmsd[:3])"
   ]
  },
  {
   "cell_type": "code",
   "execution_count": 5,
   "metadata": {
    "slideshow": {
     "slide_type": "subslide"
    }
   },
   "outputs": [
    {
     "data": {
      "text/plain": [
       "Text(0, 0.5, 'RMSD')"
      ]
     },
     "execution_count": 5,
     "metadata": {},
     "output_type": "execute_result"
    },
    {
     "data": {
      "image/png": "[encoded data removed]",
      "text/plain": [
       "<Figure size 640x480 with 1 Axes>"
      ]
     },
     "metadata": {},
     "output_type": "display_data"
    }
   ],
   "source": [
    "plt.plot(R.results.rmsd.T[0], R.results.rmsd.T[2])\n",
    "plt.xlabel('Frame')\n",
    "plt.ylabel('RMSD')"
   ]
  },
  {
   "cell_type": "markdown",
   "metadata": {
    "cell_style": "center",
    "slideshow": {
     "slide_type": "slide"
    }
   },
   "source": [
    "Let's see how it is created\n",
    "\n",
    "https://github.com/MDAnalysis/mdanalysis/blob/develop/package/MDAnalysis/analysis/rms.py\n",
    "\n",
    "```python\n",
    "class RMSD(AnalysisBase):\n",
    "    def __init__(self, ...):\n",
    "        # set parameters\n",
    "        super().__init__(universe.trajectory,\n",
    "                         **kwargs)\n",
    "        ...\n",
    "    def _prepare(self):\n",
    "        # called before iteration on the trajectory has begun.\n",
    "        self.results.rmsd = np.zeros(...)\n",
    "        ...\n",
    "    def _single_frame(self):\n",
    "        # called after the trajectory is moved onto each new frame.\n",
    "        self.results.rmsd[self._frame_index] = rmsd(...)\n",
    "        ...\n",
    "```"
   ]
  },
  {
   "cell_type": "markdown",
   "metadata": {
    "slideshow": {
     "slide_type": "slide"
    }
   },
   "source": [
    "**`AnalysisBase` handles all the heavy-lifting of iteration**\n",
    "\n",
    "https://github.com/MDAnalysis/mdanalysis/blob/develop/package/MDAnalysis/analysis/base.py#L223"
   ]
  },
  {
   "cell_type": "markdown",
   "metadata": {},
   "source": [
    "```python\n",
    "class AnalysisBase:\n",
    "   ...\n",
    "   def run(self, start, stop, step, ...):\n",
    "        self._setup_frames()\n",
    "        self._prepare()\n",
    "        for ts in self.trajectory:\n",
    "            self._single_frame()\n",
    "        self._conclude()\n",
    "        return self\n",
    "```"
   ]
  },
  {
   "cell_type": "markdown",
   "metadata": {
    "slideshow": {
     "slide_type": "subslide"
    }
   },
   "source": [
    "## More on RMSD options"
   ]
  },
  {
   "cell_type": "code",
   "execution_count": 6,
   "metadata": {
    "scrolled": true
   },
   "outputs": [
    {
     "name": "stdout",
     "output_type": "stream",
     "text": [
      "\u001b[0;31mInit signature:\u001b[0m\n",
      "\u001b[0mrms\u001b[0m\u001b[0;34m.\u001b[0m\u001b[0mRMSD\u001b[0m\u001b[0;34m(\u001b[0m\u001b[0;34m\u001b[0m\n",
      "\u001b[0;34m\u001b[0m    \u001b[0matomgroup\u001b[0m\u001b[0;34m,\u001b[0m\u001b[0;34m\u001b[0m\n",
      "\u001b[0;34m\u001b[0m    \u001b[0mreference\u001b[0m\u001b[0;34m=\u001b[0m\u001b[0;32mNone\u001b[0m\u001b[0;34m,\u001b[0m\u001b[0;34m\u001b[0m\n",
      "\u001b[0;34m\u001b[0m    \u001b[0mselect\u001b[0m\u001b[0;34m=\u001b[0m\u001b[0;34m'all'\u001b[0m\u001b[0;34m,\u001b[0m\u001b[0;34m\u001b[0m\n",
      "\u001b[0;34m\u001b[0m    \u001b[0mgroupselections\u001b[0m\u001b[0;34m=\u001b[0m\u001b[0;32mNone\u001b[0m\u001b[0;34m,\u001b[0m\u001b[0;34m\u001b[0m\n",
      "\u001b[0;34m\u001b[0m    \u001b[0mweights\u001b[0m\u001b[0;34m=\u001b[0m\u001b[0;32mNone\u001b[0m\u001b[0;34m,\u001b[0m\u001b[0;34m\u001b[0m\n",
      "\u001b[0;34m\u001b[0m    \u001b[0mweights_groupselections\u001b[0m\u001b[0;34m=\u001b[0m\u001b[0;32mFalse\u001b[0m\u001b[0;34m,\u001b[0m\u001b[0;34m\u001b[0m\n",
      "\u001b[0;34m\u001b[0m    \u001b[0mtol_mass\u001b[0m\u001b[0;34m=\u001b[0m\u001b[0;36m0.1\u001b[0m\u001b[0;34m,\u001b[0m\u001b[0;34m\u001b[0m\n",
      "\u001b[0;34m\u001b[0m    \u001b[0mref_frame\u001b[0m\u001b[0;34m=\u001b[0m\u001b[0;36m0\u001b[0m\u001b[0;34m,\u001b[0m\u001b[0;34m\u001b[0m\n",
      "\u001b[0;34m\u001b[0m    \u001b[0;34m**\u001b[0m\u001b[0mkwargs\u001b[0m\u001b[0;34m,\u001b[0m\u001b[0;34m\u001b[0m\n",
      "\u001b[0;34m\u001b[0m\u001b[0;34m)\u001b[0m\u001b[0;34m\u001b[0m\u001b[0;34m\u001b[0m\u001b[0m\n",
      "\u001b[0;31mDocstring:\u001b[0m     \n",
      "Class to perform RMSD analysis on a trajectory.\n",
      "\n",
      "The RMSD will be computed for two groups of atoms and all frames in the\n",
      "trajectory belonging to `atomgroup`. The groups of atoms are obtained by\n",
      "applying the selection selection `select` to the changing `atomgroup` and\n",
      "the fixed `reference`.\n",
      "\n",
      "Note\n",
      "----\n",
      "If you use trajectory data from simulations performed under **periodic\n",
      "boundary conditions** then you *must make your molecules whole* before\n",
      "performing RMSD calculations so that the centers of mass of the selected\n",
      "and reference structure are properly superimposed.\n",
      "\n",
      "\n",
      "Run the analysis with :meth:`RMSD.run`, which stores the results\n",
      "in the array :attr:`RMSD.results.rmsd`.\n",
      "\n",
      "\n",
      ".. versionchanged:: 1.0.0\n",
      "   ``save()`` method was removed, use ``np.savetxt()`` on\n",
      "   :attr:`RMSD.results.rmsd` instead.\n",
      ".. versionchanged:: 2.0.0\n",
      "   :attr:`rmsd` results are now stored in a\n",
      "   :class:`MDAnalysis.analysis.base.Results` instance.\n",
      "\u001b[0;31mInit docstring:\u001b[0m\n",
      "Parameters\n",
      "----------\n",
      "atomgroup : AtomGroup or Universe\n",
      "    Group of atoms for which the RMSD is calculated. If a trajectory is\n",
      "    associated with the atoms then the computation iterates over the\n",
      "    trajectory.\n",
      "reference : AtomGroup or Universe (optional)\n",
      "    Group of reference atoms; if ``None`` then the current frame of\n",
      "    `atomgroup` is used.\n",
      "select : str or dict or tuple (optional)\n",
      "    The selection to operate on; can be one of:\n",
      "\n",
      "    1. any valid selection string for\n",
      "       :meth:`~MDAnalysis.core.groups.AtomGroup.select_atoms` that\n",
      "       produces identical selections in `atomgroup` and `reference`; or\n",
      "\n",
      "    2. a dictionary ``{'mobile': sel1, 'reference': sel2}`` where *sel1*\n",
      "       and *sel2* are valid selection strings that are applied to\n",
      "       `atomgroup` and `reference` respectively (the\n",
      "       :func:`MDAnalysis.analysis.align.fasta2select` function returns such\n",
      "       a dictionary based on a ClustalW_ or STAMP_ sequence alignment); or\n",
      "\n",
      "    3. a tuple ``(sel1, sel2)``\n",
      "\n",
      "    When using 2. or 3. with *sel1* and *sel2* then these selection strings\n",
      "    are applied to `atomgroup` and `reference` respectively and should\n",
      "    generate *groups of equivalent atoms*.  *sel1* and *sel2* can each also\n",
      "    be a *list of selection strings* to generate a\n",
      "    :class:`~MDAnalysis.core.groups.AtomGroup` with defined atom order as\n",
      "    described under :ref:`ordered-selections-label`).\n",
      "\n",
      "groupselections : list (optional)\n",
      "    A list of selections as described for `select`, with the difference\n",
      "    that these selections are *always applied to the full universes*,\n",
      "    i.e., ``atomgroup.universe.select_atoms(sel1)`` and\n",
      "    ``reference.universe.select_atoms(sel2)``. Each selection describes\n",
      "    additional RMSDs to be computed *after the structures have been\n",
      "    superimposed* according to `select`. No additional fitting is\n",
      "    performed.The output contains one additional column for each\n",
      "    selection.\n",
      "\n",
      "    .. Note:: Experimental feature. Only limited error checking\n",
      "              implemented.\n",
      "\n",
      "weights : {\"mass\", ``None``} or array_like (optional)\n",
      "     1. \"mass\" will use masses as weights for both `select` and `groupselections`.\n",
      "\n",
      "     2. ``None`` will weigh each atom equally for both `select` and `groupselections`.\n",
      "\n",
      "     3. If 1D float array of the same length as `atomgroup` is provided,\n",
      "     use each element of the `array_like` as a weight for the\n",
      "     corresponding atom in `select`, and assumes ``None`` for `groupselections`.\n",
      "\n",
      "weights_groupselections : False or list of {\"mass\", ``None`` or array_like} (optional)\n",
      "     1. ``False`` will apply imposed weights to `groupselections` from\n",
      "     ``weights`` option if ``weights`` is either ``\"mass\"`` or ``None``. \n",
      "     Otherwise will assume a list of length equal to length of \n",
      "     `groupselections` filled with ``None`` values.\n",
      "\n",
      "     2. A list of {\"mass\", ``None`` or array_like} with the length of `groupselections`\n",
      "     will apply the weights to `groupselections` correspondingly.\n",
      "\n",
      "tol_mass : float (optional)\n",
      "     Reject match if the atomic masses for matched atoms differ by more\n",
      "     than `tol_mass`.\n",
      "ref_frame : int (optional)\n",
      "     frame index to select frame from `reference`\n",
      "verbose : bool (optional)\n",
      "     Show detailed progress of the calculation if set to ``True``; the\n",
      "     default is ``False``.\n",
      "\n",
      "Raises\n",
      "------\n",
      "SelectionError\n",
      "     If the selections from `atomgroup` and `reference` do not match.\n",
      "TypeError\n",
      "     If `weights` or `weights_groupselections` is not of the appropriate type;\n",
      "     see also :func:`MDAnalysis.lib.util.get_weights`\n",
      "ValueError\n",
      "     If `weights` are not compatible with `atomgroup` (not the same\n",
      "     length) or if it is not a 1D array (see\n",
      "     :func:`MDAnalysis.lib.util.get_weights`).\n",
      "\n",
      "     A :exc:`ValueError` is also raised if the length of `weights_groupselections`\n",
      "     are not compatible with `groupselections`.\n",
      "\n",
      "Notes\n",
      "-----\n",
      "The root mean square deviation :math:`\\rho(t)` of a group of :math:`N`\n",
      "atoms relative to a reference structure as a function of time is\n",
      "calculated as\n",
      "\n",
      ".. math::\n",
      "\n",
      "   \\rho(t) = \\sqrt{\\frac{1}{N} \\sum_{i=1}^N w_i \\left(\\mathbf{x}_i(t)\n",
      "                            - \\mathbf{x}_i^{\\text{ref}}\\right)^2}\n",
      "\n",
      "The weights :math:`w_i` are calculated from the input weights `weights`\n",
      ":math:`w'_i` as relative to the mean of the input weights:\n",
      "\n",
      ".. math::\n",
      "\n",
      "   w_i = \\frac{w'_i}{\\langle w' \\rangle}\n",
      "\n",
      "The selected coordinates from `atomgroup` are optimally superimposed\n",
      "(translation and rotation) on the `reference` coordinates at each time step\n",
      "as to minimize the RMSD. Douglas Theobald's fast QCP algorithm\n",
      "[Theobald2005]_ is used for the rotational superposition and to calculate\n",
      "the RMSD (see :mod:`MDAnalysis.lib.qcprot` for implementation details).\n",
      "\n",
      "The class runs various checks on the input to ensure that the two atom\n",
      "groups can be compared. This includes a comparison of atom masses (i.e.,\n",
      "only the positions of atoms of the same mass will be considered to be\n",
      "correct for comparison). If masses should not be checked, just set\n",
      "`tol_mass` to a large value such as 1000.\n",
      "\n",
      ".. _ClustalW: http://www.clustal.org/\n",
      ".. _STAMP: http://www.compbio.dundee.ac.uk/manuals/stamp.4.2/\n",
      "\n",
      "\n",
      "See Also\n",
      "--------\n",
      "rmsd\n",
      "\n",
      "\n",
      ".. versionadded:: 0.7.7\n",
      ".. versionchanged:: 0.8\n",
      "   `groupselections` added\n",
      ".. versionchanged:: 0.16.0\n",
      "   Flexible weighting scheme with new `weights` keyword.\n",
      ".. deprecated:: 0.16.0\n",
      "   Instead of ``mass_weighted=True`` (removal in 0.17.0) use new\n",
      "   ``weights='mass'``; refactored to fit with AnalysisBase API\n",
      ".. versionchanged:: 0.17.0\n",
      "   removed deprecated `mass_weighted` keyword; `groupselections`\n",
      "   are *not* rotationally superimposed any more.\n",
      ".. versionchanged:: 1.0.0\n",
      "   `filename` keyword was removed.\n",
      "\u001b[0;31mFile:\u001b[0m           ~/mambaforge/envs/mda_workshop/lib/python3.11/site-packages/MDAnalysis/analysis/rms.py\n",
      "\u001b[0;31mType:\u001b[0m           type\n",
      "\u001b[0;31mSubclasses:\u001b[0m     "
     ]
    }
   ],
   "source": [
    "rms.RMSD?"
   ]
  },
  {
   "cell_type": "markdown",
   "metadata": {
    "slideshow": {
     "slide_type": "subslide"
    }
   },
   "source": [
    "**As trajectory progresses, objects e.g. `Atomgroup` will switch their states/properties.**"
   ]
  },
  {
   "cell_type": "code",
   "execution_count": 7,
   "metadata": {},
   "outputs": [
    {
     "name": "stdout",
     "output_type": "stream",
     "text": [
      "< Timestep 0 >\n",
      "[ 11.736044   8.500797 -10.445281]\n",
      "< Timestep 1 >\n",
      "[ 11.505546   8.062977 -10.38611 ]\n",
      "< Timestep 2 >\n",
      "[ 11.694641   8.390831 -10.681395]\n"
     ]
    }
   ],
   "source": [
    "atom_1 = u.atoms[0]\n",
    "for ts in u.trajectory[:3]:\n",
    "    print(ts)\n",
    "    print(atom_1.position)"
   ]
  },
  {
   "cell_type": "markdown",
   "metadata": {},
   "source": [
    "It helps to write a timestep-agnostic `_single_frame`. But also keep in mind that when you need atom positions that don't change for each frame (e.g. a reference), you should convert them into an array!"
   ]
  },
  {
   "cell_type": "markdown",
   "metadata": {
    "slideshow": {
     "slide_type": "slide"
    }
   },
   "source": [
    "# A summary of Lecture 3\n",
    "- extensive analysis modules maintained in MDAnalysis\n",
    "- `AnalysisBase` automatically sets up your trajectory reader for iterating\n",
    "- `AtomGroup` will switch its state during iteration "
   ]
  },
  {
   "cell_type": "markdown",
   "metadata": {
    "slideshow": {
     "slide_type": "slide"
    }
   },
   "source": [
    "## Now - on to the third tutorial!\n",
    "\n",
    "Find the tutorial notebook `Tutorial3_Analysis` under: \n",
    "\n",
    "https://github.com/MDAnalysis/MDAnalysisMolSSIWorkshop-Intermediate2Day/blob/jun24-ws/notebooks/Tutorial3_Analysis.ipynb\n",
    "\n",
    "**Remember:**\n",
    "- Go at your own pace!\n",
    "- Ask questions!\n",
    "- Take breaks!\n",
    "- Don't be afraid to read documentation (and source code)"
   ]
  }
 ],
 "metadata": {
  "celltoolbar": "Slideshow",
  "hide_input": false,
  "kernelspec": {
   "display_name": "Python 3 (ipykernel)",
   "language": "python",
   "name": "python3"
  },
  "language_info": {
   "codemirror_mode": {
    "name": "ipython",
    "version": 3
   },
   "file_extension": ".py",
   "mimetype": "text/x-python",
   "name": "python",
   "nbconvert_exporter": "python",
   "pygments_lexer": "ipython3",
   "version": "3.11.9"
  },
  "toc": {
   "base_numbering": 1,
   "nav_menu": {},
   "number_sections": true,
   "sideBar": true,
   "skip_h1_title": false,
   "title_cell": "Table of Contents",
   "title_sidebar": "Contents",
   "toc_cell": false,
   "toc_position": {},
   "toc_section_display": true,
   "toc_window_display": false
  }
 },
 "nbformat": 4,
 "nbformat_minor": 4
}
