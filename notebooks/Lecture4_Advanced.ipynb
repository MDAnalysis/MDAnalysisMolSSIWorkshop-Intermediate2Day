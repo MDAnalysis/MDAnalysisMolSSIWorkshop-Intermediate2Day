{
 "cells": [
  {
   "cell_type": "markdown",
   "metadata": {
    "slideshow": {
     "slide_type": "slide"
    }
   },
   "source": [
    "# **<center> Part 4: Advanced Features of MDAnalysis </center>**\n"
   ]
  },
  {
   "cell_type": "markdown",
   "metadata": {
    "slideshow": {
     "slide_type": "slide"
    }
   },
   "source": [
    "MDAnalysis has plenty of other features for users and developers! You can find these by exploring our [User Guide](https://userguide.mdanalysis.org/stable/index.html) and [Documentation](https://docs.mdanalysis.org/stable/index.html). We're going to quickly run through some of them now:\n",
    "\n",
    "1. Distance calculations with `lib.distances`\n",
    "2. Universe creation and adding topology attributes\n",
    "3. Working with \"Auxiliary data\"\n",
    "4. On-the-fly transformations"
   ]
  },
  {
   "cell_type": "markdown",
   "metadata": {
    "slideshow": {
     "slide_type": "slide"
    }
   },
   "source": [
    "## 1. The `lib.distances` module"
   ]
  },
  {
   "cell_type": "markdown",
   "metadata": {
    "cell_style": "center",
    "slideshow": {
     "slide_type": "-"
    }
   },
   "source": [
    "Distance calculations come up frequently in analyses. Particle positions are given as numpy arrays, so most work can be done using numpy (and numpy derived) libraries. To save writing your own distance calculations, use those in the included `lib.distance` module! \n",
    "\n",
    "- `lib.distances` is particularly handy for considering periodic boundary conditions (which numpy cannot handle). Box information is passed in as `box=ag.dimensions` "
   ]
  },
  {
   "cell_type": "code",
   "execution_count": 4,
   "metadata": {},
   "outputs": [
    {
     "name": "stdout",
     "output_type": "stream",
     "text": [
      "<module 'MDAnalysis.lib.distances' from '/home/fiona/miniforge3/envs/mda_workshop/lib/python3.11/site-packages/MDAnalysis/lib/distances.py'>\n"
     ]
    }
   ],
   "source": [
    "import MDAnalysis as mda\n",
    "from MDAnalysis.lib import distances\n",
    " \n",
    "print(distances)"
   ]
  },
  {
   "cell_type": "code",
   "execution_count": 30,
   "metadata": {},
   "outputs": [],
   "source": [
    "from MDAnalysis.tests.datafiles import TPR, TRR\n",
    "u = mda.Universe(TPR, TRR)\n",
    "\n",
    "import warnings\n",
    "warnings.filterwarnings(\"ignore\") "
   ]
  },
  {
   "cell_type": "markdown",
   "metadata": {
    "cell_style": "split",
    "slideshow": {
     "slide_type": "slide"
    }
   },
   "source": [
    "- `distance_array`: All **pairwise distances** between **two** arrays of coordinates"
   ]
  },
  {
   "cell_type": "code",
   "execution_count": 6,
   "metadata": {
    "cell_style": "split",
    "slideshow": {
     "slide_type": "-"
    }
   },
   "outputs": [
    {
     "name": "stdout",
     "output_type": "stream",
     "text": [
      "Our input atomgroups has sizes 10 and 20, the output has shape: (10, 20)\n",
      "\n",
      "The distance between <Atom 4: H3 of type opls_290 of resname MET, resid 1 and segid seg_0_AKeco> and <Atom 16: HE2 of type opls_140 of resname MET, resid 1 and segid seg_0_AKeco> is: 6.19140688959118 A\n"
     ]
    }
   ],
   "source": [
    "ag1 = u.atoms[:10]\n",
    "ag2 = u.atoms[10:30]\n",
    "\n",
    "da = distances.distance_array(ag1.positions, \n",
    "                              ag2.positions,\n",
    "                              box=u.dimensions)\n",
    "\n",
    "print(f'Our input atomgroups has sizes {len(ag1)} '\n",
    "      f'and {len(ag2)}, the output has shape: '\n",
    "      f'{da.shape}')\n",
    "print()\n",
    "\n",
    "# The output of distance array is a matrix of the \n",
    "# distance between each position in the first \n",
    "# coordinate array and each position in the second \n",
    "# coordinate array.\n",
    "print(f'The distance between {ag1[3]} and {ag2[5]} '\n",
    "      f'is: {da[3, 5]} A')"
   ]
  },
  {
   "cell_type": "markdown",
   "metadata": {
    "cell_style": "split",
    "slideshow": {
     "slide_type": "slide"
    }
   },
   "source": [
    "- `self_distance_array`: All **pairwise distances** within **a single** coordinate array"
   ]
  },
  {
   "cell_type": "code",
   "execution_count": 7,
   "metadata": {
    "cell_style": "split",
    "slideshow": {
     "slide_type": "-"
    }
   },
   "outputs": [
    {
     "name": "stdout",
     "output_type": "stream",
     "text": [
      "Our input AtomGroup has size 10 and the output has shape (45,)\n"
     ]
    }
   ],
   "source": [
    "sda = distances.self_distance_array(ag1.positions,\n",
    "                                    box=None)\n",
    "\n",
    "print(f'Our input AtomGroup has size {len(ag1)} '\n",
    "      f'and the output has shape {sda.shape}')\n"
   ]
  },
  {
   "cell_type": "markdown",
   "metadata": {
    "cell_style": "split",
    "slideshow": {
     "slide_type": "slide"
    }
   },
   "source": [
    "- `calc_bonds`: The distance between pairs from **two arrays** of coordinates of **equal length**."
   ]
  },
  {
   "cell_type": "code",
   "execution_count": 9,
   "metadata": {
    "cell_style": "split"
   },
   "outputs": [
    {
     "name": "stdout",
     "output_type": "stream",
     "text": [
      "The inputs has length 10 and 10 and the output has shape (10,)\n",
      "\n",
      "The distance between the first coordinate in each array is: 4.759779866326316 A\n"
     ]
    }
   ],
   "source": [
    "coords1 = u.atoms[:10].positions\n",
    "coords2 = u.atoms[10:20].positions\n",
    "dist = distances.calc_bonds(coords1, \n",
    "                            coords2, \n",
    "                            box=None)\n",
    "\n",
    "print(f'The inputs has length {len(coords1)} and '\n",
    "      f'{len(coords2)} and the output has shape '\n",
    "      f'{dist.shape}')\n",
    "print()\n",
    "print(f'The distance between the first coordinate '\n",
    "      f'in each array is: {dist[0]} A')"
   ]
  },
  {
   "cell_type": "markdown",
   "metadata": {
    "cell_style": "split",
    "slideshow": {
     "slide_type": "slide"
    }
   },
   "source": [
    "- `calc_angles` and `calc_dihedrals`: The angle/dihedral angle between 3/4 arrays of coordinates of equal length."
   ]
  },
  {
   "cell_type": "code",
   "execution_count": 13,
   "metadata": {
    "cell_style": "split",
    "slideshow": {
     "slide_type": "-"
    }
   },
   "outputs": [
    {
     "name": "stdout",
     "output_type": "stream",
     "text": [
      "The inputs have length 10, 10 and 10; the output has shape (10,). The first angle is 46.07622285213596.\n",
      "The inputs have length 10, 10, 10 and 10; the output has shape (10,). The first angle is -50.1028437342708\n"
     ]
    }
   ],
   "source": [
    "import numpy as np\n",
    "coords1 = u.atoms[:10].positions\n",
    "coords2 = u.atoms[10:20].positions\n",
    "coords3 = u.atoms[20:30].positions\n",
    "coords4 = u.atoms[30:40].positions\n",
    "\n",
    "# The middle array is the apex of the angle\n",
    "angles = distances.calc_angles(\n",
    "            coords1, coords2, coords3)\n",
    "print(f'The inputs have length {len(coords1)}, '\n",
    "      f'{len(coords2)} and {len(coords3)}; the '\n",
    "      f'output has shape {dist.shape}. The first '\n",
    "      f'angle is {np.rad2deg(angles)[0]}.')\n",
    "\n",
    "# Dihedral angle is between plane of the first \n",
    "# three #coordinates and plan of the second three\n",
    "dihedrals = distances.calc_dihedrals(\n",
    "               coords1, coords2, coords3, coords4)\n",
    "print(f'The inputs have length {len(coords1)}, '\n",
    "      f'{len(coords2)}, {len(coords3)} and '\n",
    "      f'{len(coords4)}; the output has shape '\n",
    "      f'{dist.shape}. The first angle is '\n",
    "      f'{np.rad2deg(dihedrals)[0]}')"
   ]
  },
  {
   "cell_type": "markdown",
   "metadata": {
    "cell_style": "split",
    "slideshow": {
     "slide_type": "slide"
    }
   },
   "source": [
    "- `capped_distance`: distances between coordinates from **two arrays** that are **within a specified cut-off**\n",
    "- `self_capped_distance`: distances between coordinates from a **single arrays** that are **within a specified cut-off**"
   ]
  },
  {
   "cell_type": "code",
   "execution_count": 14,
   "metadata": {
    "cell_style": "split",
    "slideshow": {
     "slide_type": "-"
    }
   },
   "outputs": [
    {
     "name": "stdout",
     "output_type": "stream",
     "text": [
      "We found 70 contacts less then 4.0 A\n",
      "\n",
      "The first three are [[0 9]\n",
      " [0 7]\n",
      " [0 8]] at distances [3.51211077 2.46426988 2.90528184]\n"
     ]
    }
   ],
   "source": [
    "ag1 = u.atoms[:10]\n",
    "ag2 = u.atoms[10:30]\n",
    "\n",
    "# returns an array of indicies and an array of distances\n",
    "ix, dist = distances.capped_distance(\n",
    "                          ag1.positions, \n",
    "                          ag2.positions, \n",
    "                          min_cutoff=1.0,\n",
    "                          max_cutoff=4.0,\n",
    "                          box=u.dimensions)\n",
    "\n",
    "print(f'We found {len(ix)} contacts less then 4.0 A')\n",
    "print()\n",
    "print(f'The first three are {ix[:3]} at '\n",
    "      f'distances {dist[:3]}')\n"
   ]
  },
  {
   "cell_type": "markdown",
   "metadata": {
    "cell_style": "center",
    "slideshow": {
     "slide_type": "slide"
    }
   },
   "source": [
    "### Summary\n",
    "- `distance_array`: All **pairwise distances** between **two** arrays of coordinates\n",
    "- `self_distance_array`: All **pairwise distances** within **a single** coordinate array\n",
    "- `calc_bonds`: The distance between pairs from **two arrays** of coordinates of **equal length**.\n",
    "- `calc_angles` and `calc_dihedrals`: The angle/dihedral angle between 3/4 arrays of coordinates of equal length.\n",
    "- `capped_distance`: distances between coordinates from **two arrays** that are **within a specified cut-off**\n",
    "- `self_capped_distance`: distances between coordinates from a **single array** that are **within a specified cut-off**"
   ]
  },
  {
   "cell_type": "markdown",
   "metadata": {
    "slideshow": {
     "slide_type": "slide"
    }
   },
   "source": [
    "## 2. Creating and modifying Universes and Topology Attributes\n"
   ]
  },
  {
   "cell_type": "markdown",
   "metadata": {
    "slideshow": {
     "slide_type": "slide"
    }
   },
   "source": [
    "   ### New Universes using `Universe.empty`"
   ]
  },
  {
   "cell_type": "markdown",
   "metadata": {
    "cell_style": "split"
   },
   "source": [
    "Whilst `MDAnalysis` is designed for reading pre existing simulation files, there are also some features which allow the construction of systems.\n",
    "\n",
    "A `Universe` object can also be constructed from the `Universe.empty` method, which is similar to `np.zeros`.\n",
    "\n",
    "Initially, atoms will have no topology attributes and positions will be 0."
   ]
  },
  {
   "cell_type": "code",
   "execution_count": 31,
   "metadata": {
    "cell_style": "split"
   },
   "outputs": [
    {
     "name": "stdout",
     "output_type": "stream",
     "text": [
      "<AtomGroup [<Atom 1:>, <Atom 2:>, <Atom 3:>, ..., <Atom 19:>, <Atom 20:>, <Atom 21:>]>\n",
      "<ResidueGroup [<Residue>, <Residue>, <Residue>, <Residue>, <Residue>, <Residue>, <Residue>]>\n",
      "[[0. 0. 0.]\n",
      " [0. 0. 0.]\n",
      " [0. 0. 0.]\n",
      " [0. 0. 0.]\n",
      " [0. 0. 0.]\n",
      " [0. 0. 0.]\n",
      " [0. 0. 0.]\n",
      " [0. 0. 0.]\n",
      " [0. 0. 0.]\n",
      " [0. 0. 0.]\n",
      " [0. 0. 0.]\n",
      " [0. 0. 0.]\n",
      " [0. 0. 0.]\n",
      " [0. 0. 0.]\n",
      " [0. 0. 0.]\n",
      " [0. 0. 0.]\n",
      " [0. 0. 0.]\n",
      " [0. 0. 0.]\n",
      " [0. 0. 0.]\n",
      " [0. 0. 0.]\n",
      " [0. 0. 0.]]\n"
     ]
    }
   ],
   "source": [
    "u_new = mda.Universe.empty(n_atoms=21, n_residues=7,\n",
    "                       trajectory=True)\n",
    "\n",
    "print(u_new.atoms)\n",
    "print(u_new.residues)\n",
    "print(u_new.atoms.positions)\n"
   ]
  },
  {
   "cell_type": "markdown",
   "metadata": {
    "slideshow": {
     "slide_type": "slide"
    }
   },
   "source": [
    "### Adding topoology attributes"
   ]
  },
  {
   "cell_type": "markdown",
   "metadata": {
    "cell_style": "split",
    "slideshow": {
     "slide_type": "-"
    }
   },
   "source": [
    "We can then add topology attributes to any universe using `add_TopologyAttr`.\n",
    "Only 'established' topology attributes can be added. Existing topology attributes are listed in the [User Guide](https://userguide.mdanalysis.org/stable/topology_system.html).\n",
    "\n",
    "- You can also use `add_TopologyAttr` to add a topology attribute to a Universe created from a file where that attribute is not supported.\n",
    "\n",
    "Positions can be assigned directly."
   ]
  },
  {
   "cell_type": "code",
   "execution_count": 16,
   "metadata": {
    "cell_style": "split"
   },
   "outputs": [
    {
     "name": "stdout",
     "output_type": "stream",
     "text": [
      "<AtomGroup [<Atom 1: A of type CA resid 1>, <Atom 2: A of type CA resid 1>, <Atom 3: A of type CA resid 1>, ..., <Atom 19: A of type CA resid 7>, <Atom 20: A of type CA resid 7>, <Atom 21: A of type CA resid 7>]>\n",
      "<ResidueGroup [<Residue 1>, <Residue 2>, <Residue 3>, <Residue 4>, <Residue 5>, <Residue 6>, <Residue 7>]>\n",
      "[[1. 1. 1.]\n",
      " [1. 1. 1.]\n",
      " [1. 1. 1.]\n",
      " [1. 1. 1.]\n",
      " [1. 1. 1.]\n",
      " [1. 1. 1.]\n",
      " [1. 1. 1.]\n",
      " [1. 1. 1.]\n",
      " [1. 1. 1.]\n",
      " [1. 1. 1.]\n",
      " [1. 1. 1.]\n",
      " [1. 1. 1.]\n",
      " [1. 1. 1.]\n",
      " [1. 1. 1.]\n",
      " [1. 1. 1.]\n",
      " [1. 1. 1.]\n",
      " [1. 1. 1.]\n",
      " [1. 1. 1.]\n",
      " [1. 1. 1.]\n",
      " [1. 1. 1.]\n",
      " [1. 1. 1.]]\n"
     ]
    }
   ],
   "source": [
    "# adding topology attributes\n",
    "u_new.add_TopologyAttr('mass', values=[10.0] * 21)\n",
    "u_new.add_TopologyAttr('name', values=['A'] * 21)\n",
    "u_new.add_TopologyAttr('type', values=['CA'] * 21)\n",
    "u_new.add_TopologyAttr('resid', values=range(1,8))\n",
    "\n",
    "# assiging atoms to residues\n",
    "for i, res in enumerate(u_new.residues):\n",
    "    u_new.atoms[i*3].residue = res\n",
    "    u_new.atoms[i*3+1].residue = res\n",
    "    u_new.atoms[i*3+2].residue = res\n",
    "    \n",
    "# adding positions\n",
    "u_new.atoms.positions = [[1,1,1]]*21\n",
    "\n",
    "print(u_new.atoms)\n",
    "print(u_new.residues)\n",
    "print(u_new.atoms.positions)"
   ]
  },
  {
   "cell_type": "markdown",
   "metadata": {
    "slideshow": {
     "slide_type": "slide"
    }
   },
   "source": [
    "### Adding custom topology attributes\n"
   ]
  },
  {
   "cell_type": "markdown",
   "metadata": {
    "cell_style": "split"
   },
   "source": [
    "You can also add custom attributes by defining a Topology Attribute class!\n",
    "\n",
    "These attributes will then also be available for use in selection strings."
   ]
  },
  {
   "cell_type": "code",
   "execution_count": 17,
   "metadata": {
    "cell_style": "split"
   },
   "outputs": [
    {
     "name": "stdout",
     "output_type": "stream",
     "text": [
      "Initial bounciness: [False False False False False False False False False False False False\n",
      " False False False False False False False False False]\n",
      "Total bouncy atoms: 0\n",
      "\n",
      "Reassigned bounciness: [ True False  True False  True False  True False  True False  True False\n",
      "  True False  True False  True False  True False  True]\n",
      "Total bouncy atoms: 11\n"
     ]
    }
   ],
   "source": [
    "from MDAnalysis.core.topologyattrs import AtomAttr\n",
    "\n",
    "class Bounciness(AtomAttr):\n",
    "    dtype=bool\n",
    "    attrname='bounciness'\n",
    "    singular='bouncy'\n",
    "    per_object='atom'\n",
    "\n",
    "# add the attriubte, with default value False (0)\n",
    "u_new.add_TopologyAttr(Bounciness([0]*21))\n",
    "print('Initial bounciness:', u_new.atoms.bounciness)\n",
    "bouncy_atoms = u_new.select_atoms(\"bouncy\")\n",
    "print('Total bouncy atoms:', len(bouncy_atoms))\n",
    "print()\n",
    "\n",
    "u_new.atoms[::2].bounciness = True\n",
    "print('Reassigned bounciness:', u_new.atoms.bounciness)\n",
    "bouncy_atoms = u_new.select_atoms(\"bouncy\")\n",
    "print('Total bouncy atoms:', len(bouncy_atoms))"
   ]
  },
  {
   "cell_type": "markdown",
   "metadata": {
    "slideshow": {
     "slide_type": "slide"
    }
   },
   "source": [
    "### New Universes using `Merge`"
   ]
  },
  {
   "cell_type": "markdown",
   "metadata": {
    "cell_style": "split"
   },
   "source": [
    "We can use `MDAnalysis.Merge` to create new Universes from `AtomGroups`.\n",
    "\n",
    "This could be a single atom group, or multiple atom groups from different Universes."
   ]
  },
  {
   "cell_type": "code",
   "execution_count": 18,
   "metadata": {
    "cell_style": "split"
   },
   "outputs": [
    {
     "name": "stdout",
     "output_type": "stream",
     "text": [
      "Our original Universe: <Universe with 21 atoms>\n",
      "Universe with only even residues: <Universe with 9 atoms>\n",
      "Universe with only odd residues: <Universe with 12 atoms>\n",
      "Back together again: <Universe with 21 atoms>\n"
     ]
    }
   ],
   "source": [
    "print(\"Our original Universe:\", u_new)\n",
    "\n",
    "# even residues only\n",
    "residue_even = mda.Merge(u_new.select_atoms(\n",
    "                                    \"resid 2 4 6\"))\n",
    "print(\"Universe with only even residues:\", \n",
    "      residue_even)\n",
    "\n",
    "# odd residues only \n",
    "residue_odd = mda.Merge(u_new.select_atoms(\n",
    "                                  \"resid 1 3 5 7\"))\n",
    "print(\"Universe with only odd residues:\", \n",
    "      residue_odd)\n",
    "\n",
    "# Now let's combine them!\n",
    "residue_all = mda.Merge(residue_even.atoms, residue_odd.atoms)\n",
    "print(\"Back together again:\", residue_all)"
   ]
  },
  {
   "cell_type": "markdown",
   "metadata": {
    "slideshow": {
     "slide_type": "slide"
    }
   },
   "source": [
    "## 3. Auxiliary Data"
   ]
  },
  {
   "cell_type": "markdown",
   "metadata": {
    "cell_style": "split"
   },
   "source": [
    "Auxiliary readers allow you to read in timeseries data accompanying a trajectory that is not stored in the regular trajectory file.\n",
    "\n",
    "Auxiliary data may be added to a trajectory Reader through the `add_auxiliary()` method. Values from the auxiliary file will be read in, matching the timestep as the trajectory is iterated through, and are accessed as `ts.aux.<auxiliary_name>`."
   ]
  },
  {
   "cell_type": "code",
   "execution_count": 19,
   "metadata": {
    "cell_style": "split"
   },
   "outputs": [
    {
     "name": "stdout",
     "output_type": "stream",
     "text": [
      "[    0.        200.71288 -1552.2849  ...   128.4072   1386.0378\n",
      " -2699.3118 ]\n",
      "[   50.      -1082.6454   -658.32166 ...  -493.02954   589.8844\n",
      "  -739.2124 ]\n",
      "[  100.       -246.27269   146.52911 ...   484.32501  2332.3767\n",
      " -1801.6234 ]\n"
     ]
    },
    {
     "name": "stderr",
     "output_type": "stream",
     "text": [
      "/home/fiona/miniforge3/envs/mda_workshop/lib/python3.11/site-packages/MDAnalysis/topology/PDBParser.py:331: UserWarning: Element information is missing, elements attribute will not be populated. If needed these can be guessed using MDAnalysis.topology.guessers.\n",
      "  warnings.warn(\"Element information is missing, elements attribute \"\n"
     ]
    }
   ],
   "source": [
    "from MDAnalysis.tests.datafiles import PDB_xvf, TRR_xvf, XVG_BZ2\n",
    "\n",
    "u_aux = mda.Universe(PDB_xvf, TRR_xvf)\n",
    "\n",
    "# The XVG_BZ2 file contains force information not\n",
    "# present in the trajectory/topology file.\n",
    "# Let's add this with the name 'forces'\n",
    "u_aux.trajectory.add_auxiliary('forces', XVG_BZ2)\n",
    "\n",
    "# We can now access the force at each timestep\n",
    "# as we iteracte through the trajectory\n",
    "for ts in u_aux.trajectory:\n",
    "    print(ts.aux.forces)\n",
    "    \n",
    "# The first element of each array is the time; the \n",
    "# remainder are values from the XVG file."
   ]
  },
  {
   "cell_type": "markdown",
   "metadata": {
    "slideshow": {
     "slide_type": "slide"
    }
   },
   "source": [
    "## 4. Transformations"
   ]
  },
  {
   "cell_type": "markdown",
   "metadata": {
    "cell_style": "split",
    "slideshow": {
     "slide_type": "-"
    }
   },
   "source": [
    "We often wish to apply transformations to each frame of a trajectory in order to e.g. remove effects of periodic boundary conditions or align to a reference structure. "
   ]
  },
  {
   "cell_type": "code",
   "execution_count": 20,
   "metadata": {
    "cell_style": "split"
   },
   "outputs": [
    {
     "data": {
      "application/vnd.jupyter.widget-view+json": {
       "model_id": "c2ae23d6f8014b1ca6dc733ccda2ca03",
       "version_major": 2,
       "version_minor": 0
      },
      "text/plain": []
     },
     "metadata": {},
     "output_type": "display_data"
    },
    {
     "data": {
      "application/vnd.jupyter.widget-view+json": {
       "model_id": "0a3952eeaa654de49dadbf6ac2ab8f50",
       "version_major": 2,
       "version_minor": 0
      },
      "text/plain": [
       "NGLWidget(max_frame=9)"
      ]
     },
     "metadata": {},
     "output_type": "display_data"
    }
   ],
   "source": [
    "import nglview as nv\n",
    "view = nv.show_mdanalysis(u)\n",
    "view"
   ]
  },
  {
   "cell_type": "markdown",
   "metadata": {
    "cell_style": "center",
    "slideshow": {
     "slide_type": "slide"
    }
   },
   "source": [
    "### Wrapping/Unwrapping from the periodic box "
   ]
  },
  {
   "cell_type": "markdown",
   "metadata": {
    "cell_style": "split"
   },
   "source": [
    "You can remove the effects of the periodic box in the current frame using `unwrap`. You can also use `wrap` to translate atoms back into the unit cell.\n",
    "\n",
    "- For wrapping/unwrapping to be persistent, you need to to load the Universe in memory\n",
    "- Wrapping/unwrapping is based on `Bonds` - they won't work if `Bonds` are missing from your universe. `guess_bonds` (specified when loading a Universe or applied to an `AtomGroup`) can be used to guess bonds based on distances.\n",
    "\n",
    "To apply the transformation to every frame, you could loop through the trajectory - or..."
   ]
  },
  {
   "cell_type": "code",
   "execution_count": 21,
   "metadata": {
    "cell_style": "split"
   },
   "outputs": [
    {
     "data": {
      "text/plain": [
       "array([[ 52.017067 ,  43.56005  ,  31.554958 ],\n",
       "       [ 51.18792  ,  44.112053 ,  31.722015 ],\n",
       "       [ 51.550823 ,  42.827724 ,  31.038803 ],\n",
       "       ...,\n",
       "       [105.341995 ,  74.072    ,  40.988003 ],\n",
       "       [ 57.684002 ,  35.323997 ,  14.804    ],\n",
       "       [ 62.961002 ,  47.239    ,   3.7529998]], dtype=float32)"
      ]
     },
     "execution_count": 21,
     "metadata": {},
     "output_type": "execute_result"
    }
   ],
   "source": [
    "u_mem = mda.Universe(TPR, TRR, in_memory=True)\n",
    "u_mem.atoms.unwrap(reference='cog')"
   ]
  },
  {
   "cell_type": "code",
   "execution_count": 22,
   "metadata": {
    "cell_style": "split"
   },
   "outputs": [
    {
     "data": {
      "application/vnd.jupyter.widget-view+json": {
       "model_id": "d6cedc4020de41ffb4528397b37b3666",
       "version_major": 2,
       "version_minor": 0
      },
      "text/plain": [
       "NGLWidget(max_frame=9)"
      ]
     },
     "metadata": {},
     "output_type": "display_data"
    }
   ],
   "source": [
    "view_unwrap = nv.show_mdanalysis(u_mem)\n",
    "view_unwrap"
   ]
  },
  {
   "cell_type": "markdown",
   "metadata": {
    "slideshow": {
     "slide_type": "slide"
    }
   },
   "source": [
    "### On-the-fly Transformations"
   ]
  },
  {
   "cell_type": "markdown",
   "metadata": {
    "cell_style": "split"
   },
   "source": [
    "Transformations can be added to a trajectory using `u.trajectory.add_transformations`. These will be performed 'on the fly' as the trajectory is iterated through - no need to load the trajectory to memory. **Note** - you can only add transformations once!\n",
    "\n",
    "A number of common transformations are available in `MDAnalysis.transformations` - see the [documentation](https://docs.mdanalysis.org/stable/documentation_pages/trajectory_transformations.html#currently-implemented-transformations). These include:\n",
    " - translation and rotation\n",
    " - center in unit cell\n",
    " - fit to a reference\n",
    " - wrap/unrap over unit cell\n",
    "\n"
   ]
  },
  {
   "cell_type": "code",
   "execution_count": 28,
   "metadata": {
    "cell_style": "split"
   },
   "outputs": [
    {
     "data": {
      "application/vnd.jupyter.widget-view+json": {
       "model_id": "5fef5af0e81d4979bfe225e93330a01f",
       "version_major": 2,
       "version_minor": 0
      },
      "text/plain": [
       "NGLWidget(max_frame=9)"
      ]
     },
     "metadata": {},
     "output_type": "display_data"
    }
   ],
   "source": [
    "from MDAnalysis import transformations as trans\n",
    "u_wrap = mda.Universe(TPR, TRR)\n",
    "protein = u_wrap.select_atoms('protein')\n",
    "water = u_wrap.select_atoms('resname SOL')\n",
    "\n",
    "workflow = [trans.unwrap(u_wrap.atoms),\n",
    "            trans.center_in_box(protein, \n",
    "                                center='geometry'),\n",
    "            trans.wrap(water, compound='residues')]\n",
    "\n",
    "u_wrap.trajectory.add_transformations(*workflow)\n",
    "\n",
    "view_trans = nv.show_mdanalysis(u_wrap)\n",
    "view_trans\n"
   ]
  },
  {
   "cell_type": "markdown",
   "metadata": {
    "cell_style": "center",
    "slideshow": {
     "slide_type": "slide"
    }
   },
   "source": [
    "## Custom transformations\n"
   ]
  },
  {
   "cell_type": "markdown",
   "metadata": {
    "cell_style": "split"
   },
   "source": [
    "Custom transformations can be defined and applied in the same way as the built-in transformations.\n",
    "\n",
    "At its core, a transformation function must only take a `Timestep` object as its input, and return the `Timestep` as the output.\n",
    "\n",
    "- If your transformation needs extra input (e.g. atom selections), you can use a wrapped function - see the Tutorial for more!"
   ]
  },
  {
   "cell_type": "code",
   "execution_count": 29,
   "metadata": {
    "cell_style": "split"
   },
   "outputs": [],
   "source": [
    "def up_by_2(ts):\n",
    "    \"\"\"Translates atoms up by 2 angstrom\"\"\"\n",
    "    ts.positions += np.array([0.0, 0.0, 0.2])\n",
    "    return ts\n",
    "\n",
    "# If a translation doesn't require extra \n",
    "# information, it can be added directly when \n",
    "# creating the universe\n",
    "u_up = mda.Universe(TPR, TRR, \n",
    "                    transformations=[up_by_2])"
   ]
  },
  {
   "cell_type": "markdown",
   "metadata": {
    "slideshow": {
     "slide_type": "slide"
    }
   },
   "source": [
    "# Summary\n",
    "\n",
    "We took a brief look at:\n",
    "\n",
    "1. Measuring distances with lib.distances\n",
    "2. Making Universes and adding atoms/attributes to them\n",
    "3. Reading in other timestep data with Auxiliary readers\n",
    "4. Applying on-the-fly transformations\n",
    "\n",
    "Tutorial 4 has some more example on each of these to play around with. You don't have to do through all of them - pick the ones interesting to you (or continue working on the earlier notebooks). Also remember User Guide/Documentation (also things we haven't covered - User Guide, Docs, ask)!"
   ]
  }
 ],
 "metadata": {
  "celltoolbar": "Slideshow",
  "hide_input": false,
  "kernelspec": {
   "display_name": "Python 3 (ipykernel)",
   "language": "python",
   "name": "python3"
  },
  "language_info": {
   "codemirror_mode": {
    "name": "ipython",
    "version": 3
   },
   "file_extension": ".py",
   "mimetype": "text/x-python",
   "name": "python",
   "nbconvert_exporter": "python",
   "pygments_lexer": "ipython3",
   "version": "3.11.8"
  },
  "toc": {
   "base_numbering": 1,
   "nav_menu": {},
   "number_sections": true,
   "sideBar": true,
   "skip_h1_title": false,
   "title_cell": "Table of Contents",
   "title_sidebar": "Contents",
   "toc_cell": false,
   "toc_position": {},
   "toc_section_display": true,
   "toc_window_display": false
  }
 },
 "nbformat": 4,
 "nbformat_minor": 4
}
