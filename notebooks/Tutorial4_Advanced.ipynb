{
 "cells": [
  {
   "cell_type": "markdown",
   "metadata": {},
   "source": [
    "# Session 4: Advanced Features of MDAnalysis\n",
    "\n",
    "<a id='trajanalysis'></a>\n",
    "\n",
    "<a rel=\"license\" href=\"http://creativecommons.org/licenses/by/4.0/\"><img alt=\"Creative Commons Licence\" style=\"border-width:0\" src=\"https://i.creativecommons.org/l/by/4.0/88x31.png\" title='This work is licensed under a Creative Commons Attribution 4.0 International License.' align=\"right\"/></a>\n",
    "\n",
    "This notebook is adapted from materials developed for the [2018 Workshop/Hackathon](https://github.com/MDAnalysis/WorkshopHackathon2018) and the MDAnalysis [UserGuide](https://userguide.mdanalysis.org/stable/).\n",
    "\n",
    "## Learning Outcomes\n",
    "\n",
    "\n",
    "This notebook contains examples of additional features of MDAnalysis that may be useful to you.\n",
    "You don't have to work through every section in this workshop - pick those that are most of interest to you!\n",
    "\n",
    " - [Distance calculations](#distance_calculations)\n",
    " - [Creating and modifying Universes](#universes)\n",
    " - [Auxiliary](#auxiliary)\n",
    " - [Transfromations](#transformations)\n",
    "\n",
    "\n",
    "#### Additional resources\n",
    "\n",
    " - During the workshop, feel free to ask questions at any time\n",
    " - For more on how to use MDAnalysis, see the [User Guide](https://userguide.mdanalysis.org/stable/) and [documentation](https://docs.mdanalysis.org/2.0.0-dev0/)\n",
    " - Ask questions on the [GitHub Discussions forum](https://github.com/MDAnalysis/mdanalysis/discussions) or on [Discord](https://discord.gg/fXTSfDJyxE)\n",
    " - Report bugs on [GitHub](https://github.com/MDAnalysis/mdanalysis/issues?)\n"
   ]
  },
  {
   "cell_type": "markdown",
   "metadata": {},
   "source": [
    "# 1. Getting Started\n",
    "\n",
    "## Google Colab package installs\n",
    "\n",
    "This installs the necessary packages for Google Colab. *Please only run these if you are using Colab.*"
   ]
  },
  {
   "cell_type": "code",
   "execution_count": null,
   "metadata": {},
   "outputs": [],
   "source": [
    "# NBVAL_SKIP\n",
    "!pip install condacolab\n",
    "import condacolab\n"
   ]
  },
  {
   "cell_type": "code",
   "execution_count": null,
   "metadata": {},
   "outputs": [],
   "source": [
    "# NBVAL_SKIP\n",
    "import condacolab\n",
    "condacolab.check()\n",
    "!mamba install -c conda-forge mdanalysis mdanalysistests mdanalysisdata nglview rdkit"
   ]
  },
  {
   "cell_type": "code",
   "execution_count": null,
   "metadata": {},
   "outputs": [],
   "source": [
    "# NBVAL_SKIP\n",
    "# enable third party jupyter widgets\n",
    "from google.colab import output\n",
    "output.enable_custom_widget_manager()"
   ]
  },
  {
   "cell_type": "markdown",
   "metadata": {},
   "source": [
    "## Initial imports\n",
    "Let's import MDAnalysis and the other libraries we'll be using in this tutorial."
   ]
  },
  {
   "cell_type": "code",
   "execution_count": null,
   "metadata": {},
   "outputs": [],
   "source": [
    "import warnings\n",
    "warnings.filterwarnings(\"ignore\") \n",
    "\n",
    "import MDAnalysis as mda\n",
    "import MDAnalysisData as data\n",
    "import nglview as nv\n",
    "import numpy as np\n",
    "# import matplotlib.pyplot as plt"
   ]
  },
  {
   "cell_type": "markdown",
   "metadata": {},
   "source": [
    "# 2. Distance calculations with `lib.distance`\n",
    "<a id='distance_calculations'></a>"
   ]
  },
  {
   "cell_type": "markdown",
   "metadata": {},
   "source": [
    "This example will show you how to use various functions in `MDAnalysis.lib.distances` to identify hydrogen bonding between certain residues and the water solvent.\n",
    "\n",
    "A hydrogen bond (in the context of this analysis) will be defined as an interaction between three atoms:\n",
    "- An acceptor, which is attracting the hydrogen\n",
    "- A hydrogen, which is being pulled into the acceptor\n",
    "- A donor, which is bonded to the hydrogen and being dragged along for the ride.\n",
    "\n",
    "We will use the following geometric criteria:\n",
    "- a hydrogen-acceptor distance of 3.0A \n",
    "- an acceptor-hydrogen-donor angle of greater than 120 degrees.\n",
    "\n",
    "First, let's load out example dataset from `MDAnalysisData` of a PEG (polyethyleneglycol) chain in water:"
   ]
  },
  {
   "cell_type": "code",
   "execution_count": null,
   "metadata": {},
   "outputs": [],
   "source": [
    "PEG_example = data.datasets.fetch_PEG_1chain()\n",
    "peg_u = mda.Universe(PEG_example['topology'], PEG_example['trajectory'])"
   ]
  },
  {
   "cell_type": "markdown",
   "metadata": {},
   "source": [
    "Oxygen atoms in PEG can accept hydrogen bonds from water. Let's make some appropriate selections:"
   ]
  },
  {
   "cell_type": "code",
   "execution_count": null,
   "metadata": {},
   "outputs": [],
   "source": [
    "# select oxygen atoms - types os and oh\n",
    "acceptors = peg_u.atoms.select_atoms(\"type os oh\")\n",
    "# select hydrogens from water\n",
    "hydrogens = peg_u.atoms.select_atoms(\"type HW\")"
   ]
  },
  {
   "cell_type": "markdown",
   "metadata": {},
   "source": [
    "### Distance criteria\n",
    "\n",
    "We first want to identify hydrogens and acceptors that are within our distance criteria of 3.0 angstrom.\n",
    "A naive approach is to use `distance_array`, which will return an array of distances between all acceptors and all hydrogens:"
   ]
  },
  {
   "cell_type": "code",
   "execution_count": null,
   "metadata": {},
   "outputs": [],
   "source": [
    "%%time\n",
    "distances = mda.lib.distances.distance_array(acceptors.positions, hydrogens.positions, box=peg_u.dimensions)"
   ]
  },
  {
   "cell_type": "markdown",
   "metadata": {},
   "source": [
    "We can see that the returned distance array has shape (number of acceptors) x (number of water hydrogens):"
   ]
  },
  {
   "cell_type": "code",
   "execution_count": null,
   "metadata": {},
   "outputs": [],
   "source": [
    "print(distances.shape)\n",
    "print(len(acceptors))\n",
    "print(len(hydrogens))"
   ]
  },
  {
   "cell_type": "markdown",
   "metadata": {},
   "source": [
    "The distance in the (i,j) position is the distance between the *i*th acceptor and *j*th hydrogen. We can now find the pairs of indicies with distances in the array that fall below our cutoff. `np.where` is a handy function for returning the indicies where a condition is true:"
   ]
  },
  {
   "cell_type": "code",
   "execution_count": null,
   "metadata": {},
   "outputs": [],
   "source": [
    "acceptor_idx, hydrogen_idx = np.where(da < 3.0)\n",
    "print(acceptor_idx)\n",
    "print(hydrogen_idx)"
   ]
  },
  {
   "cell_type": "markdown",
   "metadata": {},
   "source": [
    "### Using `capped_distance`\n",
    "\n",
    "This is a great example of where we're not interested in all distances, but instead only those up to a given cutoff - using `capped_distance` is much quicker here!"
   ]
  },
  {
   "cell_type": "markdown",
   "metadata": {},
   "source": [
    "<div class=\"alert alert-info\"><b>Reminder</b> \n",
    "\n",
    "The output of `capped_distance` is no longer a matrix, but arrays of indices and the distance values at those indices.  This can be thought of as a sparse matrix.\n",
    " </div>"
   ]
  },
  {
   "cell_type": "code",
   "execution_count": null,
   "metadata": {},
   "outputs": [],
   "source": [
    "%%time \n",
    "idx, dists = mda.lib.distances.capped_distance(acceptors.positions, hydrogens.positions, max_cutoff=3.0,\n",
    "                                               box=peg_u.dimensions)"
   ]
  },
  {
   "cell_type": "markdown",
   "metadata": {},
   "source": [
    "Notice the time taken compared to `distance_array` above. Try experimenting with the cutoff distance to see how the time required varies. Can you think of other situations where we'd want to use `capped_distance` over `distance_array`? What about the reverse?"
   ]
  },
  {
   "cell_type": "markdown",
   "metadata": {},
   "source": [
    "**Tip**: `capped_distance` has some other options we aren't using here:\n",
    " - You can also define a `min_cutoff`\n",
    " - By adding the argument `return_distances=False` to `capped_distance`, we can return only the *indices* without the accompanying distances."
   ]
  },
  {
   "cell_type": "markdown",
   "metadata": {},
   "source": [
    "The `idx` array is a `(n, 2)` array of indices. The indicies of our potential hydrogen-bonding acceptors will be in the first column, and the hydrogens in the second column:"
   ]
  },
  {
   "cell_type": "code",
   "execution_count": null,
   "metadata": {},
   "outputs": [],
   "source": [
    "acceptor_idx = idx[:, 0]\n",
    "hyrogen_idx = idx[:, 1]\n",
    "\n",
    "print(acceptor_idx)\n",
    "print(hydrogen_idx)"
   ]
  },
  {
   "cell_type": "markdown",
   "metadata": {},
   "source": [
    "Compare these to the above output from `distance_array` - did we get the same result?\n",
    "\n",
    "Remembering that we can slice `AtomGroup`s with numpy arrays, we can use these indices arrays to slice our original `AtomGroup`s to filter them down to only atoms within the distance criterion:"
   ]
  },
  {
   "cell_type": "code",
   "execution_count": null,
   "metadata": {},
   "outputs": [],
   "source": [
    "potential_hbond_acceptors = acceptors[acceptor_idx]\n",
    "potential_hbond_hydrogens = hydrogens[hydrogen_idx]"
   ]
  },
  {
   "cell_type": "markdown",
   "metadata": {},
   "source": [
    "To get the **donors** for each hydrogen bond is slightly trickier.\n",
    "We can use the fact that hydrogens will only have one covalent bond, and simply loop over the hydrogen atoms, grabbing the first (and only) bonded atom of each. "
   ]
  },
  {
   "cell_type": "code",
   "execution_count": null,
   "metadata": {},
   "outputs": [],
   "source": [
    "potential_hbond_donors = sum(h.bonded_atoms[0] for h in potential_hbond_hydrogens)"
   ]
  },
  {
   "cell_type": "markdown",
   "metadata": {},
   "source": [
    "<div class=\"alert alert-info\"><b>Reminder</b>  \n",
    "\n",
    "A `sum()` over `MDAnalysis.Atom` objects will produce an `AtomGroup`!\n",
    "\n",
    "</div>"
   ]
  },
  {
   "cell_type": "markdown",
   "metadata": {},
   "source": [
    "### Checking the angle criteria\n",
    "\n",
    "Now that we've identified hydrogens and acceptors which are close enough for a hydrogen bond, we can now check our angular criteria.\n",
    "The angle formed by the acceptor-hydrogen-donor must be greater than 120 degrees!"
   ]
  },
  {
   "cell_type": "markdown",
   "metadata": {},
   "source": [
    "<div class=\"alert alert-info\"><b>Reminder</b>  \n",
    "    \n",
    "The input to `calc_angles` must be in the correct order, with the second array of positions being the vertex of the angle.  Results are returned in radians!\n",
    " </div>"
   ]
  },
  {
   "cell_type": "markdown",
   "metadata": {},
   "source": [
    "By first checking the distance criteria and filtering down our input, we greatly reduce the number of angles we must calculate.\n",
    "This is important as angles calculations are computationally more expensive than distance calculations."
   ]
  },
  {
   "cell_type": "code",
   "execution_count": null,
   "metadata": {},
   "outputs": [],
   "source": [
    "angles = np.rad2deg(\n",
    "    mda.lib.distances.calc_angles(potential_hbond_acceptors.positions,\n",
    "                                  potential_hbond_hydrogens.positions,\n",
    "                                  potential_hbond_donors.positions, box=peg_u.dimensions)\n",
    ")"
   ]
  },
  {
   "cell_type": "markdown",
   "metadata": {},
   "source": [
    "Again we can use `np.where` to get the *indices* of where a condition is True, here if a value is above 120."
   ]
  },
  {
   "cell_type": "code",
   "execution_count": null,
   "metadata": {},
   "outputs": [],
   "source": [
    "angle_idx = np.where(angles >= 120.0)"
   ]
  },
  {
   "cell_type": "markdown",
   "metadata": {},
   "source": [
    "Finally, we can slice our list of candidate atoms with `angle_idx` to get three AtomGroups, each representing a different component in a hydrogen bond."
   ]
  },
  {
   "cell_type": "code",
   "execution_count": null,
   "metadata": {},
   "outputs": [],
   "source": [
    "hbond_acceptors = potential_hbond_acceptors[angle_idx]\n",
    "hbond_hydrogens = potential_hbond_hydrogens[angle_idx]\n",
    "hbond_donors = potential_hbond_donors[angle_idx]"
   ]
  },
  {
   "cell_type": "code",
   "execution_count": null,
   "metadata": {},
   "outputs": [],
   "source": [
    "hbond_acceptors"
   ]
  },
  {
   "cell_type": "markdown",
   "metadata": {},
   "source": [
    "<div class=\"alert alert-success\"> <b>Exercise</b> \n",
    "\n",
    "Now let's wrap all the above into a function to analyse hydrogen bonds. \n",
    "    \n",
    "The function will need as input the `hydrogens` and `acceptors` `AtomGroup`s, and return `hbond_acceptors`, `hbond_hydrogens`, `hbond_donors`.\n",
    "\n",
    "</div>"
   ]
  },
  {
   "cell_type": "code",
   "execution_count": null,
   "metadata": {
    "solution2": "hidden",
    "solution2_first": true
   },
   "outputs": [],
   "source": []
  },
  {
   "cell_type": "code",
   "execution_count": null,
   "metadata": {
    "solution2": "hidden"
   },
   "outputs": [],
   "source": [
    "def hbonds(hydrogens, acceptors):\n",
    "    \n",
    "    \"\"\" this function calculates hydrogen bonds \"\"\"\n",
    "    \n",
    "    acc_idx, hyd_idx = idx.T\n",
    "    \n",
    "    idx, dists = mda.lib.distances.capped_distance(acceptors.positions, \n",
    "                                                   hydrogens.positions, \n",
    "                                                   max_cutoff=3.0,\n",
    "                                                   box=acceptors.dimensions)    \n",
    "\n",
    "    \n",
    "    acc_idx, hyd_idx = idx.T\n",
    "\n",
    "    # select potential hydrogen bonds to check angles\n",
    "    potential_hbond_acceptors = acceptors[acc_idx]\n",
    "    potential_hbond_hydrogens = hydrogens[hyd_idx]\n",
    "\n",
    "    # select hydrogen bond donors by looping over hydrogens and selecting the bonded oxygens\n",
    "    potential_hbond_donors = sum(h.bonded_atoms[0] for h in potential_hbond_hydrogens)\n",
    "    \n",
    "    angles = mda.lib.distances.calc_angles(potential_hbond_acceptors.positions,\n",
    "                                  potential_hbond_hydrogens.positions,\n",
    "                                  potential_hbond_donors.positions, \n",
    "                                  box=u.dimensions)\n",
    "    #convert to degrees\n",
    "    angles = np.rad2deg(angles)\n",
    "    \n",
    "    #check angles are larger than 120 degrees\n",
    "    angle_idx = np.where(angles >= 120.0)\n",
    "    \n",
    "    hbond_acceptors = potential_hbond_acceptors[angle_idx]\n",
    "    hbond_hydrogens = potential_hbond_hydrogens[angle_idx]\n",
    "    hbond_donors = potential_hbond_donors[angle_idx]\n",
    "    \n",
    "    return hbond_acceptors, hbond_hydrogens, hbond_donors"
   ]
  },
  {
   "cell_type": "markdown",
   "metadata": {},
   "source": [
    "<div class=\"alert alert-info\"> <b>RECAP</b> \n",
    "    \n",
    "How to calculate quickly all possible distances between `AtomGroups` \n",
    "\n",
    " - `self_distance` array only takes one atomgroup\n",
    " - `distance_array` takes two atomgroups and they don't have to contain the same number of atoms.\n",
    " - `capped_distance` and `self_capped_distance` only considers atoms within a certain distance threshold.\n",
    " </div>"
   ]
  },
  {
   "cell_type": "markdown",
   "metadata": {},
   "source": [
    "# 3. Creating and modifying Universes\n",
    "<a id='universes'></a>"
   ]
  },
  {
   "cell_type": "markdown",
   "metadata": {},
   "source": [
    "In this example, we're going create a solvent system and to embed a protein into, in order to demonstrate how to create and modify Universes - but note that MDAnalysis is likely not the best tool for solvating a system!"
   ]
  },
  {
   "cell_type": "markdown",
   "metadata": {},
   "source": [
    "## Creating a blank Universe\n",
    "\n",
    "The Universe.empty() method creates a blank Universe. The `natoms` argument must be included. Optional arguments are:\n",
    "\n",
    "- n_residues (int): number of residues\n",
    "- n_segments (int): number of segments\n",
    "- atom_resindex (list): list of resindices for each atom\n",
    "- residue_segindex (list): list of segindices for each residue\n",
    "- trajectory (bool): whether to attach a MemoryReader trajectory (default False)\n",
    "- velocities (bool): whether to include velocities in the trajectory (default False)\n",
    "- forces (bool): whether to include forces in the trajectory (default False)\n",
    "\n",
    "Let's create a Universe with 1000 water molecules:"
   ]
  },
  {
   "cell_type": "code",
   "execution_count": null,
   "metadata": {},
   "outputs": [],
   "source": [
    "n_residues = 1000\n",
    "n_atoms = n_residues * 3\n",
    "\n",
    "# create resindex list - mapping each atom to a residue. There are three atoms per residue.\n",
    "resindices = np.repeat(range(n_residues), 3)\n",
    "assert len(resindices) == n_atoms\n",
    "print(\"resindices:\", resindices[:10])\n",
    "\n",
    "# all water molecules belong to 1 segment\n",
    "segindices = [0] * n_residues\n",
    "print(\"segindices:\", segindices[:10])"
   ]
  },
  {
   "cell_type": "code",
   "execution_count": null,
   "metadata": {},
   "outputs": [],
   "source": [
    "# create the Universe\n",
    "sol = mda.Universe.empty(n_atoms,\n",
    "                         n_residues=n_residues,\n",
    "                         atom_resindex=resindices,\n",
    "                         residue_segindex=segindices,\n",
    "                         trajectory=True) # necessary for adding coordinates\n",
    "sol"
   ]
  },
  {
   "cell_type": "markdown",
   "metadata": {},
   "source": [
    "## Adding topology attributes"
   ]
  },
  {
   "cell_type": "markdown",
   "metadata": {},
   "source": [
    "There isn’t much we can do with our current Universe because MDAnalysis has no information on the particle elements, positions, etc. We can add relevant information manually using TopologyAttrs. For example, to assign `name`s for each atom (deciding on an order of oxygen-hydrogen-hydrogen for each water residue), we can use:"
   ]
  },
  {
   "cell_type": "code",
   "execution_count": null,
   "metadata": {},
   "outputs": [],
   "source": [
    "# names\n",
    "sol.add_TopologyAttr('name', ['O', 'H1', 'H2']*n_residues)\n",
    "sol.atoms.names"
   ]
  },
  {
   "cell_type": "markdown",
   "metadata": {},
   "source": [
    "We can also assign `resname`s to each residue. Let's given them then name 'SOL':\n"
   ]
  },
  {
   "cell_type": "code",
   "execution_count": null,
   "metadata": {},
   "outputs": [],
   "source": [
    "# residue names\n",
    "sol.add_TopologyAttr('resname', ['SOL']*n_residues)\n",
    "sol.atoms.resnames"
   ]
  },
  {
   "cell_type": "markdown",
   "metadata": {},
   "source": [
    "Notice that when adding `name`s, a property of the atom, we provided a list of 3 * n_residue = n_atoms initial values, while for `resname`, a property of the residue, the initial value list has n_residue values.\n",
    "\n",
    "Attributes can only be added this way if they've been 'established' - see the list in the [User Guide](https://userguide.mdanalysis.org/stable/topology_system.html). It is possible to add custom attributes, as long as you define them first. See the section on adding custom topology attributes below!"
   ]
  },
  {
   "cell_type": "markdown",
   "metadata": {},
   "source": [
    "### Exercise\n",
    "\n",
    "Now see if you can assign:\n",
    "1. the `type` (ie. element) for each atom (use 'O' for each oxygen and 'H' for each hydrogen)\n",
    "2. the `resid` of each residue (this should go from 1 to n_residues)\n",
    "3. the `segid` (ie segment name) that our water atoms belong to (let's call it 'SOL'). **Hint:** `segid` is a segment property. We assigned all waters to the same segment, so there is only one segment in the Universe.\n"
   ]
  },
  {
   "cell_type": "code",
   "execution_count": null,
   "metadata": {
    "solution2": "hidden",
    "solution2_first": true
   },
   "outputs": [],
   "source": []
  },
  {
   "cell_type": "code",
   "execution_count": null,
   "metadata": {
    "solution2": "hidden"
   },
   "outputs": [],
   "source": [
    "# elements\n",
    "sol.add_TopologyAttr('type', ['O', 'H', 'H']*n_residues)\n",
    "print(sol.atoms.types)\n",
    "\n",
    "# residue counter\n",
    "sol.add_TopologyAttr('resid', list(range(1, n_residues+1)))\n",
    "print(sol.atoms.resids)\n",
    "\n",
    "# segment/chain names\n",
    "sol.add_TopologyAttr('segid', ['SOL'])\n",
    "print(sol.atoms.segids)"
   ]
  },
  {
   "cell_type": "markdown",
   "metadata": {},
   "source": [
    "## Adding positions\n",
    "Positions can simply be assigned, without having to add a topology attribute.\n",
    "\n",
    "The O-H bond length in water is around 0.96 Angstrom, and the bond angle is 104.45°. To give our waters coordinates, we can first obtain a set of coordinates for one molecule, and then translate it for every water molecule. We have 1000 atoms, so let's place them in a 10 x 10 x 10 cube, 8 A apart."
   ]
  },
  {
   "cell_type": "code",
   "execution_count": null,
   "metadata": {},
   "outputs": [],
   "source": [
    "# coordinates obtained by building a molecule in the program IQMol\n",
    "h2o = np.array([[ 0,        0,       0      ],  # oxygen\n",
    "                [ 0.95908, -0.02691, 0.03231],  # hydrogen\n",
    "                [-0.28004, -0.58767, 0.70556]]) # hydrogen\n",
    "\n",
    "grid_size = 10 # how many waters per side\n",
    "spacing = 8    # how far apart each water is\n",
    "\n",
    "coordinates = []\n",
    "\n",
    "# translating h2o coordinates around a grid\n",
    "for i in range(n_residues):\n",
    "    # place the water center at a new point on the grid\n",
    "    x = spacing * (i % grid_size)\n",
    "    y = spacing * ((i // grid_size) % grid_size)\n",
    "    z = spacing * (i // (grid_size * grid_size))\n",
    "    xyz = np.array([x, y, z])\n",
    "\n",
    "    # translate the above wate coordinates to the new center\n",
    "    coordinates.extend(h2o + xyz.T)\n",
    "\n",
    "\n",
    "coord_array = np.array(coordinates)\n",
    "# check, our coord array should have shape (n_atoms, 3) (ie 3000, 3)\n",
    "print(coord_array.shape)\n",
    "# check what the first 10 coordinates look like\n",
    "print(coord_array[:10])\n",
    "\n",
    "# now we assign the positions\n",
    "sol.atoms.positions = coord_array\n"
   ]
  },
  {
   "cell_type": "markdown",
   "metadata": {},
   "source": [
    "Let's view the system with NGLView:"
   ]
  },
  {
   "cell_type": "code",
   "execution_count": null,
   "metadata": {},
   "outputs": [],
   "source": [
    "sol_view = nv.show_mdanalysis(sol)\n",
    "sol_view.add_representation('ball+stick', selection='all')\n",
    "sol_view.center()\n",
    "sol_view"
   ]
  },
  {
   "cell_type": "markdown",
   "metadata": {},
   "source": [
    "## Merging Universes"
   ]
  },
  {
   "cell_type": "markdown",
   "metadata": {},
   "source": [
    "Now we can merge the water with a protein to create a combined system by using MDAnalysis.Merge to combine AtomGroup instances.\n",
    "\n",
    "We'll use the protein is adenylate kinase (AdK), a phosphotransferase enzyme, from the MDAnalysis datafiles."
   ]
  },
  {
   "cell_type": "code",
   "execution_count": null,
   "metadata": {},
   "outputs": [],
   "source": [
    "from MDAnalysis.tests.datafiles import PDB_small\n",
    "protein = mda.Universe(PDB_small)"
   ]
  },
  {
   "cell_type": "code",
   "execution_count": null,
   "metadata": {},
   "outputs": [],
   "source": [
    "protein_view = nv.show_mdanalysis(protein)\n",
    "protein_view"
   ]
  },
  {
   "cell_type": "markdown",
   "metadata": {},
   "source": [
    "We will translate the centers of both systems to the origin, so they can overlap in space."
   ]
  },
  {
   "cell_type": "code",
   "execution_count": null,
   "metadata": {},
   "outputs": [],
   "source": [
    "cog = sol.atoms.center_of_geometry()\n",
    "print('Original solvent center of geometry: ', cog)\n",
    "sol.atoms.positions -= cog\n",
    "cog2 = sol.atoms.center_of_geometry()\n",
    "print('New solvent center of geometry: ', cog2)"
   ]
  },
  {
   "cell_type": "code",
   "execution_count": null,
   "metadata": {},
   "outputs": [],
   "source": [
    "cog = protein.atoms.center_of_geometry()\n",
    "print('Original solvent center of geometry: ', cog)\n",
    "protein.atoms.positions -= cog\n",
    "cog2 = protein.atoms.center_of_geometry()\n",
    "print('New solvent center of geometry: ', cog2)"
   ]
  },
  {
   "cell_type": "markdown",
   "metadata": {},
   "source": [
    "And now, we use `Merge` to combine the two Universes into a new Universe:"
   ]
  },
  {
   "cell_type": "code",
   "execution_count": null,
   "metadata": {},
   "outputs": [],
   "source": [
    "combined = mda.Merge(protein.atoms, sol.atoms)"
   ]
  },
  {
   "cell_type": "code",
   "execution_count": null,
   "metadata": {},
   "outputs": [],
   "source": [
    "combined_view = nv.show_mdanalysis(combined)\n",
    "combined_view.add_representation(\"ball+stick\", selection=\"not protein\")\n",
    "combined_view"
   ]
  },
  {
   "cell_type": "markdown",
   "metadata": {},
   "source": [
    "Unfortunately, some water molecules overlap with the protein. We can create a new AtomGroup containing only the molecules where every atom is further away than 6 angstroms from the protein."
   ]
  },
  {
   "cell_type": "code",
   "execution_count": null,
   "metadata": {},
   "outputs": [],
   "source": [
    "no_overlap = combined.select_atoms(\"same resid as (not around 6 protein)\")"
   ]
  },
  {
   "cell_type": "markdown",
   "metadata": {},
   "source": [
    "We can also use `Merge` to construct a new Universe from this AtomGroup:"
   ]
  },
  {
   "cell_type": "code",
   "execution_count": null,
   "metadata": {},
   "outputs": [],
   "source": [
    "merge_u = mda.Merge(no_overlap)"
   ]
  },
  {
   "cell_type": "code",
   "execution_count": null,
   "metadata": {},
   "outputs": [],
   "source": [
    "no_overlap_view = nv.show_mdanalysis(merge_u)\n",
    "no_overlap_view.add_representation(\"ball+stick\", selection=\"not protein\")\n",
    "no_overlap_view"
   ]
  },
  {
   "cell_type": "markdown",
   "metadata": {},
   "source": [
    "Note that a merged Universe will only retain any atom attributes which *both* Universes have. Out protein has masses; but since we didn't add masses when we created the solvent, our new merged universe is also missing masses."
   ]
  },
  {
   "cell_type": "code",
   "execution_count": null,
   "metadata": {},
   "outputs": [],
   "source": [
    "protein.atoms.masses"
   ]
  },
  {
   "cell_type": "code",
   "execution_count": null,
   "metadata": {},
   "outputs": [],
   "source": [
    "sol.atoms.masses"
   ]
  },
  {
   "cell_type": "code",
   "execution_count": null,
   "metadata": {},
   "outputs": [],
   "source": [
    "merge_u.atoms.masses"
   ]
  },
  {
   "cell_type": "markdown",
   "metadata": {},
   "source": [
    "## Adding dummy atoms to a Universe"
   ]
  },
  {
   "cell_type": "markdown",
   "metadata": {},
   "source": [
    "We can also use `mda.Merge` and `mda.Empty` to \"extend\" a Universe with dummy atoms!\n",
    "\n",
    "### Exercise\n",
    "\n",
    "Use what you learnt above to create a Universe containing a single dummy atom (give it the `name` and `resname` 'DUMMY') at the venter of geometry of the protein."
   ]
  },
  {
   "cell_type": "code",
   "execution_count": null,
   "metadata": {
    "solution2": "hidden",
    "solution2_first": true
   },
   "outputs": [],
   "source": []
  },
  {
   "cell_type": "code",
   "execution_count": null,
   "metadata": {
    "solution2": "hidden"
   },
   "outputs": [],
   "source": [
    "# Let's create a Universe for our dummy atom\n",
    "dummy_u = mda.Universe.empty(n_atoms=1, trajectory=True)\n",
    "dummy_u.add_TopologyAttr('names', ['DUMMY'])\n",
    "dummy_u.add_TopologyAttr('resname', ['DUMMY'])\n",
    "dummy_u.positions = merge_u.select_atoms(\"protein\").center_of_geometry()\n",
    "\n",
    "# Now let's merge it without Universe above! \n",
    "new_u = mda.Merge(merge_u.atoms, dummy_u.atoms)\n",
    "\n",
    "# And finally view our new Universe\n",
    "dummy_view = nv.show_mdanalysis(new_u)\n",
    "dummy_view.add_representation(\"ball+stick\", selection=\"not protein and not water\")\n",
    "dummy_view"
   ]
  },
  {
   "cell_type": "markdown",
   "metadata": {},
   "source": [
    "## Adding custom attributes"
   ]
  },
  {
   "cell_type": "markdown",
   "metadata": {},
   "source": [
    "It is possible to add custom topology attributes. First, we need to define a new `AtomAttr`, which has several special fields that must also be defined. Here, we're creating the attribute 'bounciness' (or 'bouncy'), a property of atoms with boolean value. "
   ]
  },
  {
   "cell_type": "code",
   "execution_count": null,
   "metadata": {},
   "outputs": [],
   "source": [
    "from MDAnalysis.core.topologyattrs import AtomAttr\n",
    "\n",
    "class Bounciness(AtomAttr):\n",
    "    dtype=bool\n",
    "    attrname='bounciness'\n",
    "    singular='bouncy'\n",
    "    per_object='atom'"
   ]
  },
  {
   "cell_type": "markdown",
   "metadata": {},
   "source": [
    "Now we can add this attribute to a universe using `add_TopologyAttr` - this time passing in the class we just defined. We pass the initial values of 'bouncy' (in this case, False (0) for each atom) to the class: "
   ]
  },
  {
   "cell_type": "code",
   "execution_count": null,
   "metadata": {},
   "outputs": [],
   "source": [
    "from MDAnalysis.tests.datafiles import GRO\n",
    "u = mda.Universe(GRO)\n",
    "\n",
    "u.add_TopologyAttr(Bounciness([0]*len(u.atoms)))"
   ]
  },
  {
   "cell_type": "markdown",
   "metadata": {},
   "source": [
    "We can now access the bounciness property of AtomGroups, and use it as a keyword in atom selections!"
   ]
  },
  {
   "cell_type": "code",
   "execution_count": null,
   "metadata": {},
   "outputs": [],
   "source": [
    "print(u.atoms.bounciness)\n",
    "u.select_atoms('bouncy')"
   ]
  },
  {
   "cell_type": "markdown",
   "metadata": {},
   "source": [
    "Currently, all our atoms have bounciness 'False' so an atomselection on 'bouncy' returns no atoms. Let's now set every second atom to be bouncy:"
   ]
  },
  {
   "cell_type": "code",
   "execution_count": null,
   "metadata": {},
   "outputs": [],
   "source": [
    "u.atoms[::2].bounciness = True"
   ]
  },
  {
   "cell_type": "markdown",
   "metadata": {},
   "source": [
    "Now we can see that the keyword 'bouncy' selects every second atom!"
   ]
  },
  {
   "cell_type": "code",
   "execution_count": null,
   "metadata": {},
   "outputs": [],
   "source": [
    "print(u.select_atoms('bouncy'))"
   ]
  },
  {
   "cell_type": "markdown",
   "metadata": {},
   "source": [
    "# 4. Auxiliary Readers"
   ]
  },
  {
   "cell_type": "markdown",
   "metadata": {},
   "source": [
    "# 5. Transformations\n",
    "<a id='transformations'></a>"
   ]
  },
  {
   "cell_type": "markdown",
   "metadata": {},
   "source": [
    "## Example: centering a protein in the box"
   ]
  },
  {
   "cell_type": "markdown",
   "metadata": {},
   "source": [
    "In this example, we're going to go through the process of making a protein whole and centering it in a box (using adenylate kinase (AdK), a phosophotransferase enzyme). \n",
    "\n",
    "Calculating bond lengths without considering periodic boundary conditions shows us that there is apparently a bond with a length of 79A! This is obviously caused by the two atoms being in separate periodic images."
   ]
  },
  {
   "cell_type": "code",
   "execution_count": null,
   "metadata": {},
   "outputs": [],
   "source": [
    "from MDAnalysis.tests.datafiles import TPR, XTC\n",
    "u = mda.Universe(TPR, XTC, in_memory=True)\n",
    "\n",
    "u.atoms.bonds.values(pbc=False).max()"
   ]
  },
  {
   "cell_type": "markdown",
   "metadata": {},
   "source": [
    "We can view the system to confirm this:"
   ]
  },
  {
   "cell_type": "code",
   "execution_count": null,
   "metadata": {},
   "outputs": [],
   "source": [
    "view = nv.show_mdanalysis(u)\n",
    "view.add_representation('point', 'resname SOL')\n",
    "view.center()\n",
    "view"
   ]
  },
  {
   "cell_type": "markdown",
   "metadata": {},
   "source": [
    "- **Note:** For the step-by-step transformations, we need to load the trajectory into memory so that our changes to the coordinates persist. If your trajectory is too large for that, see the on-the-fly transformation section for how to do this out-of-memory."
   ]
  },
  {
   "cell_type": "markdown",
   "metadata": {},
   "source": [
    "### 1. Unwrapping the protein\n",
    "\n",
    "The first step is to “unwrap” the protein from the border of the box, to make the protein whole. MDAnalysis provides the AtomGroup.unwrap function to do this easily. **Note:** this function requires your universe to have bonds in it.\n",
    "\n",
    "We loop over the trajectory to unwrap for each frame."
   ]
  },
  {
   "cell_type": "code",
   "execution_count": null,
   "metadata": {},
   "outputs": [],
   "source": [
    "protein = u.select_atoms('protein')\n",
    "\n",
    "for ts in u.trajectory:\n",
    "    protein.unwrap(compound='fragments')"
   ]
  },
  {
   "cell_type": "markdown",
   "metadata": {},
   "source": [
    "As you can see, our maximum bond length is now much more sensible, and the protein is now whole, but not centered."
   ]
  },
  {
   "cell_type": "code",
   "execution_count": null,
   "metadata": {},
   "outputs": [],
   "source": [
    "print(u.atoms.bonds.values(pbc=False).max())\n",
    "\n",
    "unwrapped = nv.show_mdanalysis(u)\n",
    "unwrapped.add_representation('point', 'resname SOL')\n",
    "unwrapped.center()\n",
    "unwrapped"
   ]
  },
  {
   "cell_type": "markdown",
   "metadata": {},
   "source": [
    "### Aside: `guess_bonds`\n",
    "\n",
    "As noted above, `wrap` and `unwrap` only work if your Universe has bonds."
   ]
  },
  {
   "cell_type": "code",
   "execution_count": null,
   "metadata": {},
   "outputs": [],
   "source": [
    "from MDAnalysis.tests.datafiles import GRO\n",
    "u_nobond = mda.Universe(GRO) \n",
    "\n",
    "u_nobond.atoms.unwrap(reference='cog')"
   ]
  },
  {
   "cell_type": "markdown",
   "metadata": {},
   "source": [
    "So what if this is the case for you? MDAnalysis has a `guess_bonds` feature that will guess the bonds in your system based on their distances and VdW radii!\n",
    "\n",
    "You can set `guess_bonds`to `True` when loading a Universe, or apply it to an AtomGroup. Note that VdW radii are needed - MDAnalysis will have these values in most cases, but in this example we get an error due to missing radii for a 'DUMMY' atom:"
   ]
  },
  {
   "cell_type": "code",
   "execution_count": null,
   "metadata": {},
   "outputs": [],
   "source": [
    "u_nobond.atoms.guess_bonds()"
   ]
  },
  {
   "cell_type": "markdown",
   "metadata": {},
   "source": [
    "In this system, DUMMY refers to the 4th dummy atom included in the TIP4P water model. Let's set the VdW radii for these atoms to 0; we can pass this to `guess_bonds` as a dictionary, and now we'll be able to run `unwrap` on our system:"
   ]
  },
  {
   "cell_type": "code",
   "execution_count": null,
   "metadata": {},
   "outputs": [],
   "source": [
    "u_nobond.atoms.guess_bonds({'DUMMY': 0})\n",
    "u_nobond.atoms.unwrap(reference='cog')"
   ]
  },
  {
   "cell_type": "markdown",
   "metadata": {},
   "source": [
    "### 2. Centering in the box\n",
    "\n",
    "The next step is to center the protein in the box. We calculate the center-of-mass of the protein and the center of the box for each timestep. We then use `translate` on an AtomGroup - in this case all atoms - to move all the atoms so that the protein center-of-mass is in the center of the box."
   ]
  },
  {
   "cell_type": "code",
   "execution_count": null,
   "metadata": {},
   "outputs": [],
   "source": [
    "for ts in u.trajectory:\n",
    "    protein_center = protein.center_of_mass(wrap=True)\n",
    "    dim = ts.triclinic_dimensions\n",
    "    box_center = np.sum(dim, axis=0) / 2\n",
    "    u.atoms.translate(box_center - protein_center)"
   ]
  },
  {
   "cell_type": "markdown",
   "metadata": {},
   "source": [
    "The protein is now in the center of the box - but this doesn't seem the case when visualising. This is because we translated the solvent along with the water - some of it is now outside the box."
   ]
  },
  {
   "cell_type": "code",
   "execution_count": null,
   "metadata": {},
   "outputs": [],
   "source": [
    "centered = nv.show_mdanalysis(u)\n",
    "centered.add_representation('point', 'resname SOL')\n",
    "centered.center()\n",
    "centered"
   ]
  },
  {
   "cell_type": "markdown",
   "metadata": {},
   "source": [
    "### 3. Wrapping the solvent back into the box\n",
    "Luckily, MDAnalysis also has AtomGroup.wrap to wrap molecules back into the box. "
   ]
  },
  {
   "cell_type": "code",
   "execution_count": null,
   "metadata": {},
   "outputs": [],
   "source": [
    "not_protein = u.select_atoms('not protein')\n",
    "\n",
    "for ts in u.trajectory:\n",
    "    not_protein.wrap(compound='residues')"
   ]
  },
  {
   "cell_type": "markdown",
   "metadata": {},
   "source": [
    "Now our protein is properly centered!"
   ]
  },
  {
   "cell_type": "code",
   "execution_count": null,
   "metadata": {},
   "outputs": [],
   "source": [
    "wrapped = nv.show_mdanalysis(u)\n",
    "wrapped.add_representation('point', 'resname SOL')\n",
    "wrapped.center()\n",
    "wrapped"
   ]
  },
  {
   "cell_type": "markdown",
   "metadata": {},
   "source": [
    "## Doing all this on-the-fly\n",
    "\n",
    "Running all the transformations above can be difficult if your trajectory is large, or your computational resources are limited. Use on-the-fly transformations to keep your data out-of-memory.\n",
    "\n",
    "Let's use on-the-fly transformations to repeat the above transformations we performed above. First we re-load our universe:"
   ]
  },
  {
   "cell_type": "code",
   "execution_count": null,
   "metadata": {},
   "outputs": [],
   "source": [
    "import MDAnalysis.transformations as trans\n",
    "\n",
    "# first, reload the universe\n",
    "u2 = mda.Universe(TPR, XTC)\n",
    "\n",
    "protein2 = u2.select_atoms('protein')\n",
    "not_protein2 = u2.select_atoms('not protein')"
   ]
  },
  {
   "cell_type": "markdown",
   "metadata": {},
   "source": [
    "Some common transformations are defined in `MDAnalysis.transformations` - see the [documentation](https://docs.mdanalysis.org/stable/documentation_pages/trajectory_transformations.html#currently-implemented-transformations) for what's available.\n",
    "\n",
    "This includes `wrap`/`unwrap` functions that correspond to those we used above, as well as a `center_in_box` function. We can add these to the trajectory, in the same order as we performed above, using `add_transformations`. **Note:** you can only use `add_transformations` once on a Universe!"
   ]
  },
  {
   "cell_type": "code",
   "execution_count": null,
   "metadata": {},
   "outputs": [],
   "source": [
    "transforms = [trans.unwrap(protein2),\n",
    "              trans.center_in_box(protein2, wrap=True),\n",
    "              trans.wrap(not_protein2)]\n",
    "\n",
    "u2.trajectory.add_transformations(*transforms)"
   ]
  },
  {
   "cell_type": "markdown",
   "metadata": {},
   "source": [
    "We can visualise to check the transformation is working!"
   ]
  },
  {
   "cell_type": "code",
   "execution_count": null,
   "metadata": {},
   "outputs": [],
   "source": [
    "otf = nv.show_mdanalysis(u2)\n",
    "otf.add_representation('point', 'resname SOL')\n",
    "otf.center()\n",
    "otf"
   ]
  },
  {
   "cell_type": "markdown",
   "metadata": {},
   "source": [
    "The transformations above require extra information from the Univers in the form of AtomGroups on which the transformations are applied, so they are added after the Unvierse is loaded.\n",
    "For some transformations - where extra information like this is not required - you can add the transfromation when you load the Universe:"
   ]
  },
  {
   "cell_type": "code",
   "execution_count": null,
   "metadata": {},
   "outputs": [],
   "source": [
    "u3 = mda.Universe(TPR, XTC, transofmrations=[trans.translate([0,0,1])])"
   ]
  },
  {
   "cell_type": "markdown",
   "metadata": {},
   "source": [
    "## Custom transformations"
   ]
  },
  {
   "cell_type": "markdown",
   "metadata": {},
   "source": [
    "It's possible to define your own transformation by wriing a function that accepts a Timestep as input, and returns an Timestep. For example, to add a transformation that moves all atoms up along the z axis by 2:"
   ]
  },
  {
   "cell_type": "code",
   "execution_count": null,
   "metadata": {},
   "outputs": [],
   "source": [
    "def up_by_2(ts):\n",
    "    \"\"\"Translates atoms up by 2 angstrom\"\"\"\n",
    "    ts.positions += np.array([0.0, 0.0, 0.2])\n",
    "    return ts\n",
    "\n",
    "u = mda.Universe(TPR, XTC, transformations=[up_by_2])"
   ]
  },
  {
   "cell_type": "markdown",
   "metadata": {},
   "source": [
    "If your transformation needs other arguments, you will need to wrap your core transformation with a wrapper function that can accept the other arguments.\n",
    "\n",
    "In this example, our tranformation will move all atom positions up along the z axis by a specified amount:"
   ]
  },
  {
   "cell_type": "code",
   "execution_count": null,
   "metadata": {},
   "outputs": [],
   "source": [
    "def up_by_x(x):\n",
    "\n",
    "    \"\"\"Translates atoms up by x angstrom\"\"\"\n",
    "\n",
    "    def wrapped(ts):\n",
    "\n",
    "        \"\"\"Handles the actual Timestep\"\"\"\n",
    "\n",
    "        ts.positions += np.array([0.0, 0.0, float(x)])\n",
    "\n",
    "        return ts\n",
    "\n",
    "    return wrapped\n",
    "\n",
    "u = mda.Universe(TPR, XTC, transformations=[up_by_x(5), up_by_x(2)])"
   ]
  },
  {
   "cell_type": "markdown",
   "metadata": {},
   "source": [
    "On-the-fly transformation functions can be applied to any property of a Timestep, not just the atom positions! For example, you could use this to define the box dimensions for each frame in a trajectory:"
   ]
  },
  {
   "cell_type": "code",
   "execution_count": null,
   "metadata": {},
   "outputs": [],
   "source": [
    "def set_box(ts):\n",
    "    ts.dimensions = [10, 20, 30, 90, 90, 90]\n",
    "    return ts\n",
    "\n",
    "u = mda.Universe(TPR, XTC, transformations=[set_box])"
   ]
  }
 ],
 "metadata": {
  "kernelspec": {
   "display_name": "Python 3 (ipykernel)",
   "language": "python",
   "name": "python3"
  },
  "language_info": {
   "codemirror_mode": {
    "name": "ipython",
    "version": 3
   },
   "file_extension": ".py",
   "mimetype": "text/x-python",
   "name": "python",
   "nbconvert_exporter": "python",
   "pygments_lexer": "ipython3",
   "version": "3.11.8"
  },
  "toc": {
   "base_numbering": 1,
   "nav_menu": {},
   "number_sections": true,
   "sideBar": true,
   "skip_h1_title": false,
   "title_cell": "Table of Contents",
   "title_sidebar": "Contents",
   "toc_cell": false,
   "toc_position": {},
   "toc_section_display": true,
   "toc_window_display": false
  }
 },
 "nbformat": 4,
 "nbformat_minor": 2
}
