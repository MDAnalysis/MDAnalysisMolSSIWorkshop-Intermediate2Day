{
 "cells": [
  {
   "cell_type": "markdown",
   "metadata": {},
   "source": [
    "# Session 4: Advanced Universe Creation and Attributes\n",
    "\n",
    "<a id='trajanalysis'></a>\n",
    "\n",
    "<a rel=\"license\" href=\"http://creativecommons.org/licenses/by/4.0/\"><img alt=\"Creative Commons Licence\" style=\"border-width:0\" src=\"https://i.creativecommons.org/l/by/4.0/88x31.png\" title='This work is licensed under a Creative Commons Attribution 4.0 International License.' align=\"right\"/></a>\n",
    "\n",
    "Authors: \n",
    "\n",
    "- Dr Micaela Matta - [@micaela-matta](https://github.com/micaela-matta)\n",
    "- Dr Richard Gowers - [@richardjgowers](https://github.com/richardjgowers) \n",
    "\n",
    "This notebook is adapted from materials developed for the [2018 Workshop/Hackathon](https://github.com/MDAnalysis/WorkshopHackathon2018).\n",
    "\n",
    "## Learning Outcomes\n",
    "\n",
    "\n",
    "This notebook contains examples of more complicated `Universe` construction.\n",
    "\n",
    "\n",
    "#### Additional resources\n",
    "\n",
    " - During the workshop, feel free to ask questions at any time\n",
    " - For more on how to use MDAnalysis, see the [User Guide](https://userguide.mdanalysis.org/2.0.0-dev0/) and [documentation](https://docs.mdanalysis.org/2.0.0-dev0/)\n",
    " - Ask questions on the [GitHub Discussions forum](https://github.com/MDAnalysis/mdanalysis/discussions) or on [Discord](https://discord.gg/fXTSfDJyxE)\n",
    " - Report bugs on [GitHub](https://github.com/MDAnalysis/mdanalysis/issues?)\n"
   ]
  },
  {
   "cell_type": "markdown",
   "metadata": {},
   "source": [
    "# Google Colab package installs\n",
    "\n",
    "This installs the necessary packages for Google Colab. Please only run these if you are using Colab."
   ]
  },
  {
   "cell_type": "code",
   "execution_count": null,
   "metadata": {},
   "outputs": [],
   "source": [
    "# NBVAL_SKIP\n",
    "!pip install condacolab\n",
    "import condacolab\n"
   ]
  },
  {
   "cell_type": "code",
   "execution_count": null,
   "metadata": {},
   "outputs": [],
   "source": [
    "# NBVAL_SKIP\n",
    "import condacolab\n",
    "condacolab.check()\n",
    "!mamba install -c conda-forge mdanalysis mdanalysistests mdanalysisdata nglview rdkit"
   ]
  },
  {
   "cell_type": "code",
   "execution_count": null,
   "metadata": {},
   "outputs": [],
   "source": [
    "# NBVAL_SKIP\n",
    "# enable third party jupyter widgets\n",
    "from google.colab import output\n",
    "output.enable_custom_widget_manager()"
   ]
  },
  {
   "cell_type": "code",
   "execution_count": null,
   "metadata": {},
   "outputs": [],
   "source": [
    "import warnings\n",
    "warnings.filterwarnings(\"ignore\") \n",
    "\n",
    "import MDAnalysis as mda\n",
    "import MDAnalysisData as data\n"
   ]
  },
  {
   "cell_type": "markdown",
   "metadata": {},
   "source": [
    "## 1. `transfer_to_memory`\n",
    "\n",
    "The MDAnalysis data model only loads a single frame of trajectory data into memory at any point.  This is because loading an entire trajectory at once would require a large amount of memory.\n",
    "\n",
    "Using the `in_memory` keyword in `Universe` creation, (or calling the `Universe.transfer_to_memory()` method,\n",
    "the entire trajectory can be read into memory.\n",
    "This will require significantly more memory on the workstation,\n",
    "typically a similar amount to the filesize of the trajectory."
   ]
  },
  {
   "cell_type": "code",
   "execution_count": null,
   "metadata": {},
   "outputs": [],
   "source": [
    "adk = data.datasets.fetch_adk_equilibrium()"
   ]
  },
  {
   "cell_type": "code",
   "execution_count": null,
   "metadata": {},
   "outputs": [],
   "source": [
    "regular_u = mda.Universe(adk['topology'], adk['trajectory'])\n",
    "\n",
    "%timeit [ts.frame for ts in regular_u.trajectory]"
   ]
  },
  {
   "cell_type": "markdown",
   "metadata": {},
   "source": [
    "Iterating through a trajectory can be much faster without having to read from the trajectory file for each frame."
   ]
  },
  {
   "cell_type": "markdown",
   "metadata": {},
   "source": []
  },
  {
   "cell_type": "code",
   "execution_count": null,
   "metadata": {},
   "outputs": [],
   "source": [
    "memory_u = mda.Universe(adk['topology'], adk['trajectory'], in_memory=True)\n",
    "\n",
    "%timeit [ts.frame for ts in memory_u.trajectory]"
   ]
  },
  {
   "cell_type": "markdown",
   "metadata": {},
   "source": [
    "Transferring a trajectory to memory converts the `Universe.trajectory` object to a `MemoryReader`.\n",
    "One notable difference of this `Reader` is any changes made to atom positions are permanent!\n",
    "This can be useful when you want to apply a coordinate transformation (ie align the structure) and then analyse afterwards."
   ]
  },
  {
   "cell_type": "code",
   "execution_count": null,
   "metadata": {},
   "outputs": [],
   "source": [
    "print(memory_u.trajectory)"
   ]
  },
  {
   "cell_type": "markdown",
   "metadata": {},
   "source": [
    "## 2. `guess_bonds`\n",
    "\n",
    "By default, bond information is only present in a `Universe` if the topology file had these.\n",
    "This means that various methods such as `.fragments` will not work"
   ]
  },
  {
   "cell_type": "code",
   "execution_count": null,
   "metadata": {},
   "outputs": [],
   "source": [
    "nhaa = data.datasets.fetch_nhaa_equilibrium()\n",
    "\n",
    "nhaa_u = mda.Universe(nhaa['topology'])\n",
    "\n",
    "nhaa_u.atoms.fragments"
   ]
  },
  {
   "cell_type": "markdown",
   "metadata": {},
   "source": [
    "It is possible to try and guess bonds based upon the separations between atoms.\n",
    "Bonds are guessed by comparing the distance between two atoms ($d_{ij}$) to the sum of their vdw radii ($r$) multiplied by a fudge factor ($f = 0.72$ by default).\n",
    "\n",
    "$$ d_{ij} <= f * (r_i + r_j) $$\n",
    "\n",
    "Some vdw_radii are built in to `MDAnalysis`, however any missing radii can be given via the `vdwradii` keyword:"
   ]
  },
  {
   "cell_type": "code",
   "execution_count": null,
   "metadata": {},
   "outputs": [],
   "source": [
    "nhaa_u = mda.Universe(nhaa['topology'], guess_bonds=True, vdwradii={'CL': 2.0, 'NA': 2.0})"
   ]
  },
  {
   "cell_type": "code",
   "execution_count": null,
   "metadata": {},
   "outputs": [],
   "source": [
    "nhaa_u.atoms.fragments"
   ]
  },
  {
   "cell_type": "markdown",
   "metadata": {},
   "source": [
    "## 3. ChainReader\n",
    "\n",
    "MD Trajectories are often created in a series of discrete simulations.\n",
    "By supplying a list of trajectory filenames to `Universe` creation,\n",
    "these will be read in sequence by the `ChainReader` class."
   ]
  },
  {
   "cell_type": "code",
   "execution_count": null,
   "metadata": {},
   "outputs": [],
   "source": [
    "adk_dims = data.datasets.fetch_adk_transitions_DIMS()\n",
    "\n",
    "print(adk_dims['trajectories'][:5])"
   ]
  },
  {
   "cell_type": "code",
   "execution_count": null,
   "metadata": {},
   "outputs": [],
   "source": [
    "chain_u = mda.Universe(adk_dims['topology'], adk_dims['trajectories'])"
   ]
  },
  {
   "cell_type": "code",
   "execution_count": null,
   "metadata": {},
   "outputs": [],
   "source": [
    "print(chain_u.trajectory)"
   ]
  },
  {
   "cell_type": "markdown",
   "metadata": {},
   "source": [
    "## 4. `fetch_mmtf`\n",
    "\n",
    "You can load structures from the Protein Data Bank using the `fetch_mmtf` method.\n",
    "This will download the `mmtf` data from the PDB, and create a Universe from this:"
   ]
  },
  {
   "cell_type": "code",
   "execution_count": null,
   "metadata": {},
   "outputs": [],
   "source": [
    "u = mda.fetch_mmtf('5YVL')\n",
    "\n",
    "print(u)"
   ]
  },
  {
   "cell_type": "markdown",
   "metadata": {},
   "source": [
    "## 5. Creating new systems with MDAnalysis\n",
    "\n",
    "Whilst `MDAnalysis` is designed for reading pre existing simulation files, there is also some features which allow the construction of systems"
   ]
  },
  {
   "cell_type": "markdown",
   "metadata": {},
   "source": [
    "### Universe.empty and adding new attributes\n",
    "\n",
    "The `Universe` object can also be constructed from the `Universe.empty` method, which is similar to `np.zeros`."
   ]
  },
  {
   "cell_type": "code",
   "execution_count": null,
   "metadata": {},
   "outputs": [],
   "source": [
    "\n",
    "mda.Universe.empty?"
   ]
  },
  {
   "cell_type": "markdown",
   "metadata": {},
   "source": [
    "Here we create an 20 atom Universe, with a trajectory attached.  The positions of all atoms will initially be zero"
   ]
  },
  {
   "cell_type": "code",
   "execution_count": null,
   "metadata": {},
   "outputs": [],
   "source": [
    "u = mda.Universe.empty(n_atoms=21, n_residues=7,\n",
    "                       trajectory=True)"
   ]
  },
  {
   "cell_type": "code",
   "execution_count": null,
   "metadata": {},
   "outputs": [],
   "source": [
    "print(u.atoms)\n",
    "print(u.residues)"
   ]
  },
  {
   "cell_type": "code",
   "execution_count": null,
   "metadata": {},
   "outputs": [],
   "source": [
    "print(u.positions)"
   ]
  },
  {
   "cell_type": "code",
   "execution_count": null,
   "metadata": {},
   "outputs": [],
   "source": [
    "for i, res in enumerate(u.residues):\n",
    "    u.atoms[i * 3: (i + 1) * 3].residue = res"
   ]
  },
  {
   "cell_type": "markdown",
   "metadata": {},
   "source": [
    "We can then add various topology attributes to these atoms:"
   ]
  },
  {
   "cell_type": "code",
   "execution_count": null,
   "metadata": {},
   "outputs": [],
   "source": [
    "u.add_TopologyAttr('masses', values=[10.0] * 21)\n",
    "u.add_TopologyAttr('names', values=['A'] * 21)\n",
    "u.add_TopologyAttr('types', values=['Ca'] * 21)\n",
    "u.add_TopologyAttr('resids', values=range(7))\n"
   ]
  },
  {
   "cell_type": "markdown",
   "metadata": {},
   "source": [
    "And finally we can write this `Universe` out to a file:"
   ]
  },
  {
   "cell_type": "code",
   "execution_count": null,
   "metadata": {},
   "outputs": [],
   "source": [
    "u.atoms.write('new.gro')"
   ]
  },
  {
   "cell_type": "code",
   "execution_count": null,
   "metadata": {},
   "outputs": [],
   "source": []
  },
  {
   "cell_type": "code",
   "execution_count": null,
   "metadata": {},
   "outputs": [],
   "source": []
  }
 ],
 "metadata": {
  "kernelspec": {
   "display_name": "Python 3",
   "language": "python",
   "name": "python3"
  },
  "language_info": {
   "codemirror_mode": {
    "name": "ipython",
    "version": 3
   },
   "file_extension": ".py",
   "mimetype": "text/x-python",
   "name": "python",
   "nbconvert_exporter": "python",
   "pygments_lexer": "ipython3",
   "version": "3.11.0"
  }
 },
 "nbformat": 4,
 "nbformat_minor": 2
}
