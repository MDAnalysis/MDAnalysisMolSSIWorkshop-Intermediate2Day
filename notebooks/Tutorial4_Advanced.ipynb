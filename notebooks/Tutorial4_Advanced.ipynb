{ "cells": [
  {
   "cell_type": "markdown",
   "metadata": {},
   "source": [
    "## Advanced Universe creation\n",
    "\n",
    "This notebook contains examples of more complicated `Universe` construction."
   ]
  },
  {
   "cell_type": "code",
   "execution_count": 1,
   "metadata": {},
   "outputs": [],
   "source": [
    "import MDAnalysis as mda\n",
    "import MDAnalysisData as data"
   ]
  },
  {
   "cell_type": "markdown",
   "metadata": {},
   "source": [
    "### transfer_to_memory\n",
    "\n",
    "The MDAnalysis data model only loads a single frame of trajectory data into memory at any point.  This is because loading an entire trajectory at once would require a large amount of memory.\n",
    "\n",
    "Using the `in_memory` keyword in `Universe` creation, (or calling the `Universe.transfer_to_memory()` method,\n",
    "the entire trajectory can be read into memory.\n",
    "This will require significantly more memory on the workstation,\n",
    "typically a similar amount to the filesize of the trajectory."
   ]
  },
  {
   "cell_type": "code",
   "execution_count": 2,
   "metadata": {},
   "outputs": [],
   "source": [
    "adk = data.datasets.fetch_adk_equilibrium()"
   ]
  },
  {
   "cell_type": "code",
   "execution_count": 3,
   "metadata": {},
   "outputs": [
    {
     "name": "stdout",
     "output_type": "stream",
     "text": [
      "600 ms ± 92.7 ms per loop (mean ± std. dev. of 7 runs, 1 loop each)\n"
     ]
    }
   ],
   "source": [
    "regular_u = mda.Universe(adk['topology'], adk['trajectory'])\n",
    "\n",
    "%timeit [ts.frame for ts in regular_u.trajectory]"
   ]
  },
  {
   "cell_type": "markdown",
   "metadata": {},
   "source": [
    "Iterating through a trajectory can be much faster without having to read from the trajectory file for each frame."
   ]
  },
  {
   "cell_type": "code",
   "execution_count": 4,
   "metadata": {},
   "outputs": [
    {
     "name": "stdout",
     "output_type": "stream",
     "text": [
      "24.1 ms ± 672 µs per loop (mean ± std. dev. of 7 runs, 10 loops each)\n"
     ]
    }
   ],
   "source": [
    "memory_u = mda.Universe(adk['topology'], adk['trajectory'], in_memory=True)\n",
    "\n",
    "%timeit [ts.frame for ts in memory_u.trajectory]"
   ]
  },
  {
   "cell_type": "markdown",
   "metadata": {},
   "source": [
    "Transferring a trajectory to memory converts the `Universe.trajectory` object to a `MemoryReader`.\n",
    "One notable difference of this `Reader` is any changes made to atom positions are permanent!\n",
    "This can be useful when you want to apply a coordinate transformation (ie align the structure) and then analyse afterwards."
   ]
  },
  {
   "cell_type": "code",
   "execution_count": 6,
   "metadata": {},
   "outputs": [
    {
     "name": "stdout",
     "output_type": "stream",
     "text": [
      "<MemoryReader with 4187 frames of 3341 atoms>\n"
     ]
    }
   ],
   "source": [
    "print(memory_u.trajectory)"
   ]
  },
  {
   "cell_type": "markdown",
   "metadata": {},
   "source": [
    "### guess_bonds\n",
    "\n",
    "By default, bond information is only present in a `Universe` if the topology file had these.\n",
    "This means that various methods such as `.fragments` will not work"
   ]
  },
  {
   "cell_type": "code",
   "execution_count": 7,
   "metadata": {},
   "outputs": [
    {
     "ename": "NoDataError",
     "evalue": "AtomGroup has no fragments; this requires Bonds",
     "output_type": "error",
     "traceback": [
      "\u001b[0;31m---------------------------------------------------------------------------\u001b[0m",
      "\u001b[0;31mNoDataError\u001b[0m                               Traceback (most recent call last)",
      "\u001b[0;32m<ipython-input-7-6e9b6557bf0b>\u001b[0m in \u001b[0;36m<module>\u001b[0;34m()\u001b[0m\n\u001b[1;32m      3\u001b[0m \u001b[0mnhaa_u\u001b[0m \u001b[0;34m=\u001b[0m \u001b[0mmda\u001b[0m\u001b[0;34m.\u001b[0m\u001b[0mUniverse\u001b[0m\u001b[0;34m(\u001b[0m\u001b[0mnhaa\u001b[0m\u001b[0;34m[\u001b[0m\u001b[0;34m'topology'\u001b[0m\u001b[0;34m]\u001b[0m\u001b[0;34m)\u001b[0m\u001b[0;34m\u001b[0m\u001b[0m\n\u001b[1;32m      4\u001b[0m \u001b[0;34m\u001b[0m\u001b[0m\n\u001b[0;32m----> 5\u001b[0;31m \u001b[0mnhaa_u\u001b[0m\u001b[0;34m.\u001b[0m\u001b[0matoms\u001b[0m\u001b[0;34m.\u001b[0m\u001b[0mfragments\u001b[0m\u001b[0;34m\u001b[0m\u001b[0m\n\u001b[0m",
      "\u001b[0;32m~/code/mdanalysis/package/MDAnalysis/core/groups.py\u001b[0m in \u001b[0;36m__getattr__\u001b[0;34m(self, attr)\u001b[0m\n\u001b[1;32m   1814\u001b[0m             \u001b[0;31m# if attr in _ATTR_ERRORS:\u001b[0m\u001b[0;34m\u001b[0m\u001b[0;34m\u001b[0m\u001b[0m\n\u001b[1;32m   1815\u001b[0m             \u001b[0;31m# raise NDE(_ATTR_ERRORS[attr])\u001b[0m\u001b[0;34m\u001b[0m\u001b[0;34m\u001b[0m\u001b[0m\n\u001b[0;32m-> 1816\u001b[0;31m             \u001b[0;32mraise\u001b[0m \u001b[0mNoDataError\u001b[0m\u001b[0;34m(\u001b[0m\u001b[0;34m\"AtomGroup has no fragments; this requires Bonds\"\u001b[0m\u001b[0;34m)\u001b[0m\u001b[0;34m\u001b[0m\u001b[0m\n\u001b[0m\u001b[1;32m   1817\u001b[0m         \u001b[0;32melif\u001b[0m \u001b[0mhasattr\u001b[0m\u001b[0;34m(\u001b[0m\u001b[0mself\u001b[0m\u001b[0;34m.\u001b[0m\u001b[0muniverse\u001b[0m\u001b[0;34m.\u001b[0m\u001b[0m_topology\u001b[0m\u001b[0;34m,\u001b[0m \u001b[0;34m'names'\u001b[0m\u001b[0;34m)\u001b[0m\u001b[0;34m:\u001b[0m\u001b[0;34m\u001b[0m\u001b[0m\n\u001b[1;32m   1818\u001b[0m             \u001b[0;31m# Ugly hack to make multiple __getattr__s work\u001b[0m\u001b[0;34m\u001b[0m\u001b[0;34m\u001b[0m\u001b[0m\n",
      "\u001b[0;31mNoDataError\u001b[0m: AtomGroup has no fragments; this requires Bonds"
     ]
    }
   ],
   "source": [
    "nhaa = data.datasets.fetch_nhaa_equilibrium()\n",
    "\n",
    "nhaa_u = mda.Universe(nhaa['topology'])\n",
    "\n",
    "nhaa_u.atoms.fragments"
   ]
  },
  {
   "cell_type": "markdown",
   "metadata": {},
   "source": [
    "It is possible to try and guess bonds based upon the separations between atoms.\n",
    "Bonds are guessed by comparing the distance between two atoms ($d_{ij}$) to the sum of their vdw radii ($r$) multiplied by a fudge factor ($f = 0.72$ by default).\n",
    "\n",
    "$$ d_{ij} <= f * (r_i + r_j) $$\n",
    "\n",
    "Some vdw_radii are built in to `MDAnalysis`, however any missing radii can be given via the `vdwradii` keyword:"
   ]
  },
  {
   "cell_type": "code",
   "execution_count": 8,
   "metadata": {},
   "outputs": [],
   "source": [
    "nhaa_u = mda.Universe(nhaa['topology'], guess_bonds=True, vdwradii={'CL': 2.0, 'NA': 2.0})"
   ]
  },
  {
   "cell_type": "code",
   "execution_count": 9,
   "metadata": {},
   "outputs": [
    {
     "data": {
      "text/plain": [
       "(<AtomGroup with 5812 atoms>,\n",
       " <AtomGroup with 5812 atoms>,\n",
       " <AtomGroup with 127 atoms>,\n",
       " <AtomGroup with 127 atoms>,\n",
       " <AtomGroup with 127 atoms>,\n",
       " <AtomGroup with 127 atoms>,\n",
       " <AtomGroup with 127 atoms>,\n",
       " <AtomGroup with 127 atoms>,\n",
       " <AtomGroup with 127 atoms>,\n",
       " <AtomGroup with 127 atoms>,\n",
       " <AtomGroup with 127 atoms>,\n",
       " <AtomGroup with 127 atoms>,\n",
       " <AtomGroup with 127 atoms>,\n",
       " <AtomGroup with 127 atoms>,\n",
       " <AtomGroup with 127 atoms>,\n",
       " <AtomGroup with 127 atoms>,\n",
       " <AtomGroup with 127 atoms>,\n",
       " <AtomGroup with 127 atoms>,\n",
       " <AtomGroup with 127 atoms>,\n",
       " <AtomGroup with 127 atoms>,\n",
       " <AtomGroup with 127 atoms>,\n",
       " <AtomGroup with 127 atoms>,\n",
       " <AtomGroup with 127 atoms>,\n",
       " <AtomGroup with 127 atoms>,\n",
       " <AtomGroup with 127 atoms>,\n",
       " <AtomGroup with 127 atoms>,\n",
       " <AtomGroup with 127 atoms>,\n",
       " <AtomGroup with 127 atoms>,\n",
       " <AtomGroup with 127 atoms>,\n",
       " <AtomGroup with 127 atoms>,\n",
       " <AtomGroup with 127 atoms>,\n",
       " <AtomGroup with 127 atoms>,\n",
       " <AtomGroup with 127 atoms>,\n",
       " <AtomGroup with 127 atoms>,\n",
       " <AtomGroup with 127 atoms>,\n",
       " <AtomGroup with 127 atoms>,\n",
       " <AtomGroup with 127 atoms>,\n",
       " <AtomGroup with 127 atoms>,\n",
       " <AtomGroup with 127 atoms>,\n",
       " <AtomGroup with 127 atoms>,\n",
       " <AtomGroup with 127 atoms>,\n",
       " <AtomGroup with 127 atoms>,\n",
       " <AtomGroup with 127 atoms>,\n",
       " <AtomGroup with 127 atoms>,\n",
       " <AtomGroup with 127 atoms>,\n",
       " <AtomGroup with 127 atoms>,\n",
       " <AtomGroup with 127 atoms>,\n",
       " <AtomGroup with 127 atoms>,\n",
       " <AtomGroup with 127 atoms>,\n",
       " <AtomGroup with 127 atoms>,\n",
       " <AtomGroup with 127 atoms>,\n",
       " <AtomGroup with 127 atoms>,\n",
       " <AtomGroup with 127 atoms>,\n",
       " <AtomGroup with 127 atoms>,\n",
       " <AtomGroup with 127 atoms>,\n",
       " <AtomGroup with 127 atoms>,\n",
       " <AtomGroup with 127 atoms>,\n",
       " <AtomGroup with 127 atoms>,\n",
       " <AtomGroup with 127 atoms>,\n",
       " <AtomGroup with 127 atoms>,\n",
       " <AtomGroup with 127 atoms>,\n",
       " <AtomGroup with 127 atoms>,\n",
       " <AtomGroup with 127 atoms>,\n",
       " <AtomGroup with 127 atoms>,\n",
       " <AtomGroup with 127 atoms>,\n",
       " <AtomGroup with 127 atoms>,\n",
       " <AtomGroup with 127 atoms>,\n",
       " <AtomGroup with 127 atoms>,\n",
       " <AtomGroup with 127 atoms>,\n",
       " <AtomGroup with 127 atoms>,\n",
       " <AtomGroup with 127 atoms>,\n",
       " <AtomGroup with 127 atoms>,\n",
       " <AtomGroup with 127 atoms>,\n",
       " <AtomGroup with 127 atoms>,\n",
       " <AtomGroup with 127 atoms>,\n",
       " <AtomGroup with 127 atoms>,\n",
       " <AtomGroup with 127 atoms>,\n",
       " <AtomGroup with 127 atoms>,\n",
       " <AtomGroup with 127 atoms>,\n",
       " <AtomGroup with 127 atoms>,\n",
       " <AtomGroup with 125 atoms>,\n",
       " <AtomGroup with 125 atoms>,\n",
       " <AtomGroup with 125 atoms>,\n",
       " <AtomGroup with 125 atoms>,\n",
       " <AtomGroup with 125 atoms>,\n",
       " <AtomGroup with 125 atoms>,\n",
       " <AtomGroup with 125 atoms>,\n",
       " <AtomGroup with 125 atoms>,\n",
       " <AtomGroup with 125 atoms>,\n",
       " <AtomGroup with 125 atoms>,\n",
       " <AtomGroup with 125 atoms>,\n",
       " <AtomGroup with 125 atoms>,\n",
       " <AtomGroup with 125 atoms>,\n",
       " <AtomGroup with 125 atoms>,\n",
       " <AtomGroup with 125 atoms>,\n",
       " <AtomGroup with 125 atoms>,\n",
       " <AtomGroup with 125 atoms>,\n",
       " <AtomGroup with 125 atoms>,\n",
       " <AtomGroup with 125 atoms>,\n",
       " <AtomGroup with 125 atoms>,\n",
       " <AtomGroup with 125 atoms>,\n",
       " <AtomGroup with 125 atoms>,\n",
       " <AtomGroup with 125 atoms>,\n",
       " <AtomGroup with 125 atoms>,\n",
       " <AtomGroup with 125 atoms>,\n",
       " <AtomGroup with 125 atoms>,\n",
       " <AtomGroup with 125 atoms>,\n",
       " <AtomGroup with 125 atoms>,\n",
       " <AtomGroup with 125 atoms>,\n",
       " <AtomGroup with 125 atoms>,\n",
       " <AtomGroup with 125 atoms>,\n",
       " <AtomGroup with 125 atoms>,\n",
       " <AtomGroup with 125 atoms>,\n",
       " <AtomGroup with 125 atoms>,\n",
       " <AtomGroup with 125 atoms>,\n",
       " <AtomGroup with 125 atoms>,\n",
       " <AtomGroup with 125 atoms>,\n",
       " <AtomGroup with 125 atoms>,\n",
       " <AtomGroup with 125 atoms>,\n",
       " <AtomGroup with 125 atoms>,\n",
       " <AtomGroup with 125 atoms>,\n",
       " <AtomGroup with 125 atoms>,\n",
       " <AtomGroup with 125 atoms>,\n",
       " <AtomGroup with 125 atoms>,\n",
       " <AtomGroup with 125 atoms>,\n",
       " <AtomGroup with 125 atoms>,\n",
       " <AtomGroup with 125 atoms>,\n",
       " <AtomGroup with 125 atoms>,\n",
       " <AtomGroup with 125 atoms>,\n",
       " <AtomGroup with 125 atoms>,\n",
       " <AtomGroup with 125 atoms>,\n",
       " <AtomGroup with 125 atoms>,\n",
       " <AtomGroup with 125 atoms>,\n",
       " <AtomGroup with 125 atoms>,\n",
       " <AtomGroup with 125 atoms>,\n",
       " <AtomGroup with 125 atoms>,\n",
       " <AtomGroup with 125 atoms>,\n",
       " <AtomGroup with 125 atoms>,\n",
       " <AtomGroup with 125 atoms>,\n",
       " <AtomGroup with 125 atoms>,\n",
       " <AtomGroup with 125 atoms>,\n",
       " <AtomGroup with 125 atoms>,\n",
       " <AtomGroup with 125 atoms>,\n",
       " <AtomGroup with 125 atoms>,\n",
       " <AtomGroup with 125 atoms>,\n",
       " <AtomGroup with 125 atoms>,\n",
       " <AtomGroup with 125 atoms>,\n",
       " <AtomGroup with 125 atoms>,\n",
       " <AtomGroup with 125 atoms>,\n",
       " <AtomGroup with 125 atoms>,\n",
       " <AtomGroup with 125 atoms>,\n",
       " <AtomGroup with 125 atoms>,\n",
       " <AtomGroup with 125 atoms>,\n",
       " <AtomGroup with 125 atoms>,\n",
       " <AtomGroup with 125 atoms>,\n",
       " <AtomGroup with 125 atoms>,\n",
       " <AtomGroup with 125 atoms>,\n",
       " <AtomGroup with 125 atoms>,\n",
       " <AtomGroup with 125 atoms>,\n",
       " <AtomGroup with 125 atoms>,\n",
       " <AtomGroup with 125 atoms>,\n",
       " <AtomGroup with 125 atoms>,\n",
       " <AtomGroup with 125 atoms>,\n",
       " <AtomGroup with 125 atoms>,\n",
       " <AtomGroup with 125 atoms>,\n",
       " <AtomGroup with 125 atoms>,\n",
       " <AtomGroup with 125 atoms>,\n",
       " <AtomGroup with 125 atoms>,\n",
       " <AtomGroup with 125 atoms>,\n",
       " <AtomGroup with 125 atoms>,\n",
       " <AtomGroup with 125 atoms>,\n",
       " <AtomGroup with 125 atoms>,\n",
       " <AtomGroup with 125 atoms>,\n",
       " <AtomGroup with 125 atoms>,\n",
       " <AtomGroup with 125 atoms>,\n",
       " <AtomGroup with 125 atoms>,\n",
       " <AtomGroup with 125 atoms>,\n",
       " <AtomGroup with 125 atoms>,\n",
       " <AtomGroup with 125 atoms>,\n",
       " <AtomGroup with 125 atoms>,\n",
       " <AtomGroup with 125 atoms>,\n",
       " <AtomGroup with 125 atoms>,\n",
       " <AtomGroup with 125 atoms>,\n",
       " <AtomGroup with 125 atoms>,\n",
       " <AtomGroup with 125 atoms>,\n",
       " <AtomGroup with 125 atoms>,\n",
       " <AtomGroup with 125 atoms>,\n",
       " <AtomGroup with 125 atoms>,\n",
       " <AtomGroup with 125 atoms>,\n",
       " <AtomGroup with 125 atoms>,\n",
       " <AtomGroup with 125 atoms>,\n",
       " <AtomGroup with 125 atoms>,\n",
       " <AtomGroup with 125 atoms>,\n",
       " <AtomGroup with 125 atoms>,\n",
       " <AtomGroup with 125 atoms>,\n",
       " <AtomGroup with 125 atoms>,\n",
       " <AtomGroup with 125 atoms>,\n",
       " <AtomGroup with 125 atoms>,\n",
       " <AtomGroup with 125 atoms>,\n",
       " <AtomGroup with 125 atoms>,\n",
       " <AtomGroup with 125 atoms>,\n",
       " <AtomGroup with 125 atoms>,\n",
       " <AtomGroup with 125 atoms>,\n",
       " <AtomGroup with 125 atoms>,\n",
       " <AtomGroup with 125 atoms>,\n",
       " <AtomGroup with 125 atoms>,\n",
       " <AtomGroup with 125 atoms>,\n",
       " <AtomGroup with 125 atoms>,\n",
       " <AtomGroup with 125 atoms>,\n",
       " <AtomGroup with 125 atoms>,\n",
       " <AtomGroup with 125 atoms>,\n",
       " <AtomGroup with 125 atoms>,\n",
       " <AtomGroup with 125 atoms>,\n",
       " <AtomGroup with 125 atoms>,\n",
       " <AtomGroup with 125 atoms>,\n",
       " <AtomGroup with 125 atoms>,\n",
       " <AtomGroup with 125 atoms>,\n",
       " <AtomGroup with 125 atoms>,\n",
       " <AtomGroup with 125 atoms>,\n",
       " <AtomGroup with 125 atoms>,\n",
       " <AtomGroup with 125 atoms>,\n",
       " <AtomGroup with 125 atoms>,\n",
       " <AtomGroup with 125 atoms>,\n",
       " <AtomGroup with 125 atoms>,\n",
       " <AtomGroup with 125 atoms>,\n",
       " <AtomGroup with 125 atoms>,\n",
       " <AtomGroup with 125 atoms>,\n",
       " <AtomGroup with 125 atoms>,\n",
       " <AtomGroup with 125 atoms>,\n",
       " <AtomGroup with 125 atoms>,\n",
       " <AtomGroup with 125 atoms>,\n",
       " <AtomGroup with 125 atoms>,\n",
       " <AtomGroup with 125 atoms>,\n",
       " <AtomGroup with 125 atoms>,\n",
       " <AtomGroup with 125 atoms>,\n",
       " <AtomGroup with 125 atoms>,\n",
       " <AtomGroup with 125 atoms>,\n",
       " <AtomGroup with 125 atoms>,\n",
       " <AtomGroup with 125 atoms>,\n",
       " <AtomGroup with 125 atoms>,\n",
       " <AtomGroup with 125 atoms>,\n",
       " <AtomGroup with 125 atoms>,\n",
       " <AtomGroup with 125 atoms>,\n",
       " <AtomGroup with 125 atoms>,\n",
       " <AtomGroup with 125 atoms>,\n",
       " <AtomGroup with 125 atoms>,\n",
       " <AtomGroup with 125 atoms>,\n",
       " <AtomGroup with 125 atoms>,\n",
       " <AtomGroup with 125 atoms>,\n",
       " <AtomGroup with 125 atoms>,\n",
       " <AtomGroup with 125 atoms>,\n",
       " <AtomGroup with 125 atoms>,\n",
       " <AtomGroup with 125 atoms>,\n",
       " <AtomGroup with 125 atoms>,\n",
       " <AtomGroup with 125 atoms>,\n",
       " <AtomGroup with 125 atoms>,\n",
       " <AtomGroup with 125 atoms>,\n",
       " <AtomGroup with 125 atoms>,\n",
       " <AtomGroup with 125 atoms>,\n",
       " <AtomGroup with 125 atoms>,\n",
       " <AtomGroup with 125 atoms>,\n",
       " <AtomGroup with 125 atoms>,\n",
       " <AtomGroup with 125 atoms>,\n",
       " <AtomGroup with 125 atoms>,\n",
       " <AtomGroup with 125 atoms>,\n",
       " <AtomGroup with 125 atoms>,\n",
       " <AtomGroup with 125 atoms>,\n",
       " <AtomGroup with 125 atoms>,\n",
       " <AtomGroup with 125 atoms>,\n",
       " <AtomGroup with 125 atoms>,\n",
       " <AtomGroup with 125 atoms>,\n",
       " <AtomGroup with 125 atoms>,\n",
       " <AtomGroup with 125 atoms>,\n",
       " <AtomGroup with 125 atoms>,\n",
       " <AtomGroup with 125 atoms>,\n",
       " <AtomGroup with 125 atoms>,\n",
       " <AtomGroup with 125 atoms>,\n",
       " <AtomGroup with 125 atoms>,\n",
       " <AtomGroup with 125 atoms>,\n",
       " <AtomGroup with 125 atoms>,\n",
       " <AtomGroup with 125 atoms>,\n",
       " <AtomGroup with 125 atoms>,\n",
       " <AtomGroup with 125 atoms>,\n",
       " <AtomGroup with 125 atoms>,\n",
       " <AtomGroup with 125 atoms>,\n",
       " <AtomGroup with 125 atoms>,\n",
       " <AtomGroup with 125 atoms>,\n",
       " <AtomGroup with 125 atoms>,\n",
       " <AtomGroup with 125 atoms>,\n",
       " <AtomGroup with 125 atoms>,\n",
       " <AtomGroup with 125 atoms>,\n",
       " <AtomGroup with 125 atoms>,\n",
       " <AtomGroup with 125 atoms>,\n",
       " <AtomGroup with 125 atoms>,\n",
       " <AtomGroup with 125 atoms>,\n",
       " <AtomGroup with 125 atoms>,\n",
       " <AtomGroup with 125 atoms>,\n",
       " <AtomGroup with 125 atoms>,\n",
       " <AtomGroup with 125 atoms>,\n",
       " <AtomGroup with 125 atoms>,\n",
       " <AtomGroup with 125 atoms>,\n",
       " <AtomGroup with 125 atoms>,\n",
       " <AtomGroup with 125 atoms>,\n",
       " <AtomGroup with 125 atoms>,\n",
       " <AtomGroup with 125 atoms>,\n",
       " <AtomGroup with 125 atoms>,\n",
       " <AtomGroup with 125 atoms>,\n",
       " <AtomGroup with 125 atoms>,\n",
       " <AtomGroup with 125 atoms>,\n",
       " <AtomGroup with 125 atoms>,\n",
       " <AtomGroup with 125 atoms>,\n",
       " <AtomGroup with 125 atoms>,\n",
       " <AtomGroup with 125 atoms>,\n",
       " <AtomGroup with 126 atoms>,\n",
       " <AtomGroup with 125 atoms>,\n",
       " <AtomGroup with 125 atoms>,\n",
       " <AtomGroup with 125 atoms>,\n",
       " <AtomGroup with 125 atoms>,\n",
       " <AtomGroup with 125 atoms>,\n",
       " <AtomGroup with 125 atoms>,\n",
       " <AtomGroup with 125 atoms>,\n",
       " <AtomGroup with 125 atoms>,\n",
       " <AtomGroup with 125 atoms>,\n",
       " <AtomGroup with 125 atoms>,\n",
       " <AtomGroup with 125 atoms>,\n",
       " <AtomGroup with 125 atoms>,\n",
       " <AtomGroup with 125 atoms>,\n",
       " <AtomGroup with 125 atoms>,\n",
       " <AtomGroup with 125 atoms>,\n",
       " <AtomGroup with 125 atoms>,\n",
       " <AtomGroup with 125 atoms>,\n",
       " <AtomGroup with 125 atoms>,\n",
       " <AtomGroup with 125 atoms>,\n",
       " <AtomGroup with 125 atoms>,\n",
       " <AtomGroup with 125 atoms>,\n",
       " <AtomGroup with 125 atoms>,\n",
       " <AtomGroup with 125 atoms>,\n",
       " <AtomGroup with 125 atoms>,\n",
       " <AtomGroup with 125 atoms>,\n",
       " <AtomGroup with 125 atoms>,\n",
       " <AtomGroup with 125 atoms>,\n",
       " <AtomGroup with 125 atoms>,\n",
       " <AtomGroup with 125 atoms>,\n",
       " <AtomGroup with 125 atoms>,\n",
       " <AtomGroup with 125 atoms>,\n",
       " <AtomGroup with 125 atoms>,\n",
       " <AtomGroup with 125 atoms>,\n",
       " <AtomGroup with 125 atoms>,\n",
       " <AtomGroup with 125 atoms>,\n",
       " <AtomGroup with 125 atoms>,\n",
       " <AtomGroup with 125 atoms>,\n",
       " <AtomGroup with 125 atoms>,\n",
       " <AtomGroup with 125 atoms>,\n",
       " <AtomGroup with 125 atoms>,\n",
       " <AtomGroup with 125 atoms>,\n",
       " <AtomGroup with 125 atoms>,\n",
       " <AtomGroup with 125 atoms>,\n",
       " <AtomGroup with 125 atoms>,\n",
       " <AtomGroup with 125 atoms>,\n",
       " <AtomGroup with 125 atoms>,\n",
       " <AtomGroup with 125 atoms>,\n",
       " <AtomGroup with 125 atoms>,\n",
       " <AtomGroup with 125 atoms>,\n",
       " <AtomGroup with 125 atoms>,\n",
       " <AtomGroup with 125 atoms>,\n",
       " <AtomGroup with 125 atoms>,\n",
       " <AtomGroup with 125 atoms>,\n",
       " <AtomGroup with 125 atoms>,\n",
       " <AtomGroup with 125 atoms>,\n",
       " <AtomGroup with 125 atoms>,\n",
       " <AtomGroup with 125 atoms>,\n",
       " <AtomGroup with 125 atoms>,\n",
       " <AtomGroup with 125 atoms>,\n",
       " <AtomGroup with 125 atoms>,\n",
       " <AtomGroup with 125 atoms>,\n",
       " <AtomGroup with 125 atoms>,\n",
       " <AtomGroup with 125 atoms>,\n",
       " <AtomGroup with 125 atoms>,\n",
       " <AtomGroup with 125 atoms>,\n",
       " <AtomGroup with 125 atoms>,\n",
       " <AtomGroup with 125 atoms>,\n",
       " <AtomGroup with 125 atoms>,\n",
       " <AtomGroup with 125 atoms>,\n",
       " <AtomGroup with 125 atoms>,\n",
       " <AtomGroup with 125 atoms>,\n",
       " <AtomGroup with 125 atoms>,\n",
       " <AtomGroup with 125 atoms>,\n",
       " <AtomGroup with 125 atoms>,\n",
       " <AtomGroup with 125 atoms>,\n",
       " <AtomGroup with 125 atoms>,\n",
       " <AtomGroup with 125 atoms>,\n",
       " <AtomGroup with 125 atoms>,\n",
       " <AtomGroup with 1 atom>,\n",
       " <AtomGroup with 1 atom>,\n",
       " <AtomGroup with 1 atom>,\n",
       " <AtomGroup with 1 atom>,\n",
       " <AtomGroup with 1 atom>,\n",
       " <AtomGroup with 1 atom>,\n",
       " <AtomGroup with 1 atom>,\n",
       " <AtomGroup with 1 atom>,\n",
       " <AtomGroup with 1 atom>,\n",
       " <AtomGroup with 1 atom>,\n",
       " <AtomGroup with 1 atom>,\n",
       " <AtomGroup with 1 atom>,\n",
       " <AtomGroup with 1 atom>,\n",
       " <AtomGroup with 1 atom>,\n",
       " <AtomGroup with 1 atom>,\n",
       " <AtomGroup with 1 atom>,\n",
       " <AtomGroup with 1 atom>,\n",
       " <AtomGroup with 1 atom>,\n",
       " <AtomGroup with 1 atom>,\n",
       " <AtomGroup with 1 atom>,\n",
       " <AtomGroup with 1 atom>,\n",
       " <AtomGroup with 1 atom>,\n",
       " <AtomGroup with 2 atoms>,\n",
       " <AtomGroup with 1 atom>,\n",
       " <AtomGroup with 1 atom>,\n",
       " <AtomGroup with 1 atom>,\n",
       " <AtomGroup with 1 atom>,\n",
       " <AtomGroup with 1 atom>,\n",
       " <AtomGroup with 1 atom>,\n",
       " <AtomGroup with 1 atom>,\n",
       " <AtomGroup with 1 atom>,\n",
       " <AtomGroup with 1 atom>,\n",
       " <AtomGroup with 1 atom>,\n",
       " <AtomGroup with 1 atom>,\n",
       " <AtomGroup with 1 atom>,\n",
       " <AtomGroup with 1 atom>,\n",
       " <AtomGroup with 1 atom>,\n",
       " <AtomGroup with 1 atom>,\n",
       " <AtomGroup with 1 atom>,\n",
       " <AtomGroup with 1 atom>,\n",
       " <AtomGroup with 1 atom>,\n",
       " <AtomGroup with 1 atom>,\n",
       " <AtomGroup with 1 atom>,\n",
       " <AtomGroup with 1 atom>,\n",
       " <AtomGroup with 1 atom>,\n",
       " <AtomGroup with 1 atom>,\n",
       " <AtomGroup with 1 atom>,\n",
       " <AtomGroup with 1 atom>,\n",
       " <AtomGroup with 1 atom>,\n",
       " <AtomGroup with 1 atom>,\n",
       " <AtomGroup with 1 atom>,\n",
       " <AtomGroup with 1 atom>,\n",
       " <AtomGroup with 1 atom>,\n",
       " <AtomGroup with 1 atom>,\n",
       " <AtomGroup with 1 atom>,\n",
       " <AtomGroup with 1 atom>,\n",
       " <AtomGroup with 1 atom>,\n",
       " <AtomGroup with 1 atom>,\n",
       " <AtomGroup with 1 atom>,\n",
       " <AtomGroup with 1 atom>,\n",
       " <AtomGroup with 1 atom>,\n",
       " <AtomGroup with 1 atom>,\n",
       " <AtomGroup with 1 atom>,\n",
       " <AtomGroup with 1 atom>,\n",
       " <AtomGroup with 1 atom>,\n",
       " <AtomGroup with 1 atom>,\n",
       " <AtomGroup with 1 atom>,\n",
       " <AtomGroup with 1 atom>,\n",
       " <AtomGroup with 1 atom>,\n",
       " <AtomGroup with 1 atom>,\n",
       " <AtomGroup with 1 atom>,\n",
       " <AtomGroup with 1 atom>,\n",
       " <AtomGroup with 1 atom>,\n",
       " <AtomGroup with 1 atom>,\n",
       " <AtomGroup with 1 atom>,\n",
       " <AtomGroup with 1 atom>,\n",
       " <AtomGroup with 1 atom>,\n",
       " <AtomGroup with 1 atom>,\n",
       " <AtomGroup with 1 atom>,\n",
       " <AtomGroup with 1 atom>,\n",
       " <AtomGroup with 1 atom>,\n",
       " <AtomGroup with 1 atom>,\n",
       " <AtomGroup with 1 atom>,\n",
       " <AtomGroup with 1 atom>,\n",
       " <AtomGroup with 1 atom>,\n",
       " <AtomGroup with 1 atom>,\n",
       " <AtomGroup with 1 atom>,\n",
       " <AtomGroup with 1 atom>,\n",
       " <AtomGroup with 1 atom>,\n",
       " <AtomGroup with 1 atom>,\n",
       " <AtomGroup with 1 atom>,\n",
       " <AtomGroup with 1 atom>,\n",
       " <AtomGroup with 1 atom>,\n",
       " <AtomGroup with 1 atom>,\n",
       " <AtomGroup with 1 atom>,\n",
       " <AtomGroup with 1 atom>,\n",
       " <AtomGroup with 1 atom>,\n",
       " <AtomGroup with 1 atom>,\n",
       " <AtomGroup with 1 atom>,\n",
       " <AtomGroup with 1 atom>,\n",
       " <AtomGroup with 1 atom>,\n",
       " <AtomGroup with 1 atom>,\n",
       " <AtomGroup with 1 atom>,\n",
       " <AtomGroup with 1 atom>,\n",
       " <AtomGroup with 1 atom>,\n",
       " <AtomGroup with 1 atom>,\n",
       " <AtomGroup with 1 atom>,\n",
       " <AtomGroup with 1 atom>,\n",
       " <AtomGroup with 1 atom>,\n",
       " <AtomGroup with 1 atom>,\n",
       " <AtomGroup with 1 atom>,\n",
       " <AtomGroup with 1 atom>,\n",
       " <AtomGroup with 1 atom>,\n",
       " <AtomGroup with 1 atom>,\n",
       " <AtomGroup with 1 atom>,\n",
       " <AtomGroup with 1 atom>,\n",
       " <AtomGroup with 1 atom>,\n",
       " <AtomGroup with 1 atom>,\n",
       " <AtomGroup with 1 atom>,\n",
       " <AtomGroup with 1 atom>,\n",
       " <AtomGroup with 1 atom>,\n",
       " <AtomGroup with 1 atom>,\n",
       " <AtomGroup with 1 atom>,\n",
       " <AtomGroup with 1 atom>,\n",
       " <AtomGroup with 1 atom>,\n",
       " <AtomGroup with 1 atom>,\n",
       " <AtomGroup with 1 atom>,\n",
       " <AtomGroup with 1 atom>,\n",
       " <AtomGroup with 1 atom>,\n",
       " <AtomGroup with 1 atom>,\n",
       " <AtomGroup with 1 atom>,\n",
       " <AtomGroup with 1 atom>,\n",
       " <AtomGroup with 1 atom>,\n",
       " <AtomGroup with 1 atom>,\n",
       " <AtomGroup with 1 atom>,\n",
       " <AtomGroup with 1 atom>,\n",
       " <AtomGroup with 1 atom>,\n",
       " <AtomGroup with 1 atom>,\n",
       " <AtomGroup with 1 atom>,\n",
       " <AtomGroup with 1 atom>,\n",
       " <AtomGroup with 1 atom>,\n",
       " <AtomGroup with 1 atom>,\n",
       " <AtomGroup with 1 atom>,\n",
       " <AtomGroup with 1 atom>,\n",
       " <AtomGroup with 1 atom>,\n",
       " <AtomGroup with 1 atom>,\n",
       " <AtomGroup with 1 atom>,\n",
       " <AtomGroup with 1 atom>,\n",
       " <AtomGroup with 1 atom>,\n",
       " <AtomGroup with 1 atom>,\n",
       " <AtomGroup with 1 atom>,\n",
       " <AtomGroup with 1 atom>,\n",
       " <AtomGroup with 1 atom>,\n",
       " <AtomGroup with 1 atom>,\n",
       " <AtomGroup with 1 atom>,\n",
       " <AtomGroup with 1 atom>,\n",
       " <AtomGroup with 1 atom>,\n",
       " <AtomGroup with 1 atom>,\n",
       " <AtomGroup with 1 atom>,\n",
       " <AtomGroup with 1 atom>,\n",
       " <AtomGroup with 1 atom>,\n",
       " <AtomGroup with 1 atom>,\n",
       " <AtomGroup with 1 atom>,\n",
       " <AtomGroup with 1 atom>,\n",
       " <AtomGroup with 1 atom>,\n",
       " <AtomGroup with 1 atom>,\n",
       " <AtomGroup with 1 atom>,\n",
       " <AtomGroup with 1 atom>,\n",
       " <AtomGroup with 1 atom>,\n",
       " <AtomGroup with 1 atom>)"
      ]
     },
     "execution_count": 9,
     "metadata": {},
     "output_type": "execute_result"
    }
   ],
   "source": [
    "nhaa_u.atoms.fragments"
   ]
  },
  {
   "cell_type": "markdown",
   "metadata": {},
   "source": [
    "### ChainReader\n",
    "\n",
    "MD Trajectories are often created in a series of discrete simulations.\n",
    "By supplying a list of trajectory filenames to `Universe` creation,\n",
    "these will be read in sequence by the `ChainReader` class."
   ]
  },
  {
   "cell_type": "code",
   "execution_count": 10,
   "metadata": {},
   "outputs": [
    {
     "name": "stdout",
     "output_type": "stream",
     "text": [
      "['/Users/richardgowers/MDAnalysis_data/adk_transitions_DIMS/DIMS/trajectories/dims0138_fit-core.dcd', '/Users/richardgowers/MDAnalysis_data/adk_transitions_DIMS/DIMS/trajectories/dims0192_fit-core.dcd', '/Users/richardgowers/MDAnalysis_data/adk_transitions_DIMS/DIMS/trajectories/dims0048_fit-core.dcd', '/Users/richardgowers/MDAnalysis_data/adk_transitions_DIMS/DIMS/trajectories/dims0195_fit-core.dcd', '/Users/richardgowers/MDAnalysis_data/adk_transitions_DIMS/DIMS/trajectories/dims0180_fit-core.dcd']\n"
     ]
    }
   ],
   "source": [
    "adk_dims = data.datasets.fetch_adk_transitions_DIMS()\n",
    "\n",
    "print(adk_dims['trajectories'][:5])"
   ]
  },
  {
   "cell_type": "code",
   "execution_count": 11,
   "metadata": {},
   "outputs": [],
   "source": [
    "chain_u = mda.Universe(adk_dims['topology'], adk_dims['trajectories'])"
   ]
  },
  {
   "cell_type": "code",
   "execution_count": 12,
   "metadata": {},
   "outputs": [
    {
     "name": "stdout",
     "output_type": "stream",
     "text": [
      "<ChainReader containing dims0138_fit-core.dcd and 199 more with 19691 frames of 3341 atoms>\n"
     ]
    }
   ],
   "source": [
    "print(chain_u.trajectory)"
   ]
  },
  {
   "cell_type": "markdown",
   "metadata": {},
   "source": [
    "### Universe.empty\n",
    "\n",
    "Universes can be created even without a file, this is useful for building a system from scratch.\n",
    "This is done via the `Universe.empty()` construction method.\n",
    "For more details on this, check out the other Notebook in the Advanced tutorials section."
   ]
  },
  {
   "cell_type": "code",
   "execution_count": 13,
   "metadata": {},
   "outputs": [
    {
     "name": "stdout",
     "output_type": "stream",
     "text": [
      "<Universe with 20 atoms>\n"
     ]
    }
   ],
   "source": [
    "blank_u = mda.Universe.empty(20)\n",
    "\n",
    "print(blank_u)"
   ]
  },
  {
   "cell_type": "markdown",
   "metadata": {},
   "source": [
    "### fetch_mmtf\n",
    "\n",
    "You can load structures from the Protein Data Bank using the `fetch_mmtf` method.\n",
    "This will download the `mmtf` data from the PDB, and create a Universe from this:"
   ]
  },
  {
   "cell_type": "code",
   "execution_count": 39,
   "metadata": {},
   "outputs": [
    {
     "name": "stdout",
     "output_type": "stream",
     "text": [
      "<Universe with 6799 atoms>\n"
     ]
    },
    {
     "name": "stderr",
     "output_type": "stream",
     "text": [
      "/Users/richardgowers/miniconda3/envs/mda/lib/python3.6/site-packages/MDAnalysis/topology/guessers.py:72: UserWarning: Failed to guess the mass for the following atom types: Ca\n",
      "  warnings.warn(\"Failed to guess the mass for the following atom types: {}\".format(atom_type))\n"
     ]
    }
   ],
   "source": [
    "u = mda.fetch_mmtf('5YVL')\n",
    "\n",
    "print(u)"
   ]
  }
 ,
  {
   "cell_type": "markdown",
   "metadata": {},
   "source": [
    "### Creating new systems with MDAnalysis\n",
    "\n",
    "Whilst `MDAnalysis` is designed for reading pre existing simulation files, there is also some features which allow the construction of systems"
   ]
  },
  {
   "cell_type": "markdown",
   "metadata": {},
   "source": [
    "### Universe.empty and adding new attributes\n",
    "\n",
    "The `Universe` object can also be constructed from the `Universe.empty` method, which is similar to `np.zeros`."
   ]
  },
  {
   "cell_type": "code",
   "execution_count": 1,
   "metadata": {},
   "outputs": [],
   "source": [
    "import MDAnalysis as mda\n",
    "\n",
    "mda.Universe.empty?"
   ]
  },
  {
   "cell_type": "markdown",
   "metadata": {},
   "source": [
    "Here we create an 20 atom Universe, with a trajectory attached.  The positions of all atoms will initially be zero"
   ]
  },
  {
   "cell_type": "code",
   "execution_count": 2,
   "metadata": {},
   "outputs": [
    {
     "name": "stderr",
     "output_type": "stream",
     "text": [
      "/Users/richardgowers/code/mdanalysis/package/MDAnalysis/core/universe.py:472: UserWarning: Multiple residues specified but no atom_resindex given.  All atoms will be placed in first Residue.\n",
      "  UserWarning)\n"
     ]
    }
   ],
   "source": [
    "u = mda.Universe.empty(n_atoms=21, n_residues=7,\n",
    "                       trajectory=True)"
   ]
  },
  {
   "cell_type": "code",
   "execution_count": 3,
   "metadata": {},
   "outputs": [
    {
     "name": "stdout",
     "output_type": "stream",
     "text": [
      "<AtomGroup [<Atom 1:>, <Atom 2:>, <Atom 3:>, ..., <Atom 19:>, <Atom 20:>, <Atom 21:>]>\n",
      "<ResidueGroup [<Residue>, <Residue>, <Residue>, <Residue>, <Residue>, <Residue>, <Residue>]>\n"
     ]
    }
   ],
   "source": [
    "print(u.atoms)\n",
    "print(u.residues)"
   ]
  },
  {
   "cell_type": "code",
   "execution_count": 4,
   "metadata": {},
   "outputs": [],
   "source": [
    "for i, res in enumerate(u.residues):\n",
    "    u.atoms[i * 3: (i + 1) * 3].residue = res"
   ]
  },
  {
   "cell_type": "markdown",
   "metadata": {},
   "source": [
    "We can then add various topology attributes to these atoms"
   ]
  },
  {
   "cell_type": "code",
   "execution_count": 5,
   "metadata": {},
   "outputs": [],
   "source": [
    "u.add_TopologyAttr('masses', values=[10.0] * 21)\n",
    "u.add_TopologyAttr('names', values=['A'] * 21)\n",
    "u.add_TopologyAttr('types', values=['Ca'] * 21)\n",
    "u.add_TopologyAttr('resids', values=range(7))\n"
   ]
  },
  {
   "cell_type": "markdown",
   "metadata": {},
   "source": [
    "And finally we can write this `Universe` out to a file"
   ]
  },
  {
   "cell_type": "code",
   "execution_count": 6,
   "metadata": {},
   "outputs": [
    {
     "name": "stderr",
     "output_type": "stream",
     "text": [
      "/Users/richardgowers/code/mdanalysis/package/MDAnalysis/coordinates/GRO.py:408: UserWarning: Supplied AtomGroup was missing the following attributes: resnames. These will be written with default values. Alternatively these can be supplied as keyword arguments.\n",
      "  \"\".format(miss=', '.join(missing_topology)))\n"
     ]
    }
   ],
   "source": [
    "u.atoms.write('new.gro')"
   ]
  }
 ],
 "metadata": {
  "kernelspec": {
   "display_name": "Python 3",
   "language": "python",
   "name": "python3"
  },
  "language_info": {
   "codemirror_mode": {
    "name": "ipython",
    "version": 3
   },
   "file_extension": ".py",
   "mimetype": "text/x-python",
   "name": "python",
   "nbconvert_exporter": "python",
   "pygments_lexer": "ipython3",
   "version": "3.6.6"
  }
 },
 "nbformat": 4,
 "nbformat_minor": 2
}
