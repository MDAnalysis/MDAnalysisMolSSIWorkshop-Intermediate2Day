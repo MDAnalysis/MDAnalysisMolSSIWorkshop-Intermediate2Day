{
 "cells": [
  {
   "cell_type": "markdown",
   "metadata": {},
   "source": [
    "# Session 4: Advanced Universe Creation and Attributes\n",
    "\n",
    "<a id='trajanalysis'></a>\n",
    "\n",
    "<a rel=\"license\" href=\"http://creativecommons.org/licenses/by/4.0/\"><img alt=\"Creative Commons Licence\" style=\"border-width:0\" src=\"https://i.creativecommons.org/l/by/4.0/88x31.png\" title='This work is licensed under a Creative Commons Attribution 4.0 International License.' align=\"right\"/></a>\n",
    "\n",
    "Authors: \n",
    "\n",
    "- Dr Micaela Matta - [@micaela-matta](https://github.com/micaela-matta)\n",
    "- Dr Richard Gowers - [@richardjgowers](https://github.com/richardjgowers) \n",
    "\n",
    "This notebook is adapted from materials developed for the [2018 Workshop/Hackathon](https://github.com/MDAnalysis/WorkshopHackathon2018).\n",
    "\n",
    "## Learning Outcomes\n",
    "\n",
    "\n",
    "This notebook contains examples of more complicated `Universe` construction.\n",
    "\n",
    "\n",
    "#### Additional resources\n",
    "\n",
    " - During the workshop, feel free to ask questions at any time\n",
    " - For more on how to use MDAnalysis, see the [User Guide](https://userguide.mdanalysis.org/2.0.0-dev0/) and [documentation](https://docs.mdanalysis.org/2.0.0-dev0/)\n",
    " - Ask questions on the [GitHub Discussions forum](https://github.com/MDAnalysis/mdanalysis/discussions) or on [Discord](https://discord.gg/fXTSfDJyxE)\n",
    " - Report bugs on [GitHub](https://github.com/MDAnalysis/mdanalysis/issues?)\n"
   ]
  },
  {
   "cell_type": "markdown",
   "metadata": {},
   "source": [
    "# Google Colab package installs\n",
    "\n",
    "This installs the necessary packages for Google Colab. Please only run these if you are using Colab."
   ]
  },
  {
   "cell_type": "code",
   "execution_count": null,
   "metadata": {},
   "outputs": [],
   "source": [
    "# NBVAL_SKIP\n",
    "!pip install condacolab\n",
    "import condacolab\n"
   ]
  },
  {
   "cell_type": "code",
   "execution_count": null,
   "metadata": {},
   "outputs": [],
   "source": [
    "# NBVAL_SKIP\n",
    "import condacolab\n",
    "condacolab.check()\n",
    "!mamba install -c conda-forge mdanalysis mdanalysistests mdanalysisdata nglview rdkit"
   ]
  },
  {
   "cell_type": "code",
   "execution_count": null,
   "metadata": {},
   "outputs": [],
   "source": [
    "# NBVAL_SKIP\n",
    "# enable third party jupyter widgets\n",
    "from google.colab import output\n",
    "output.enable_custom_widget_manager()"
   ]
  },
  {
   "cell_type": "code",
   "execution_count": 1,
   "metadata": {},
   "outputs": [
    {
     "name": "stderr",
     "output_type": "stream",
     "text": [
      "/Users/richard/mambaforge/envs/mda_workshop/lib/python3.11/site-packages/MDAnalysisData/base.py:34: DeprecationWarning: pkg_resources is deprecated as an API. See https://setuptools.pypa.io/en/latest/pkg_resources.html\n",
      "  from pkg_resources import resource_string\n"
     ]
    }
   ],
   "source": [
    "import warnings\n",
    "warnings.filterwarnings(\"ignore\") \n",
    "\n",
    "import MDAnalysis as mda\n",
    "import MDAnalysisData as data\n"
   ]
  },
  {
   "cell_type": "markdown",
   "metadata": {},
   "source": [
    "## 1. `transfer_to_memory`\n",
    "\n",
    "The MDAnalysis data model only loads a single frame of trajectory data into memory at any point.  This is because loading an entire trajectory at once would require a large amount of memory.\n",
    "\n",
    "Using the `in_memory` keyword in `Universe` creation, (or calling the `Universe.transfer_to_memory()` method,\n",
    "the entire trajectory can be read into memory.\n",
    "This will require significantly more memory on the workstation,\n",
    "typically a similar amount to the filesize of the trajectory."
   ]
  },
  {
   "cell_type": "code",
   "execution_count": 2,
   "metadata": {},
   "outputs": [],
   "source": [
    "adk = data.datasets.fetch_adk_equilibrium()"
   ]
  },
  {
   "cell_type": "code",
   "execution_count": 3,
   "metadata": {},
   "outputs": [
    {
     "name": "stderr",
     "output_type": "stream",
     "text": [
      "/Users/richard/mambaforge/envs/mda_workshop/lib/python3.11/site-packages/MDAnalysis/coordinates/DCD.py:165: DeprecationWarning: DCDReader currently makes independent timesteps by copying self.ts while other readers update self.ts inplace. This behavior will be changed in 3.0 to be the same as other readers. Read more at https://github.com/MDAnalysis/mdanalysis/issues/3889 to learn if this change in behavior might affect you.\n",
      "  warnings.warn(\"DCDReader currently makes independent timesteps\"\n"
     ]
    },
    {
     "name": "stdout",
     "output_type": "stream",
     "text": [
      "155 ms ± 1.18 ms per loop (mean ± std. dev. of 7 runs, 10 loops each)\n"
     ]
    }
   ],
   "source": [
    "regular_u = mda.Universe(adk['topology'], adk['trajectory'])\n",
    "\n",
    "%timeit [ts.frame for ts in regular_u.trajectory]"
   ]
  },
  {
   "cell_type": "markdown",
   "metadata": {},
   "source": [
    "Iterating through a trajectory can be much faster without having to read from the trajectory file for each frame."
   ]
  },
  {
   "cell_type": "code",
   "execution_count": 4,
   "metadata": {},
   "outputs": [
    {
     "name": "stdout",
     "output_type": "stream",
     "text": [
      "4.36 ms ± 25.8 µs per loop (mean ± std. dev. of 7 runs, 100 loops each)\n"
     ]
    }
   ],
   "source": [
    "memory_u = mda.Universe(adk['topology'], adk['trajectory'], in_memory=True)\n",
    "\n",
    "%timeit [ts.frame for ts in memory_u.trajectory]"
   ]
  },
  {
   "cell_type": "markdown",
   "metadata": {},
   "source": [
    "Transferring a trajectory to memory converts the `Universe.trajectory` object to a `MemoryReader`.\n",
    "One notable difference of this `Reader` is any changes made to atom positions are permanent!\n",
    "This can be useful when you want to apply a coordinate transformation (ie align the structure) and then analyse afterwards."
   ]
  },
  {
   "cell_type": "code",
   "execution_count": 5,
   "metadata": {},
   "outputs": [
    {
     "name": "stdout",
     "output_type": "stream",
     "text": [
      "<MemoryReader with 4187 frames of 3341 atoms>\n"
     ]
    }
   ],
   "source": [
    "print(memory_u.trajectory)"
   ]
  },
  {
   "cell_type": "markdown",
   "metadata": {},
   "source": [
    "## 2. `guess_bonds`\n",
    "\n",
    "By default, bond information is only present in a `Universe` if the topology file had these.\n",
    "This means that various methods such as `.fragments` will not work"
   ]
  },
  {
   "cell_type": "code",
   "execution_count": 6,
   "metadata": {},
   "outputs": [
    {
     "ename": "NoDataError",
     "evalue": "AtomGroup.fragments not available; this requires bonds",
     "output_type": "error",
     "traceback": [
      "\u001b[0;31m---------------------------------------------------------------------------\u001b[0m",
      "\u001b[0;31mNoDataError\u001b[0m                               Traceback (most recent call last)",
      "Cell \u001b[0;32mIn[6], line 5\u001b[0m\n\u001b[1;32m      1\u001b[0m nhaa \u001b[38;5;241m=\u001b[39m data\u001b[38;5;241m.\u001b[39mdatasets\u001b[38;5;241m.\u001b[39mfetch_nhaa_equilibrium()\n\u001b[1;32m      3\u001b[0m nhaa_u \u001b[38;5;241m=\u001b[39m mda\u001b[38;5;241m.\u001b[39mUniverse(nhaa[\u001b[38;5;124m'\u001b[39m\u001b[38;5;124mtopology\u001b[39m\u001b[38;5;124m'\u001b[39m])\n\u001b[0;32m----> 5\u001b[0m \u001b[43mnhaa_u\u001b[49m\u001b[38;5;241;43m.\u001b[39;49m\u001b[43matoms\u001b[49m\u001b[38;5;241;43m.\u001b[39;49m\u001b[43mfragments\u001b[49m\n",
      "File \u001b[0;32m~/mambaforge/envs/mda_workshop/lib/python3.11/site-packages/MDAnalysis/core/groups.py:2539\u001b[0m, in \u001b[0;36mAtomGroup.__getattr__\u001b[0;34m(self, attr)\u001b[0m\n\u001b[1;32m   2537\u001b[0m \u001b[38;5;28;01melif\u001b[39;00m attr \u001b[38;5;241m==\u001b[39m \u001b[38;5;124m'\u001b[39m\u001b[38;5;124mpositions\u001b[39m\u001b[38;5;124m'\u001b[39m:\n\u001b[1;32m   2538\u001b[0m     \u001b[38;5;28;01mraise\u001b[39;00m NoDataError(\u001b[38;5;124m'\u001b[39m\u001b[38;5;124mThis Universe has no coordinates\u001b[39m\u001b[38;5;124m'\u001b[39m)\n\u001b[0;32m-> 2539\u001b[0m \u001b[38;5;28;01mreturn\u001b[39;00m \u001b[38;5;28;43msuper\u001b[39;49m\u001b[43m(\u001b[49m\u001b[43mAtomGroup\u001b[49m\u001b[43m,\u001b[49m\u001b[43m \u001b[49m\u001b[38;5;28;43mself\u001b[39;49m\u001b[43m)\u001b[49m\u001b[38;5;241;43m.\u001b[39;49m\u001b[38;5;21;43m__getattr__\u001b[39;49m\u001b[43m(\u001b[49m\u001b[43mattr\u001b[49m\u001b[43m)\u001b[49m\n",
      "File \u001b[0;32m~/mambaforge/envs/mda_workshop/lib/python3.11/site-packages/MDAnalysis/core/groups.py:616\u001b[0m, in \u001b[0;36mGroupBase.__getattr__\u001b[0;34m(self, attr)\u001b[0m\n\u001b[1;32m    614\u001b[0m         \u001b[38;5;28;01mraise\u001b[39;00m NoDataError(err\u001b[38;5;241m.\u001b[39mformat(singular\u001b[38;5;241m=\u001b[39m\u001b[38;5;28mcls\u001b[39m\u001b[38;5;241m.\u001b[39msingular))\n\u001b[1;32m    615\u001b[0m \u001b[38;5;28;01melse\u001b[39;00m:\n\u001b[0;32m--> 616\u001b[0m     \u001b[38;5;28;01mreturn\u001b[39;00m \u001b[38;5;28;43msuper\u001b[39;49m\u001b[43m(\u001b[49m\u001b[43mGroupBase\u001b[49m\u001b[43m,\u001b[49m\u001b[43m \u001b[49m\u001b[38;5;28;43mself\u001b[39;49m\u001b[43m)\u001b[49m\u001b[38;5;241;43m.\u001b[39;49m\u001b[38;5;21;43m__getattr__\u001b[39;49m\u001b[43m(\u001b[49m\u001b[43mattr\u001b[49m\u001b[43m)\u001b[49m\n",
      "File \u001b[0;32m~/mambaforge/envs/mda_workshop/lib/python3.11/site-packages/MDAnalysis/core/groups.py:381\u001b[0m, in \u001b[0;36m_MutableBase.__getattr__\u001b[0;34m(self, attr)\u001b[0m\n\u001b[1;32m    377\u001b[0m     \u001b[38;5;66;03m# missing required topologyattr\u001b[39;00m\n\u001b[1;32m    378\u001b[0m     \u001b[38;5;28;01melse\u001b[39;00m:\n\u001b[1;32m    379\u001b[0m         err \u001b[38;5;241m=\u001b[39m (\u001b[38;5;124m'\u001b[39m\u001b[38;5;132;01m{selfcls}\u001b[39;00m\u001b[38;5;124m.\u001b[39m\u001b[38;5;132;01m{attrname}\u001b[39;00m\u001b[38;5;124m not available; \u001b[39m\u001b[38;5;124m'\u001b[39m\n\u001b[1;32m    380\u001b[0m                \u001b[38;5;124m'\u001b[39m\u001b[38;5;124mthis requires \u001b[39m\u001b[38;5;132;01m{topattr}\u001b[39;00m\u001b[38;5;124m'\u001b[39m)\n\u001b[0;32m--> 381\u001b[0m         \u001b[38;5;28;01mraise\u001b[39;00m NoDataError(err\u001b[38;5;241m.\u001b[39mformat(selfcls\u001b[38;5;241m=\u001b[39mselfcls,\n\u001b[1;32m    382\u001b[0m                                      attrname\u001b[38;5;241m=\u001b[39mattrname,\n\u001b[1;32m    383\u001b[0m                                      topattr\u001b[38;5;241m=\u001b[39mtopattr))\n\u001b[1;32m    385\u001b[0m \u001b[38;5;28;01melse\u001b[39;00m:\n\u001b[1;32m    386\u001b[0m     clean \u001b[38;5;241m=\u001b[39m attr\u001b[38;5;241m.\u001b[39mlower()\u001b[38;5;241m.\u001b[39mreplace(\u001b[38;5;124m'\u001b[39m\u001b[38;5;124m_\u001b[39m\u001b[38;5;124m'\u001b[39m, \u001b[38;5;124m'\u001b[39m\u001b[38;5;124m'\u001b[39m)\n",
      "\u001b[0;31mNoDataError\u001b[0m: AtomGroup.fragments not available; this requires bonds"
     ]
    }
   ],
   "source": [
    "nhaa = data.datasets.fetch_nhaa_equilibrium()\n",
    "\n",
    "nhaa_u = mda.Universe(nhaa['topology'])\n",
    "\n",
    "nhaa_u.atoms.fragments"
   ]
  },
  {
   "cell_type": "markdown",
   "metadata": {},
   "source": [
    "It is possible to try and guess bonds based upon the separations between atoms.\n",
    "Bonds are guessed by comparing the distance between two atoms ($d_{ij}$) to the sum of their vdw radii ($r$) multiplied by a fudge factor ($f = 0.72$ by default).\n",
    "\n",
    "$$ d_{ij} <= f * (r_i + r_j) $$\n",
    "\n",
    "Some vdw_radii are built in to `MDAnalysis`, however any missing radii can be given via the `vdwradii` keyword:"
   ]
  },
  {
   "cell_type": "code",
   "execution_count": 7,
   "metadata": {},
   "outputs": [],
   "source": [
    "nhaa_u = mda.Universe(nhaa['topology'], guess_bonds=True)"
   ]
  },
  {
   "cell_type": "code",
   "execution_count": 8,
   "metadata": {},
   "outputs": [],
   "source": [
    "nhaa_u = mda.Universe(nhaa['topology'], guess_bonds=True, vdwradii={'CL': 2.0, 'NA': 2.0})"
   ]
  },
  {
   "cell_type": "code",
   "execution_count": 9,
   "metadata": {},
   "outputs": [
    {
     "data": {
      "text/plain": [
       "(<AtomGroup with 5807 atoms>,\n",
       " <AtomGroup with 5 atoms>,\n",
       " <AtomGroup with 5812 atoms>,\n",
       " <AtomGroup with 127 atoms>,\n",
       " <AtomGroup with 127 atoms>,\n",
       " <AtomGroup with 127 atoms>,\n",
       " <AtomGroup with 127 atoms>,\n",
       " <AtomGroup with 127 atoms>,\n",
       " <AtomGroup with 127 atoms>,\n",
       " <AtomGroup with 127 atoms>,\n",
       " <AtomGroup with 127 atoms>,\n",
       " <AtomGroup with 127 atoms>,\n",
       " <AtomGroup with 127 atoms>,\n",
       " <AtomGroup with 127 atoms>,\n",
       " <AtomGroup with 127 atoms>,\n",
       " <AtomGroup with 127 atoms>,\n",
       " <AtomGroup with 127 atoms>,\n",
       " <AtomGroup with 127 atoms>,\n",
       " <AtomGroup with 127 atoms>,\n",
       " <AtomGroup with 127 atoms>,\n",
       " <AtomGroup with 127 atoms>,\n",
       " <AtomGroup with 127 atoms>,\n",
       " <AtomGroup with 127 atoms>,\n",
       " <AtomGroup with 127 atoms>,\n",
       " <AtomGroup with 127 atoms>,\n",
       " <AtomGroup with 127 atoms>,\n",
       " <AtomGroup with 127 atoms>,\n",
       " <AtomGroup with 127 atoms>,\n",
       " <AtomGroup with 127 atoms>,\n",
       " <AtomGroup with 127 atoms>,\n",
       " <AtomGroup with 127 atoms>,\n",
       " <AtomGroup with 127 atoms>,\n",
       " <AtomGroup with 127 atoms>,\n",
       " <AtomGroup with 127 atoms>,\n",
       " <AtomGroup with 127 atoms>,\n",
       " <AtomGroup with 127 atoms>,\n",
       " <AtomGroup with 127 atoms>,\n",
       " <AtomGroup with 127 atoms>,\n",
       " <AtomGroup with 127 atoms>,\n",
       " <AtomGroup with 127 atoms>,\n",
       " <AtomGroup with 127 atoms>,\n",
       " <AtomGroup with 127 atoms>,\n",
       " <AtomGroup with 127 atoms>,\n",
       " <AtomGroup with 127 atoms>,\n",
       " <AtomGroup with 127 atoms>,\n",
       " <AtomGroup with 127 atoms>,\n",
       " <AtomGroup with 127 atoms>,\n",
       " <AtomGroup with 127 atoms>,\n",
       " <AtomGroup with 127 atoms>,\n",
       " <AtomGroup with 127 atoms>,\n",
       " <AtomGroup with 127 atoms>,\n",
       " <AtomGroup with 127 atoms>,\n",
       " <AtomGroup with 127 atoms>,\n",
       " <AtomGroup with 127 atoms>,\n",
       " <AtomGroup with 127 atoms>,\n",
       " <AtomGroup with 127 atoms>,\n",
       " <AtomGroup with 127 atoms>,\n",
       " <AtomGroup with 127 atoms>,\n",
       " <AtomGroup with 127 atoms>,\n",
       " <AtomGroup with 127 atoms>,\n",
       " <AtomGroup with 127 atoms>,\n",
       " <AtomGroup with 127 atoms>,\n",
       " <AtomGroup with 127 atoms>,\n",
       " <AtomGroup with 127 atoms>,\n",
       " <AtomGroup with 127 atoms>,\n",
       " <AtomGroup with 127 atoms>,\n",
       " <AtomGroup with 127 atoms>,\n",
       " <AtomGroup with 127 atoms>,\n",
       " <AtomGroup with 127 atoms>,\n",
       " <AtomGroup with 127 atoms>,\n",
       " <AtomGroup with 127 atoms>,\n",
       " <AtomGroup with 127 atoms>,\n",
       " <AtomGroup with 127 atoms>,\n",
       " <AtomGroup with 127 atoms>,\n",
       " <AtomGroup with 127 atoms>,\n",
       " <AtomGroup with 127 atoms>,\n",
       " <AtomGroup with 127 atoms>,\n",
       " <AtomGroup with 127 atoms>,\n",
       " <AtomGroup with 127 atoms>,\n",
       " <AtomGroup with 127 atoms>,\n",
       " <AtomGroup with 127 atoms>,\n",
       " <AtomGroup with 125 atoms>,\n",
       " <AtomGroup with 125 atoms>,\n",
       " <AtomGroup with 125 atoms>,\n",
       " <AtomGroup with 125 atoms>,\n",
       " <AtomGroup with 125 atoms>,\n",
       " <AtomGroup with 125 atoms>,\n",
       " <AtomGroup with 125 atoms>,\n",
       " <AtomGroup with 125 atoms>,\n",
       " <AtomGroup with 125 atoms>,\n",
       " <AtomGroup with 125 atoms>,\n",
       " <AtomGroup with 125 atoms>,\n",
       " <AtomGroup with 125 atoms>,\n",
       " <AtomGroup with 125 atoms>,\n",
       " <AtomGroup with 125 atoms>,\n",
       " <AtomGroup with 125 atoms>,\n",
       " <AtomGroup with 125 atoms>,\n",
       " <AtomGroup with 125 atoms>,\n",
       " <AtomGroup with 125 atoms>,\n",
       " <AtomGroup with 125 atoms>,\n",
       " <AtomGroup with 125 atoms>,\n",
       " <AtomGroup with 125 atoms>,\n",
       " <AtomGroup with 125 atoms>,\n",
       " <AtomGroup with 125 atoms>,\n",
       " <AtomGroup with 125 atoms>,\n",
       " <AtomGroup with 125 atoms>,\n",
       " <AtomGroup with 125 atoms>,\n",
       " <AtomGroup with 125 atoms>,\n",
       " <AtomGroup with 125 atoms>,\n",
       " <AtomGroup with 125 atoms>,\n",
       " <AtomGroup with 125 atoms>,\n",
       " <AtomGroup with 125 atoms>,\n",
       " <AtomGroup with 125 atoms>,\n",
       " <AtomGroup with 125 atoms>,\n",
       " <AtomGroup with 125 atoms>,\n",
       " <AtomGroup with 125 atoms>,\n",
       " <AtomGroup with 125 atoms>,\n",
       " <AtomGroup with 125 atoms>,\n",
       " <AtomGroup with 125 atoms>,\n",
       " <AtomGroup with 125 atoms>,\n",
       " <AtomGroup with 125 atoms>,\n",
       " <AtomGroup with 125 atoms>,\n",
       " <AtomGroup with 125 atoms>,\n",
       " <AtomGroup with 125 atoms>,\n",
       " <AtomGroup with 125 atoms>,\n",
       " <AtomGroup with 125 atoms>,\n",
       " <AtomGroup with 125 atoms>,\n",
       " <AtomGroup with 125 atoms>,\n",
       " <AtomGroup with 125 atoms>,\n",
       " <AtomGroup with 125 atoms>,\n",
       " <AtomGroup with 125 atoms>,\n",
       " <AtomGroup with 125 atoms>,\n",
       " <AtomGroup with 125 atoms>,\n",
       " <AtomGroup with 125 atoms>,\n",
       " <AtomGroup with 125 atoms>,\n",
       " <AtomGroup with 125 atoms>,\n",
       " <AtomGroup with 125 atoms>,\n",
       " <AtomGroup with 125 atoms>,\n",
       " <AtomGroup with 125 atoms>,\n",
       " <AtomGroup with 125 atoms>,\n",
       " <AtomGroup with 125 atoms>,\n",
       " <AtomGroup with 125 atoms>,\n",
       " <AtomGroup with 125 atoms>,\n",
       " <AtomGroup with 125 atoms>,\n",
       " <AtomGroup with 125 atoms>,\n",
       " <AtomGroup with 125 atoms>,\n",
       " <AtomGroup with 125 atoms>,\n",
       " <AtomGroup with 125 atoms>,\n",
       " <AtomGroup with 125 atoms>,\n",
       " <AtomGroup with 125 atoms>,\n",
       " <AtomGroup with 125 atoms>,\n",
       " <AtomGroup with 125 atoms>,\n",
       " <AtomGroup with 125 atoms>,\n",
       " <AtomGroup with 125 atoms>,\n",
       " <AtomGroup with 125 atoms>,\n",
       " <AtomGroup with 125 atoms>,\n",
       " <AtomGroup with 125 atoms>,\n",
       " <AtomGroup with 125 atoms>,\n",
       " <AtomGroup with 125 atoms>,\n",
       " <AtomGroup with 125 atoms>,\n",
       " <AtomGroup with 125 atoms>,\n",
       " <AtomGroup with 125 atoms>,\n",
       " <AtomGroup with 125 atoms>,\n",
       " <AtomGroup with 125 atoms>,\n",
       " <AtomGroup with 125 atoms>,\n",
       " <AtomGroup with 125 atoms>,\n",
       " <AtomGroup with 125 atoms>,\n",
       " <AtomGroup with 125 atoms>,\n",
       " <AtomGroup with 125 atoms>,\n",
       " <AtomGroup with 125 atoms>,\n",
       " <AtomGroup with 125 atoms>,\n",
       " <AtomGroup with 125 atoms>,\n",
       " <AtomGroup with 125 atoms>,\n",
       " <AtomGroup with 125 atoms>,\n",
       " <AtomGroup with 125 atoms>,\n",
       " <AtomGroup with 125 atoms>,\n",
       " <AtomGroup with 125 atoms>,\n",
       " <AtomGroup with 125 atoms>,\n",
       " <AtomGroup with 125 atoms>,\n",
       " <AtomGroup with 125 atoms>,\n",
       " <AtomGroup with 125 atoms>,\n",
       " <AtomGroup with 125 atoms>,\n",
       " <AtomGroup with 125 atoms>,\n",
       " <AtomGroup with 125 atoms>,\n",
       " <AtomGroup with 125 atoms>,\n",
       " <AtomGroup with 125 atoms>,\n",
       " <AtomGroup with 125 atoms>,\n",
       " <AtomGroup with 125 atoms>,\n",
       " <AtomGroup with 125 atoms>,\n",
       " <AtomGroup with 125 atoms>,\n",
       " <AtomGroup with 125 atoms>,\n",
       " <AtomGroup with 125 atoms>,\n",
       " <AtomGroup with 125 atoms>,\n",
       " <AtomGroup with 125 atoms>,\n",
       " <AtomGroup with 125 atoms>,\n",
       " <AtomGroup with 125 atoms>,\n",
       " <AtomGroup with 125 atoms>,\n",
       " <AtomGroup with 125 atoms>,\n",
       " <AtomGroup with 125 atoms>,\n",
       " <AtomGroup with 125 atoms>,\n",
       " <AtomGroup with 125 atoms>,\n",
       " <AtomGroup with 125 atoms>,\n",
       " <AtomGroup with 125 atoms>,\n",
       " <AtomGroup with 125 atoms>,\n",
       " <AtomGroup with 125 atoms>,\n",
       " <AtomGroup with 125 atoms>,\n",
       " <AtomGroup with 125 atoms>,\n",
       " <AtomGroup with 125 atoms>,\n",
       " <AtomGroup with 125 atoms>,\n",
       " <AtomGroup with 125 atoms>,\n",
       " <AtomGroup with 125 atoms>,\n",
       " <AtomGroup with 125 atoms>,\n",
       " <AtomGroup with 125 atoms>,\n",
       " <AtomGroup with 125 atoms>,\n",
       " <AtomGroup with 125 atoms>,\n",
       " <AtomGroup with 125 atoms>,\n",
       " <AtomGroup with 125 atoms>,\n",
       " <AtomGroup with 125 atoms>,\n",
       " <AtomGroup with 125 atoms>,\n",
       " <AtomGroup with 125 atoms>,\n",
       " <AtomGroup with 125 atoms>,\n",
       " <AtomGroup with 125 atoms>,\n",
       " <AtomGroup with 125 atoms>,\n",
       " <AtomGroup with 125 atoms>,\n",
       " <AtomGroup with 125 atoms>,\n",
       " <AtomGroup with 125 atoms>,\n",
       " <AtomGroup with 125 atoms>,\n",
       " <AtomGroup with 125 atoms>,\n",
       " <AtomGroup with 125 atoms>,\n",
       " <AtomGroup with 125 atoms>,\n",
       " <AtomGroup with 125 atoms>,\n",
       " <AtomGroup with 125 atoms>,\n",
       " <AtomGroup with 125 atoms>,\n",
       " <AtomGroup with 125 atoms>,\n",
       " <AtomGroup with 125 atoms>,\n",
       " <AtomGroup with 125 atoms>,\n",
       " <AtomGroup with 125 atoms>,\n",
       " <AtomGroup with 125 atoms>,\n",
       " <AtomGroup with 125 atoms>,\n",
       " <AtomGroup with 125 atoms>,\n",
       " <AtomGroup with 125 atoms>,\n",
       " <AtomGroup with 125 atoms>,\n",
       " <AtomGroup with 125 atoms>,\n",
       " <AtomGroup with 125 atoms>,\n",
       " <AtomGroup with 125 atoms>,\n",
       " <AtomGroup with 125 atoms>,\n",
       " <AtomGroup with 125 atoms>,\n",
       " <AtomGroup with 125 atoms>,\n",
       " <AtomGroup with 125 atoms>,\n",
       " <AtomGroup with 125 atoms>,\n",
       " <AtomGroup with 125 atoms>,\n",
       " <AtomGroup with 125 atoms>,\n",
       " <AtomGroup with 125 atoms>,\n",
       " <AtomGroup with 125 atoms>,\n",
       " <AtomGroup with 125 atoms>,\n",
       " <AtomGroup with 125 atoms>,\n",
       " <AtomGroup with 125 atoms>,\n",
       " <AtomGroup with 125 atoms>,\n",
       " <AtomGroup with 125 atoms>,\n",
       " <AtomGroup with 125 atoms>,\n",
       " <AtomGroup with 125 atoms>,\n",
       " <AtomGroup with 125 atoms>,\n",
       " <AtomGroup with 125 atoms>,\n",
       " <AtomGroup with 125 atoms>,\n",
       " <AtomGroup with 125 atoms>,\n",
       " <AtomGroup with 125 atoms>,\n",
       " <AtomGroup with 125 atoms>,\n",
       " <AtomGroup with 125 atoms>,\n",
       " <AtomGroup with 125 atoms>,\n",
       " <AtomGroup with 125 atoms>,\n",
       " <AtomGroup with 125 atoms>,\n",
       " <AtomGroup with 125 atoms>,\n",
       " <AtomGroup with 125 atoms>,\n",
       " <AtomGroup with 125 atoms>,\n",
       " <AtomGroup with 125 atoms>,\n",
       " <AtomGroup with 125 atoms>,\n",
       " <AtomGroup with 125 atoms>,\n",
       " <AtomGroup with 125 atoms>,\n",
       " <AtomGroup with 125 atoms>,\n",
       " <AtomGroup with 125 atoms>,\n",
       " <AtomGroup with 125 atoms>,\n",
       " <AtomGroup with 125 atoms>,\n",
       " <AtomGroup with 125 atoms>,\n",
       " <AtomGroup with 125 atoms>,\n",
       " <AtomGroup with 125 atoms>,\n",
       " <AtomGroup with 125 atoms>,\n",
       " <AtomGroup with 125 atoms>,\n",
       " <AtomGroup with 125 atoms>,\n",
       " <AtomGroup with 125 atoms>,\n",
       " <AtomGroup with 125 atoms>,\n",
       " <AtomGroup with 125 atoms>,\n",
       " <AtomGroup with 125 atoms>,\n",
       " <AtomGroup with 125 atoms>,\n",
       " <AtomGroup with 125 atoms>,\n",
       " <AtomGroup with 125 atoms>,\n",
       " <AtomGroup with 125 atoms>,\n",
       " <AtomGroup with 125 atoms>,\n",
       " <AtomGroup with 125 atoms>,\n",
       " <AtomGroup with 125 atoms>,\n",
       " <AtomGroup with 125 atoms>,\n",
       " <AtomGroup with 125 atoms>,\n",
       " <AtomGroup with 125 atoms>,\n",
       " <AtomGroup with 125 atoms>,\n",
       " <AtomGroup with 125 atoms>,\n",
       " <AtomGroup with 125 atoms>,\n",
       " <AtomGroup with 125 atoms>,\n",
       " <AtomGroup with 125 atoms>,\n",
       " <AtomGroup with 125 atoms>,\n",
       " <AtomGroup with 125 atoms>,\n",
       " <AtomGroup with 125 atoms>,\n",
       " <AtomGroup with 125 atoms>,\n",
       " <AtomGroup with 125 atoms>,\n",
       " <AtomGroup with 125 atoms>,\n",
       " <AtomGroup with 125 atoms>,\n",
       " <AtomGroup with 125 atoms>,\n",
       " <AtomGroup with 125 atoms>,\n",
       " <AtomGroup with 125 atoms>,\n",
       " <AtomGroup with 125 atoms>,\n",
       " <AtomGroup with 125 atoms>,\n",
       " <AtomGroup with 125 atoms>,\n",
       " <AtomGroup with 125 atoms>,\n",
       " <AtomGroup with 125 atoms>,\n",
       " <AtomGroup with 125 atoms>,\n",
       " <AtomGroup with 125 atoms>,\n",
       " <AtomGroup with 125 atoms>,\n",
       " <AtomGroup with 125 atoms>,\n",
       " <AtomGroup with 125 atoms>,\n",
       " <AtomGroup with 125 atoms>,\n",
       " <AtomGroup with 125 atoms>,\n",
       " <AtomGroup with 125 atoms>,\n",
       " <AtomGroup with 125 atoms>,\n",
       " <AtomGroup with 125 atoms>,\n",
       " <AtomGroup with 125 atoms>,\n",
       " <AtomGroup with 125 atoms>,\n",
       " <AtomGroup with 125 atoms>,\n",
       " <AtomGroup with 125 atoms>,\n",
       " <AtomGroup with 125 atoms>,\n",
       " <AtomGroup with 125 atoms>,\n",
       " <AtomGroup with 125 atoms>,\n",
       " <AtomGroup with 125 atoms>,\n",
       " <AtomGroup with 125 atoms>,\n",
       " <AtomGroup with 125 atoms>,\n",
       " <AtomGroup with 125 atoms>,\n",
       " <AtomGroup with 125 atoms>,\n",
       " <AtomGroup with 125 atoms>,\n",
       " <AtomGroup with 125 atoms>,\n",
       " <AtomGroup with 125 atoms>,\n",
       " <AtomGroup with 125 atoms>,\n",
       " <AtomGroup with 125 atoms>,\n",
       " <AtomGroup with 125 atoms>,\n",
       " <AtomGroup with 125 atoms>,\n",
       " <AtomGroup with 125 atoms>,\n",
       " <AtomGroup with 125 atoms>,\n",
       " <AtomGroup with 125 atoms>,\n",
       " <AtomGroup with 125 atoms>,\n",
       " <AtomGroup with 125 atoms>,\n",
       " <AtomGroup with 125 atoms>,\n",
       " <AtomGroup with 125 atoms>,\n",
       " <AtomGroup with 125 atoms>,\n",
       " <AtomGroup with 125 atoms>,\n",
       " <AtomGroup with 125 atoms>,\n",
       " <AtomGroup with 125 atoms>,\n",
       " <AtomGroup with 125 atoms>,\n",
       " <AtomGroup with 125 atoms>,\n",
       " <AtomGroup with 125 atoms>,\n",
       " <AtomGroup with 125 atoms>,\n",
       " <AtomGroup with 125 atoms>,\n",
       " <AtomGroup with 125 atoms>,\n",
       " <AtomGroup with 125 atoms>,\n",
       " <AtomGroup with 125 atoms>,\n",
       " <AtomGroup with 125 atoms>,\n",
       " <AtomGroup with 125 atoms>,\n",
       " <AtomGroup with 125 atoms>,\n",
       " <AtomGroup with 125 atoms>,\n",
       " <AtomGroup with 125 atoms>,\n",
       " <AtomGroup with 125 atoms>,\n",
       " <AtomGroup with 125 atoms>,\n",
       " <AtomGroup with 125 atoms>,\n",
       " <AtomGroup with 125 atoms>,\n",
       " <AtomGroup with 125 atoms>,\n",
       " <AtomGroup with 125 atoms>,\n",
       " <AtomGroup with 125 atoms>,\n",
       " <AtomGroup with 125 atoms>,\n",
       " <AtomGroup with 125 atoms>,\n",
       " <AtomGroup with 125 atoms>,\n",
       " <AtomGroup with 125 atoms>,\n",
       " <AtomGroup with 125 atoms>,\n",
       " <AtomGroup with 125 atoms>,\n",
       " <AtomGroup with 125 atoms>,\n",
       " <AtomGroup with 125 atoms>,\n",
       " <AtomGroup with 125 atoms>,\n",
       " <AtomGroup with 125 atoms>,\n",
       " <AtomGroup with 125 atoms>,\n",
       " <AtomGroup with 1 atom>,\n",
       " <AtomGroup with 1 atom>,\n",
       " <AtomGroup with 1 atom>,\n",
       " <AtomGroup with 1 atom>,\n",
       " <AtomGroup with 1 atom>,\n",
       " <AtomGroup with 1 atom>,\n",
       " <AtomGroup with 1 atom>,\n",
       " <AtomGroup with 1 atom>,\n",
       " <AtomGroup with 1 atom>,\n",
       " <AtomGroup with 1 atom>,\n",
       " <AtomGroup with 1 atom>,\n",
       " <AtomGroup with 1 atom>,\n",
       " <AtomGroup with 1 atom>,\n",
       " <AtomGroup with 1 atom>,\n",
       " <AtomGroup with 1 atom>,\n",
       " <AtomGroup with 1 atom>,\n",
       " <AtomGroup with 1 atom>,\n",
       " <AtomGroup with 1 atom>,\n",
       " <AtomGroup with 1 atom>,\n",
       " <AtomGroup with 1 atom>,\n",
       " <AtomGroup with 1 atom>,\n",
       " <AtomGroup with 1 atom>,\n",
       " <AtomGroup with 1 atom>,\n",
       " <AtomGroup with 1 atom>,\n",
       " <AtomGroup with 1 atom>,\n",
       " <AtomGroup with 1 atom>,\n",
       " <AtomGroup with 1 atom>,\n",
       " <AtomGroup with 1 atom>,\n",
       " <AtomGroup with 1 atom>,\n",
       " <AtomGroup with 1 atom>,\n",
       " <AtomGroup with 1 atom>,\n",
       " <AtomGroup with 1 atom>,\n",
       " <AtomGroup with 1 atom>,\n",
       " <AtomGroup with 1 atom>,\n",
       " <AtomGroup with 1 atom>,\n",
       " <AtomGroup with 1 atom>,\n",
       " <AtomGroup with 1 atom>,\n",
       " <AtomGroup with 1 atom>,\n",
       " <AtomGroup with 1 atom>,\n",
       " <AtomGroup with 1 atom>,\n",
       " <AtomGroup with 1 atom>,\n",
       " <AtomGroup with 1 atom>,\n",
       " <AtomGroup with 1 atom>,\n",
       " <AtomGroup with 1 atom>,\n",
       " <AtomGroup with 1 atom>,\n",
       " <AtomGroup with 1 atom>,\n",
       " <AtomGroup with 1 atom>,\n",
       " <AtomGroup with 1 atom>,\n",
       " <AtomGroup with 1 atom>,\n",
       " <AtomGroup with 1 atom>,\n",
       " <AtomGroup with 1 atom>,\n",
       " <AtomGroup with 1 atom>,\n",
       " <AtomGroup with 1 atom>,\n",
       " <AtomGroup with 1 atom>,\n",
       " <AtomGroup with 1 atom>,\n",
       " <AtomGroup with 1 atom>,\n",
       " <AtomGroup with 1 atom>,\n",
       " <AtomGroup with 1 atom>,\n",
       " <AtomGroup with 1 atom>,\n",
       " <AtomGroup with 1 atom>,\n",
       " <AtomGroup with 1 atom>,\n",
       " <AtomGroup with 1 atom>,\n",
       " <AtomGroup with 1 atom>,\n",
       " <AtomGroup with 1 atom>,\n",
       " <AtomGroup with 1 atom>,\n",
       " <AtomGroup with 1 atom>,\n",
       " <AtomGroup with 1 atom>,\n",
       " <AtomGroup with 1 atom>,\n",
       " <AtomGroup with 1 atom>,\n",
       " <AtomGroup with 1 atom>,\n",
       " <AtomGroup with 1 atom>,\n",
       " <AtomGroup with 1 atom>,\n",
       " <AtomGroup with 1 atom>,\n",
       " <AtomGroup with 1 atom>,\n",
       " <AtomGroup with 1 atom>,\n",
       " <AtomGroup with 1 atom>,\n",
       " <AtomGroup with 1 atom>,\n",
       " <AtomGroup with 1 atom>,\n",
       " <AtomGroup with 1 atom>,\n",
       " <AtomGroup with 1 atom>,\n",
       " <AtomGroup with 1 atom>,\n",
       " <AtomGroup with 1 atom>,\n",
       " <AtomGroup with 1 atom>,\n",
       " <AtomGroup with 1 atom>,\n",
       " <AtomGroup with 1 atom>,\n",
       " <AtomGroup with 1 atom>,\n",
       " <AtomGroup with 1 atom>,\n",
       " <AtomGroup with 1 atom>,\n",
       " <AtomGroup with 1 atom>,\n",
       " <AtomGroup with 1 atom>,\n",
       " <AtomGroup with 1 atom>,\n",
       " <AtomGroup with 1 atom>,\n",
       " <AtomGroup with 1 atom>,\n",
       " <AtomGroup with 1 atom>,\n",
       " <AtomGroup with 1 atom>,\n",
       " <AtomGroup with 1 atom>,\n",
       " <AtomGroup with 1 atom>,\n",
       " <AtomGroup with 1 atom>,\n",
       " <AtomGroup with 1 atom>,\n",
       " <AtomGroup with 1 atom>,\n",
       " <AtomGroup with 1 atom>,\n",
       " <AtomGroup with 1 atom>,\n",
       " <AtomGroup with 1 atom>,\n",
       " <AtomGroup with 1 atom>,\n",
       " <AtomGroup with 1 atom>,\n",
       " <AtomGroup with 1 atom>,\n",
       " <AtomGroup with 1 atom>,\n",
       " <AtomGroup with 1 atom>,\n",
       " <AtomGroup with 1 atom>,\n",
       " <AtomGroup with 1 atom>,\n",
       " <AtomGroup with 1 atom>,\n",
       " <AtomGroup with 1 atom>,\n",
       " <AtomGroup with 1 atom>,\n",
       " <AtomGroup with 1 atom>,\n",
       " <AtomGroup with 1 atom>,\n",
       " <AtomGroup with 1 atom>,\n",
       " <AtomGroup with 1 atom>,\n",
       " <AtomGroup with 1 atom>,\n",
       " <AtomGroup with 1 atom>,\n",
       " <AtomGroup with 1 atom>,\n",
       " <AtomGroup with 1 atom>,\n",
       " <AtomGroup with 1 atom>,\n",
       " <AtomGroup with 1 atom>,\n",
       " <AtomGroup with 1 atom>,\n",
       " <AtomGroup with 1 atom>,\n",
       " <AtomGroup with 1 atom>,\n",
       " <AtomGroup with 1 atom>,\n",
       " <AtomGroup with 1 atom>,\n",
       " <AtomGroup with 1 atom>,\n",
       " <AtomGroup with 1 atom>,\n",
       " <AtomGroup with 1 atom>,\n",
       " <AtomGroup with 1 atom>,\n",
       " <AtomGroup with 1 atom>,\n",
       " <AtomGroup with 1 atom>,\n",
       " <AtomGroup with 1 atom>,\n",
       " <AtomGroup with 1 atom>,\n",
       " <AtomGroup with 1 atom>,\n",
       " <AtomGroup with 1 atom>,\n",
       " <AtomGroup with 1 atom>,\n",
       " <AtomGroup with 1 atom>,\n",
       " <AtomGroup with 1 atom>,\n",
       " <AtomGroup with 1 atom>,\n",
       " <AtomGroup with 1 atom>,\n",
       " <AtomGroup with 1 atom>,\n",
       " <AtomGroup with 1 atom>,\n",
       " <AtomGroup with 1 atom>,\n",
       " <AtomGroup with 1 atom>,\n",
       " <AtomGroup with 1 atom>,\n",
       " <AtomGroup with 1 atom>,\n",
       " <AtomGroup with 1 atom>,\n",
       " <AtomGroup with 1 atom>,\n",
       " <AtomGroup with 1 atom>,\n",
       " <AtomGroup with 1 atom>,\n",
       " <AtomGroup with 1 atom>,\n",
       " <AtomGroup with 1 atom>,\n",
       " <AtomGroup with 1 atom>,\n",
       " <AtomGroup with 1 atom>,\n",
       " <AtomGroup with 1 atom>,\n",
       " <AtomGroup with 1 atom>,\n",
       " <AtomGroup with 1 atom>,\n",
       " <AtomGroup with 1 atom>,\n",
       " <AtomGroup with 1 atom>,\n",
       " <AtomGroup with 1 atom>,\n",
       " <AtomGroup with 1 atom>,\n",
       " <AtomGroup with 1 atom>,\n",
       " <AtomGroup with 1 atom>,\n",
       " <AtomGroup with 1 atom>,\n",
       " <AtomGroup with 1 atom>,\n",
       " <AtomGroup with 1 atom>,\n",
       " <AtomGroup with 1 atom>,\n",
       " <AtomGroup with 1 atom>,\n",
       " <AtomGroup with 1 atom>)"
      ]
     },
     "execution_count": 9,
     "metadata": {},
     "output_type": "execute_result"
    }
   ],
   "source": [
    "nhaa_u.atoms.fragments"
   ]
  },
  {
   "cell_type": "markdown",
   "metadata": {},
   "source": [
    "## 3. ChainReader\n",
    "\n",
    "MD Trajectories are often created in a series of discrete simulations.\n",
    "By supplying a list of trajectory filenames to `Universe` creation,\n",
    "these will be read in sequence by the `ChainReader` class."
   ]
  },
  {
   "cell_type": "code",
   "execution_count": 10,
   "metadata": {},
   "outputs": [
    {
     "name": "stdout",
     "output_type": "stream",
     "text": [
      "['/Users/richard/MDAnalysis_data/adk_transitions_DIMS/DIMS/trajectories/dims0138_fit-core.dcd', '/Users/richard/MDAnalysis_data/adk_transitions_DIMS/DIMS/trajectories/dims0192_fit-core.dcd', '/Users/richard/MDAnalysis_data/adk_transitions_DIMS/DIMS/trajectories/dims0048_fit-core.dcd', '/Users/richard/MDAnalysis_data/adk_transitions_DIMS/DIMS/trajectories/dims0195_fit-core.dcd', '/Users/richard/MDAnalysis_data/adk_transitions_DIMS/DIMS/trajectories/dims0180_fit-core.dcd']\n"
     ]
    }
   ],
   "source": [
    "adk_dims = data.datasets.fetch_adk_transitions_DIMS()\n",
    "\n",
    "print(adk_dims['trajectories'][:5])"
   ]
  },
  {
   "cell_type": "code",
   "execution_count": 11,
   "metadata": {},
   "outputs": [],
   "source": [
    "chain_u = mda.Universe(adk_dims['topology'], adk_dims['trajectories'])"
   ]
  },
  {
   "cell_type": "code",
   "execution_count": 12,
   "metadata": {},
   "outputs": [
    {
     "name": "stdout",
     "output_type": "stream",
     "text": [
      "<ChainReader containing dims0138_fit-core.dcd and 199 more with 19691 frames of 3341 atoms>\n"
     ]
    }
   ],
   "source": [
    "print(chain_u.trajectory)"
   ]
  },
  {
   "cell_type": "markdown",
   "metadata": {},
   "source": [
    "## 4. `fetch_mmtf`\n",
    "\n",
    "You can load structures from the Protein Data Bank using the `fetch_mmtf` method.\n",
    "This will download the `mmtf` data from the PDB, and create a Universe from this:"
   ]
  },
  {
   "cell_type": "code",
   "execution_count": 13,
   "metadata": {},
   "outputs": [
    {
     "name": "stdout",
     "output_type": "stream",
     "text": [
      "<Universe with 6799 atoms>\n"
     ]
    }
   ],
   "source": [
    "u = mda.fetch_mmtf('5YVL')\n",
    "\n",
    "print(u)"
   ]
  },
  {
   "cell_type": "markdown",
   "metadata": {},
   "source": [
    "## 5. Creating new systems with MDAnalysis\n",
    "\n",
    "Whilst `MDAnalysis` is designed for reading pre existing simulation files, there is also some features which allow the construction of systems"
   ]
  },
  {
   "cell_type": "markdown",
   "metadata": {},
   "source": [
    "### Universe.empty and adding new attributes\n",
    "\n",
    "The `Universe` object can also be constructed from the `Universe.empty` method, which is similar to `np.zeros`."
   ]
  },
  {
   "cell_type": "code",
   "execution_count": 14,
   "metadata": {},
   "outputs": [],
   "source": [
    "mda.Universe.empty?"
   ]
  },
  {
   "cell_type": "markdown",
   "metadata": {},
   "source": [
    "Here we create an 20 atom Universe, with a trajectory attached.  The positions of all atoms will initially be zero"
   ]
  },
  {
   "cell_type": "code",
   "execution_count": 15,
   "metadata": {},
   "outputs": [],
   "source": [
    "u = mda.Universe.empty(n_atoms=21, n_residues=7,\n",
    "                       trajectory=True)"
   ]
  },
  {
   "cell_type": "code",
   "execution_count": 16,
   "metadata": {},
   "outputs": [
    {
     "name": "stdout",
     "output_type": "stream",
     "text": [
      "<AtomGroup [<Atom 1:>, <Atom 2:>, <Atom 3:>, ..., <Atom 19:>, <Atom 20:>, <Atom 21:>]>\n",
      "<ResidueGroup [<Residue>, <Residue>, <Residue>, <Residue>, <Residue>, <Residue>, <Residue>]>\n"
     ]
    }
   ],
   "source": [
    "print(u.atoms)\n",
    "print(u.residues)"
   ]
  },
  {
   "cell_type": "code",
   "execution_count": 17,
   "metadata": {
    "scrolled": true
   },
   "outputs": [
    {
     "name": "stdout",
     "output_type": "stream",
     "text": [
      "[[0. 0. 0.]\n",
      " [0. 0. 0.]\n",
      " [0. 0. 0.]\n",
      " [0. 0. 0.]\n",
      " [0. 0. 0.]\n",
      " [0. 0. 0.]\n",
      " [0. 0. 0.]\n",
      " [0. 0. 0.]\n",
      " [0. 0. 0.]\n",
      " [0. 0. 0.]\n",
      " [0. 0. 0.]\n",
      " [0. 0. 0.]\n",
      " [0. 0. 0.]\n",
      " [0. 0. 0.]\n",
      " [0. 0. 0.]\n",
      " [0. 0. 0.]\n",
      " [0. 0. 0.]\n",
      " [0. 0. 0.]\n",
      " [0. 0. 0.]\n",
      " [0. 0. 0.]\n",
      " [0. 0. 0.]]\n"
     ]
    }
   ],
   "source": [
    "print(u.atoms.positions)"
   ]
  },
  {
   "cell_type": "code",
   "execution_count": 18,
   "metadata": {},
   "outputs": [],
   "source": [
    "for i, res in enumerate(u.residues):\n",
    "    u.atoms[i * 3: (i + 1) * 3].residue = res"
   ]
  },
  {
   "cell_type": "markdown",
   "metadata": {},
   "source": [
    "We can then add various topology attributes to these atoms:"
   ]
  },
  {
   "cell_type": "code",
   "execution_count": 19,
   "metadata": {},
   "outputs": [],
   "source": [
    "u.add_TopologyAttr('masses', values=[10.0] * 21)\n",
    "u.add_TopologyAttr('names', values=['A'] * 21)\n",
    "u.add_TopologyAttr('types', values=['Ca'] * 21)\n",
    "u.add_TopologyAttr('resids', values=range(7))"
   ]
  },
  {
   "cell_type": "code",
   "execution_count": 20,
   "metadata": {},
   "outputs": [
    {
     "data": {
      "text/plain": [
       "array([10., 10., 10., 10., 10., 10., 10., 10., 10., 10., 10., 10., 10.,\n",
       "       10., 10., 10., 10., 10., 10., 10., 10.])"
      ]
     },
     "execution_count": 20,
     "metadata": {},
     "output_type": "execute_result"
    }
   ],
   "source": [
    "u.atoms.masses"
   ]
  },
  {
   "cell_type": "markdown",
   "metadata": {},
   "source": [
    "And finally we can write this `Universe` out to a file:"
   ]
  },
  {
   "cell_type": "code",
   "execution_count": 21,
   "metadata": {},
   "outputs": [],
   "source": [
    "u.atoms.write('new.gro')"
   ]
  },
  {
   "cell_type": "code",
   "execution_count": 22,
   "metadata": {},
   "outputs": [
    {
     "name": "stdout",
     "output_type": "stream",
     "text": [
      "Written by MDAnalysis\r\n",
      "   21\r\n",
      "    0UNK      A    1   0.000   0.000   0.000\r\n",
      "    0UNK      A    2   0.000   0.000   0.000\r\n",
      "    0UNK      A    3   0.000   0.000   0.000\r\n",
      "    0UNK      A    4   0.000   0.000   0.000\r\n",
      "    0UNK      A    5   0.000   0.000   0.000\r\n",
      "    0UNK      A    6   0.000   0.000   0.000\r\n",
      "    0UNK      A    7   0.000   0.000   0.000\r\n",
      "    0UNK      A    8   0.000   0.000   0.000\r\n"
     ]
    }
   ],
   "source": [
    "!head new.gro"
   ]
  },
  {
   "cell_type": "markdown",
   "metadata": {},
   "source": [
    "# Selecting hydrophobic/hydrophilic groups"
   ]
  },
  {
   "cell_type": "code",
   "execution_count": 23,
   "metadata": {},
   "outputs": [],
   "source": [
    "adk = data.datasets.fetch_adk_equilibrium()"
   ]
  },
  {
   "cell_type": "code",
   "execution_count": 24,
   "metadata": {},
   "outputs": [],
   "source": [
    "u = mda.Universe(adk.topology, adk.trajectory)"
   ]
  },
  {
   "cell_type": "code",
   "execution_count": 25,
   "metadata": {},
   "outputs": [
    {
     "data": {
      "text/plain": [
       "<AtomGroup with 356 atoms>"
      ]
     },
     "execution_count": 25,
     "metadata": {},
     "output_type": "execute_result"
    }
   ],
   "source": [
    "u.select_atoms('resname SER TYR THR')"
   ]
  },
  {
   "cell_type": "code",
   "execution_count": 26,
   "metadata": {},
   "outputs": [
    {
     "data": {
      "text/plain": [
       "<AtomGroup with 1315 atoms>"
      ]
     },
     "execution_count": 26,
     "metadata": {},
     "output_type": "execute_result"
    }
   ],
   "source": [
    "u.select_atoms('resname ALA VAL LEU ILE PRO PHE CYS')"
   ]
  },
  {
   "cell_type": "markdown",
   "metadata": {},
   "source": [
    "# Custom attributes and selecting them\n",
    "\n",
    "Can I add an entirely new property to a universe?\n",
    "\n",
    "This is technically possible, but is a bit at the edges of what is recommended..."
   ]
  },
  {
   "cell_type": "code",
   "execution_count": 27,
   "metadata": {},
   "outputs": [],
   "source": [
    "from MDAnalysis.core.topologyattrs import AtomAttr\n",
    "import numpy as np"
   ]
  },
  {
   "cell_type": "code",
   "execution_count": 28,
   "metadata": {},
   "outputs": [],
   "source": [
    "u = mda.Universe(adk.topology, adk.trajectory)"
   ]
  },
  {
   "cell_type": "markdown",
   "metadata": {},
   "source": [
    "We need to define a new `AtomAttr`, which has several special fields that must also be defined.\n",
    "These are used to define the extra attributes which are added to the `AtomGroup` objects that are created by a particular Universe."
   ]
  },
  {
   "cell_type": "code",
   "execution_count": 29,
   "metadata": {},
   "outputs": [],
   "source": [
    "class Bounciness(AtomAttr):\n",
    "    dtype=bool\n",
    "    attrname='bounciness'\n",
    "    singular='bouncy'\n",
    "    per_object='atom'"
   ]
  },
  {
   "cell_type": "code",
   "execution_count": 30,
   "metadata": {},
   "outputs": [],
   "source": [
    "# this adds a TopologyAttr, where all atoms initially have False as their bouncy value\n",
    "u.add_TopologyAttr(Bounciness(np.zeros_like(u.atoms)))"
   ]
  },
  {
   "cell_type": "code",
   "execution_count": 31,
   "metadata": {},
   "outputs": [
    {
     "data": {
      "text/plain": [
       "array([False, False, False, ..., False, False, False])"
      ]
     },
     "execution_count": 31,
     "metadata": {},
     "output_type": "execute_result"
    }
   ],
   "source": [
    "# this attribute is now accessible via the AtomGroup objects\n",
    "u.atoms.bounciness"
   ]
  },
  {
   "cell_type": "code",
   "execution_count": 32,
   "metadata": {},
   "outputs": [
    {
     "data": {
      "text/plain": [
       "<AtomGroup with 0 atoms>"
      ]
     },
     "execution_count": 32,
     "metadata": {},
     "output_type": "execute_result"
    }
   ],
   "source": [
    "# and is also selectable via the select_atoms mini language\n",
    "u.select_atoms('bouncy')"
   ]
  },
  {
   "cell_type": "code",
   "execution_count": 33,
   "metadata": {},
   "outputs": [],
   "source": [
    "# for testing, lets set every other atom to be considered \"bouncy\"\n",
    "u.atoms[::2].bounciness = True"
   ]
  },
  {
   "cell_type": "code",
   "execution_count": 34,
   "metadata": {},
   "outputs": [
    {
     "data": {
      "text/plain": [
       "array([   0,    4,   18,   42,   60,   62,   64,   80,   98,  100,  102,\n",
       "        118,  124,  126,  128,  134,  136,  140,  148,  150,  152,  156,\n",
       "        166,  172,  174,  176,  194,  196,  198,  202,  216,  232,  234,\n",
       "        236,  242,  244,  246,  260,  280,  298,  300,  302,  316,  330,\n",
       "        332,  334,  352,  354,  356,  374,  380,  382,  384,  400,  414,\n",
       "        430,  432,  434,  450,  460,  462,  464,  474,  476,  478,  482,\n",
       "        494,  510,  512,  514,  530,  554,  564,  574,  590,  612,  622,\n",
       "        624,  626,  630,  640,  642,  644,  656,  674,  676,  678,  682,\n",
       "        704,  720,  722,  724,  730,  732,  734,  752,  754,  756,  764,\n",
       "        766,  768,  784,  800,  802,  804,  812,  814,  816,  822,  824,\n",
       "        826,  830,  852,  870,  872,  874,  886,  888,  890,  900,  902,\n",
       "        904,  912,  914,  916,  928,  946,  948,  950,  962,  964,  966,\n",
       "        982,  992, 1010, 1012, 1014, 1026, 1028, 1030, 1048, 1050, 1052,\n",
       "       1064, 1088, 1106, 1108, 1110, 1116, 1118, 1120, 1134, 1148, 1150,\n",
       "       1152, 1160, 1162, 1164, 1172, 1196, 1210, 1216, 1218, 1220, 1236,\n",
       "       1238, 1240, 1256, 1274, 1276, 1278, 1286, 1288, 1290, 1294, 1314,\n",
       "       1328, 1352, 1366, 1384, 1386, 1390, 1398, 1400, 1402, 1416, 1426,\n",
       "       1438, 1448, 1464, 1466, 1468, 1486, 1488, 1490, 1502, 1512, 1518,\n",
       "       1520, 1522, 1538, 1552, 1568, 1580, 1600, 1602, 1604, 1616, 1618,\n",
       "       1620, 1636, 1650, 1652, 1654, 1670, 1672, 1674, 1682, 1684, 1686,\n",
       "       1698, 1700, 1704, 1712, 1714, 1716, 1724, 1726, 1728, 1740, 1758,\n",
       "       1760, 1762, 1778, 1794, 1806, 1830, 1848, 1850, 1852, 1864, 1866,\n",
       "       1868, 1872, 1896, 1920, 1936, 1952, 1954, 1956, 1962, 1964, 1968,\n",
       "       1976, 1978, 1980, 1988, 1994, 1996, 1998, 2018, 2020, 2022, 2034,\n",
       "       2036, 2038, 2056, 2072, 2074, 2076, 2088, 2090, 2092, 2110, 2112,\n",
       "       2114, 2130, 2132, 2134, 2144, 2146, 2150, 2158, 2160, 2164, 2172,\n",
       "       2174, 2176, 2194, 2196, 2198, 2210, 2212, 2214, 2226, 2232, 2234,\n",
       "       2236, 2254, 2256, 2258, 2266, 2268, 2270, 2278, 2280, 2282, 2294,\n",
       "       2296, 2298, 2308, 2310, 2312, 2316, 2330, 2332, 2334, 2346, 2364,\n",
       "       2366, 2368, 2378, 2380, 2382, 2392, 2394, 2396, 2416, 2418, 2420,\n",
       "       2438, 2440, 2442, 2450, 2452, 2454, 2462, 2464, 2466, 2480, 2494,\n",
       "       2496, 2498, 2510, 2524, 2540, 2564, 2586, 2610, 2628, 2630, 2632,\n",
       "       2644, 2646, 2648, 2660, 2680, 2682, 2684, 2698, 2714, 2716, 2718,\n",
       "       2732, 2746, 2756, 2770, 2788, 2790, 2792, 2808, 2814, 2816, 2818,\n",
       "       2836, 2856, 2858, 2860, 2868, 2890, 2904, 2906, 2908, 2914, 2916,\n",
       "       2918, 2930, 2940, 2946, 2948, 2950, 2960, 2962, 2964, 2974, 2976,\n",
       "       2978, 2996, 2998, 3000, 3018, 3028, 3050, 3066, 3078, 3084, 3086,\n",
       "       3088, 3098, 3100, 3102, 3120, 3122, 3126, 3134, 3136, 3138, 3150,\n",
       "       3152, 3154, 3160, 3162, 3164, 3176, 3192, 3216, 3226, 3238, 3256,\n",
       "       3258, 3260, 3272, 3294, 3312, 3314, 3316, 3332, 3336, 3338])"
      ]
     },
     "execution_count": 34,
     "metadata": {},
     "output_type": "execute_result"
    }
   ],
   "source": [
    "# and we can then see we can select backbone atoms that were arbitrarily tagged as bouncy\n",
    "u.select_atoms('bouncy and backbone').indices"
   ]
  },
  {
   "cell_type": "markdown",
   "metadata": {},
   "source": [
    "## Adding dummy atoms to a Universe\n",
    "\n",
    "In general the number of atoms within a Universe must remain constant.\n",
    "It is however possible to merge two Universes (`mda.Merge`)\n",
    "and this can be used with `mda.Empty` to \"extend\" a Universe with dummy atoms."
   ]
  },
  {
   "cell_type": "code",
   "execution_count": 35,
   "metadata": {},
   "outputs": [],
   "source": [
    "# first create a regular Universe from files\n",
    "u = mda.Universe(adk.topology, adk.trajectory)"
   ]
  },
  {
   "cell_type": "code",
   "execution_count": 36,
   "metadata": {},
   "outputs": [],
   "source": [
    "# then \n",
    "dummy_u = mda.Universe.empty(n_atoms=10)\n",
    "dummy_u.add_TopologyAttr('names', ['DUMMY'] * 10)"
   ]
  },
  {
   "cell_type": "code",
   "execution_count": 37,
   "metadata": {},
   "outputs": [],
   "source": [
    "new_u = mda.Merge(u.atoms, dummy_u.atoms)"
   ]
  },
  {
   "cell_type": "code",
   "execution_count": 39,
   "metadata": {},
   "outputs": [
    {
     "data": {
      "text/plain": [
       "[<MDAnalysis.core.topologyattrs.Atomnames at 0x1679aed50>,\n",
       " <MDAnalysis.core.topologyattrs.Atomindices at 0x287a6a5d0>,\n",
       " <MDAnalysis.core.topologyattrs.Resindices at 0x287a68a90>,\n",
       " <MDAnalysis.core.topologyattrs.Segindices at 0x287a69ed0>]"
      ]
     },
     "execution_count": 39,
     "metadata": {},
     "output_type": "execute_result"
    }
   ],
   "source": [
    "# a merged Universe will only retain any atom attributes which *both* Universes have\n",
    "new_u._topology.attrs"
   ]
  },
  {
   "cell_type": "code",
   "execution_count": 40,
   "metadata": {},
   "outputs": [
    {
     "data": {
      "text/plain": [
       "array(['DUMMY', 'DUMMY', 'DUMMY', 'DUMMY', 'DUMMY', 'DUMMY', 'DUMMY',\n",
       "       'DUMMY', 'DUMMY', 'DUMMY'], dtype=object)"
      ]
     },
     "execution_count": 40,
     "metadata": {},
     "output_type": "execute_result"
    }
   ],
   "source": [
    "new_u.atoms[-10:].names"
   ]
  },
  {
   "cell_type": "markdown",
   "metadata": {},
   "source": [
    "## Writing out a Universe without any solvent"
   ]
  },
  {
   "cell_type": "code",
   "execution_count": 41,
   "metadata": {},
   "outputs": [],
   "source": [
    "from MDAnalysisTests.datafiles import TPR, TRR"
   ]
  },
  {
   "cell_type": "code",
   "execution_count": 49,
   "metadata": {},
   "outputs": [
    {
     "name": "stdout",
     "output_type": "stream",
     "text": [
      "47681\n"
     ]
    }
   ],
   "source": [
    "u = mda.Universe(TPR, TRR)\n",
    "\n",
    "print(len(u.atoms))"
   ]
  },
  {
   "cell_type": "code",
   "execution_count": 50,
   "metadata": {},
   "outputs": [
    {
     "data": {
      "text/plain": [
       "<AtomGroup with 3341 atoms>"
      ]
     },
     "execution_count": 50,
     "metadata": {},
     "output_type": "execute_result"
    }
   ],
   "source": [
    "not_water = u.atoms.select_atoms('not resname SOL NA+')\n",
    "not_water"
   ]
  },
  {
   "cell_type": "code",
   "execution_count": 51,
   "metadata": {},
   "outputs": [],
   "source": [
    "# the signature for Writer is useful for understanding which arguments are required\n",
    "mda.Writer?"
   ]
  },
  {
   "cell_type": "code",
   "execution_count": 45,
   "metadata": {},
   "outputs": [],
   "source": [
    "with mda.Writer('dry.xtc', n_atoms=len(not_water)) as w:\n",
    "    # we also write every 5th frame...\n",
    "    for ts in u.trajectory[::5]:\n",
    "        w.write(not_water)"
   ]
  },
  {
   "cell_type": "code",
   "execution_count": 46,
   "metadata": {},
   "outputs": [],
   "source": [
    "# to be able to load this Universe, we also write a topology file (here a .gro)\n",
    "not_water.write('dry.gro')"
   ]
  },
  {
   "cell_type": "code",
   "execution_count": 52,
   "metadata": {},
   "outputs": [],
   "source": [
    "dry_u = mda.Universe('dry.gro', 'dry.xtc')"
   ]
  },
  {
   "cell_type": "code",
   "execution_count": 53,
   "metadata": {},
   "outputs": [
    {
     "data": {
      "text/plain": [
       "<Universe with 3341 atoms>"
      ]
     },
     "execution_count": 53,
     "metadata": {},
     "output_type": "execute_result"
    }
   ],
   "source": [
    "dry_u"
   ]
  },
  {
   "cell_type": "markdown",
   "metadata": {},
   "source": [
    "# Creating systems using mda.Merge\n",
    "\n",
    "We can also use `mda.Merge` to generate system volumes from scratch.\n",
    "\n",
    "(This is probably better done by a tool like packmol...)"
   ]
  },
  {
   "cell_type": "markdown",
   "metadata": {},
   "source": [
    "First we use rdkit to generate initial conformations for a propane molecule."
   ]
  },
  {
   "cell_type": "code",
   "execution_count": 54,
   "metadata": {},
   "outputs": [],
   "source": [
    "from rdkit import Chem\n",
    "from rdkit.Chem import AllChem"
   ]
  },
  {
   "cell_type": "code",
   "execution_count": 55,
   "metadata": {},
   "outputs": [
    {
     "data": {
      "text/plain": [
       "0"
      ]
     },
     "execution_count": 55,
     "metadata": {},
     "output_type": "execute_result"
    }
   ],
   "source": [
    "m = Chem.AddHs(Chem.MolFromSmiles('CCC'))\n",
    "AllChem.EmbedMolecule(m)"
   ]
  },
  {
   "cell_type": "code",
   "execution_count": 56,
   "metadata": {},
   "outputs": [
    {
     "data": {
      "image/png": "[encoded data removed]",
      "text/plain": [
       "<rdkit.Chem.rdchem.Mol at 0x284259540>"
      ]
     },
     "execution_count": 56,
     "metadata": {},
     "output_type": "execute_result"
    }
   ],
   "source": [
    "m"
   ]
  },
  {
   "cell_type": "markdown",
   "metadata": {},
   "source": [
    "We can create a Universe from an rdkit Molecule.\n",
    "Therefore we can then create multiple copies of a Universe using a list comprehension..."
   ]
  },
  {
   "cell_type": "code",
   "execution_count": 57,
   "metadata": {},
   "outputs": [],
   "source": [
    "universes = [mda.Universe(m) for i in range(16)]"
   ]
  },
  {
   "cell_type": "markdown",
   "metadata": {},
   "source": [
    "The `AtomGroup.translate` method allows us to shift these atoms.\n",
    "\n",
    "Here we shift each Universe by 10 angstroms in the x-dimension."
   ]
  },
  {
   "cell_type": "code",
   "execution_count": 58,
   "metadata": {},
   "outputs": [],
   "source": [
    "for i, u in enumerate(universes):\n",
    "    u.atoms.translate([i * 10, 0, 0])"
   ]
  },
  {
   "cell_type": "code",
   "execution_count": 59,
   "metadata": {},
   "outputs": [],
   "source": [
    "fancy_u = mda.Merge(*[u.atoms for u in universes])"
   ]
  },
  {
   "cell_type": "markdown",
   "metadata": {},
   "source": [
    "# Using AtomGroup.unwrap to unwrap trajectories"
   ]
  },
  {
   "cell_type": "code",
   "execution_count": 60,
   "metadata": {},
   "outputs": [
    {
     "data": {
      "application/vnd.jupyter.widget-view+json": {
       "model_id": "2f9945d0e7a74bfea4edb52f997bd3e9",
       "version_major": 2,
       "version_minor": 0
      },
      "text/plain": []
     },
     "metadata": {},
     "output_type": "display_data"
    }
   ],
   "source": [
    "import nglview as nv\n",
    "\n",
    "from MDAnalysis.lib.mdamath import make_whole"
   ]
  },
  {
   "cell_type": "code",
   "execution_count": 61,
   "metadata": {},
   "outputs": [],
   "source": [
    "u = mda.Universe(TPR, TRR)\n"
   ]
  },
  {
   "cell_type": "markdown",
   "metadata": {},
   "source": [
    "Calculating bond lengths without considering periodic boundary conditions shows us that there is apparently a bond with a length of 79A!\n",
    "This is obviously caused by the two atoms being in separate periodic images."
   ]
  },
  {
   "cell_type": "code",
   "execution_count": 62,
   "metadata": {},
   "outputs": [
    {
     "data": {
      "text/plain": [
       "79.85327759926072"
      ]
     },
     "execution_count": 62,
     "metadata": {},
     "output_type": "execute_result"
    }
   ],
   "source": [
    "u.atoms.bonds.values(pbc=False).max()"
   ]
  },
  {
   "cell_type": "markdown",
   "metadata": {},
   "source": [
    "We can use the unwrap method to prevent any molecules being \"split\" over periodic images."
   ]
  },
  {
   "cell_type": "code",
   "execution_count": 63,
   "metadata": {},
   "outputs": [],
   "source": [
    "?u.atoms.unwrap"
   ]
  },
  {
   "cell_type": "code",
   "execution_count": 64,
   "metadata": {},
   "outputs": [
    {
     "data": {
      "text/plain": [
       "array([[ 52.017067 ,  43.56005  ,  31.554958 ],\n",
       "       [ 51.18792  ,  44.112053 ,  31.722015 ],\n",
       "       [ 51.550823 ,  42.827724 ,  31.038803 ],\n",
       "       ...,\n",
       "       [105.341995 ,  74.072    ,  40.988003 ],\n",
       "       [ 57.684002 ,  35.323997 ,  14.804    ],\n",
       "       [ 62.961002 ,  47.239    ,   3.7529998]], dtype=float32)"
      ]
     },
     "execution_count": 64,
     "metadata": {},
     "output_type": "execute_result"
    }
   ],
   "source": [
    "# use reference = center of geometry\n",
    "u.atoms.unwrap(reference='cog')"
   ]
  },
  {
   "cell_type": "markdown",
   "metadata": {},
   "source": [
    "After unwrapping our coordinates, the maximum observed bond length (when not considering periodic boundary conditions) is a sensible value."
   ]
  },
  {
   "cell_type": "code",
   "execution_count": 65,
   "metadata": {},
   "outputs": [
    {
     "data": {
      "text/plain": [
       "1.8100032684745506"
      ]
     },
     "execution_count": 65,
     "metadata": {},
     "output_type": "execute_result"
    }
   ],
   "source": [
    "u.atoms.bonds.values(pbc=False).max()"
   ]
  },
  {
   "cell_type": "code",
   "execution_count": null,
   "metadata": {},
   "outputs": [],
   "source": []
  }
 ],
 "metadata": {
  "kernelspec": {
   "display_name": "Python 3 (ipykernel)",
   "language": "python",
   "name": "python3"
  },
  "language_info": {
   "codemirror_mode": {
    "name": "ipython",
    "version": 3
   },
   "file_extension": ".py",
   "mimetype": "text/x-python",
   "name": "python",
   "nbconvert_exporter": "python",
   "pygments_lexer": "ipython3",
   "version": "3.11.9"
  }
 },
 "nbformat": 4,
 "nbformat_minor": 2
}
