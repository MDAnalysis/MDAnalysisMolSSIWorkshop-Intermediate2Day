{ "cells": [
  {
   "cell_type": "markdown",
   "metadata": {},
   "source": [
    "## Analysing trajectories\n",
    "<a id='trajanalysis'></a>"
   ]
  },
  {
   "cell_type": "markdown",
   "metadata": {},
   "source": [
    "So far we have seen how to use `mda.lib.distances` and other built in functions, and we learned how to move through a trajectory. Now we will see how to iterate over a trajectory to calculate a quantity of interest for each frame, and plot the results."
   ]
  },
  {
   "cell_type": "markdown",
   "metadata": {},
   "source": [
    "When we iterate over the trajectory, the unit cell information and coordinates are automatically updated. In order to calculate a quantity over the entire trajectory, we can create an empty list and add the property value at each frame. \n",
    "\n",
    "\n",
    "### PEG `radius_of_gyration`\n",
    "Let's go back to our PEG chain and calculate the `radius_of_gyration`:"
   ]
  },
  {
   "cell_type": "code",
   "execution_count": null,
   "metadata": {
    "scrolled": true
   },
   "outputs": [],
   "source": [
    "rog = []\n",
    "Os = peg_u.select_atoms('type os')\n",
    "for ts in peg_u.trajectory:\n",
    "    rog.append(Os.radius_of_gyration())\n",
    "\n",
    "#now let's plot:\n",
    "plt.plot(rog)\n",
    "plt.xlabel('frame')\n",
    "plt.ylabel(f'$R^2_G$')"
   ]
  },
  {
   "cell_type": "markdown",
   "metadata": {},
   "source": [
    "### AdK opening\n",
    "\n",
    "Now let's go back to the AdK trajectory and see what happens to the angles between domains as we iterate over the trajectory."
   ]
  },
  {
   "cell_type": "markdown",
   "metadata": {
    "solution2": "hidden",
    "solution2_first": true
   },
   "source": [
    "<div class=\"alert alert-success\"> <b>Exercise</b> \n",
    "\n",
    "\n",
    "By looking at the section on [AdK opening](#angles), the example above and the pseudocode below, calculate and plot the angles. \n",
    "\n",
    "\n",
    "    theta_NMP_traj = []\n",
    "    theta_LID_traj = []\n",
    "\n",
    "    for ts in adk_u.trajectory:\n",
    "    \n",
    "        calculate.theta_NMP\n",
    "        calculate.theta_LID\n",
    "        #remember to convert to degrees with np.rad2deg()\n",
    "        theta_NMP_traj.append(theta_NMP)\n",
    "        theta_LID_traj.append(theta_LID)\n",
    "     \n",
    "\n",
    "    \n",
    "</div>"
   ]
  },
  {
   "cell_type": "code",
   "execution_count": null,
   "metadata": {
    "solution2": "hidden"
   },
   "outputs": [],
   "source": [
    "theta_NMP_traj = []\n",
    "theta_LID_traj = []\n",
    "\n",
    "\n",
    "for ts in adk_u.trajectory:\n",
    "\n",
    "    A_NMP = adk_u.select_atoms('resid 115-125 and (backbone or name CB)').center_of_geometry()\n",
    "    B_NMP = adk_u.select_atoms('resid 90-100 and (backbone or name CB)').center_of_geometry()\n",
    "    C_NMP = adk_u.select_atoms('resid 35-55 and (backbone or name CB)').center_of_geometry()\n",
    "\n",
    "    A_LID = adk_u.select_atoms('resid 179-185 and (backbone or name CB)').center_of_geometry()\n",
    "    B_LID = adk_u.select_atoms('resid 112-125 and (backbone or name CB)').center_of_geometry()\n",
    "    C_LID = adk_u.select_atoms('resid 125-153 and (backbone or name CB)').center_of_geometry()\n",
    "\n",
    "\n",
    "    theta_NMP = mda.lib.distances.calc_angles(A_NMP, B_NMP, C_NMP)\n",
    "    theta_LID = mda.lib.distances.calc_angles(A_LID, B_LID, C_LID)\n",
    "\n",
    "    theta_LID_traj.append(np.rad2deg(theta_LID))\n",
    "    theta_NMP_traj.append(np.rad2deg(theta_NMP))\n",
    "    "
   ]
  },
  {
   "cell_type": "code",
   "execution_count": null,
   "metadata": {},
   "outputs": [],
   "source": [
    "#now let's plot:\n",
    "plt.plot(theta_LID_traj, label=r'$\\theta_{LID}$')\n",
    "plt.plot(theta_NMP_traj, label=r'$\\theta_{NMP}$')\n",
    "plt.legend()\n",
    "plt.xlabel('Frame')\n",
    "plt.ylabel('Angle')"
   ]
  },
  {
   "cell_type": "code",
   "execution_count": null,
   "metadata": {},
   "outputs": [],
   "source": []
  }
 ],
 "metadata": {
  "hide_input": false,
  "kernelspec": {
   "display_name": "Python 3 (ipykernel)",
   "language": "python",
   "name": "python3"
  },
  "language_info": {
   "codemirror_mode": {
    "name": "ipython",
    "version": 3
   },
   "file_extension": ".py",
   "mimetype": "text/x-python",
   "name": "python",
   "nbconvert_exporter": "python",
   "pygments_lexer": "ipython3",
   "version": "3.11.6"
  },
  "toc": {
   "base_numbering": 1,
   "nav_menu": {},
   "number_sections": false,
   "sideBar": true,
   "skip_h1_title": false,
   "title_cell": "Table of Contents",
   "title_sidebar": "Contents",
   "toc_cell": false,
   "toc_position": {
    "height": "calc(100% - 180px)",
    "left": "10px",
    "top": "150px",
    "width": "288px"
   },
   "toc_section_display": true,
   "toc_window_display": true
  }
 },
 "nbformat": 4,
 "nbformat_minor": 4
}
