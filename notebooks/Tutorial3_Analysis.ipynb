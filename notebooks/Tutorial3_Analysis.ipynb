{
 "cells": [
  {
   "cell_type": "markdown",
   "metadata": {},
   "source": [
    "# Tutorial 3: Analysis\n",
    "\n",
    "<a id='trajanalysis'></a>\n",
    "\n",
    "<a rel=\"license\" href=\"http://creativecommons.org/licenses/by/4.0/\"><img alt=\"Creative Commons Licence\" style=\"border-width:0\" src=\"https://i.creativecommons.org/l/by/4.0/88x31.png\" title='This work is licensed under a Creative Commons Attribution 4.0 International License.' align=\"right\"/></a>\n",
    "\n",
    "This notebook is adapted from materials developed for the [2018 Workshop/Hackathon](https://github.com/MDAnalysis/WorkshopHackathon2018) and the [MDAnalysis User Guide](https://userguide.mdanalysis.org/stable/examples/analysis/custom_trajectory_analysis.html#Creating-an-analysis-from-a-function).\n",
    "\n",
    "### Learning outcomes \n",
    "\n",
    "- Understand how analysis methods that act on `Atomgroups`, such as root mean square deviation (RMSD), work\n",
    "- Creating your own analysis class with MDAnalysis\n",
    "\n",
    "#### Additional resources\n",
    "\n",
    " - During the workshop, feel free to ask questions at any time\n",
    " - For more on how to use MDAnalysis, see the [User Guide](https://userguide.mdanalysis.org/stable/index.html) and [documentation](https://docs.mdanalysis.org/stable/index.html)\n",
    " - Ask questions on the [GitHub Discussions forum](https://github.com/MDAnalysis/mdanalysis/discussions) or on [Discord](https://discord.gg/fXTSfDJyxE)\n",
    " - Report bugs on [GitHub](https://github.com/MDAnalysis/mdanalysis/issues?)\n"
   ]
  },
  {
   "cell_type": "markdown",
   "metadata": {},
   "source": [
    "# Google Colab package installs\n",
    "\n",
    "This installs the necessary packages for Google Colab. Please only run these if you are using Colab."
   ]
  },
  {
   "cell_type": "code",
   "execution_count": null,
   "metadata": {},
   "outputs": [],
   "source": [
    "# NBVAL_SKIP\n",
    "!pip install condacolab\n",
    "import condacolab\n",
    "condacolab.install()"
   ]
  },
  {
   "cell_type": "code",
   "execution_count": null,
   "metadata": {},
   "outputs": [],
   "source": [
    "# NBVAL_SKIP\n",
    "import condacolab\n",
    "condacolab.check()\n",
    "!mamba install -c conda-forge mdanalysis mdanalysistests mdanalysisdata nglview rdkit"
   ]
  },
  {
   "cell_type": "code",
   "execution_count": null,
   "metadata": {},
   "outputs": [],
   "source": [
    "# NBVAL_SKIP\n",
    "# enable third party jupyter widgets\n",
    "from google.colab import output\n",
    "output.enable_custom_widget_manager()"
   ]
  },
  {
   "cell_type": "markdown",
   "metadata": {},
   "source": [
    "### **Jupyter cheat sheet**\n",
    "- to run the currently highlighted cell, hold <kbd>&#x21E7; Shift</kbd> and press <kbd>&#x23ce; Enter</kbd>;\n",
    "- to get help for a specific function, place the cursor within the function's brackets, hold <kbd>&#x21E7; Shift</kbd>, and press <kbd>&#x21E5; Tab</kbd>;"
   ]
  },
  {
   "cell_type": "markdown",
   "metadata": {},
   "source": [
    "<div class=\"alert alert-warning\"><b> REMEMBER: variables persist between cells</b> \n",
    "    \n",
    "Be aware that it is the order of execution of cells that is important in a Jupyter notebook, not the <em>order</em> in which they appear. Python will remember <em>all</em> the code that was run previously, including any variables you have defined, irrespective of the order in the notebook. Therefore if you define variables lower down the notebook and then (re)run cells further up, those defined further down will still be present. </div> "
   ]
  },
  {
   "cell_type": "code",
   "execution_count": 1,
   "metadata": {},
   "outputs": [
    {
     "data": {
      "application/vnd.jupyter.widget-view+json": {
       "model_id": "7bd4cbe2bfd348428bf4cdb4cd538450",
       "version_major": 2,
       "version_minor": 0
      },
      "text/plain": []
     },
     "metadata": {},
     "output_type": "display_data"
    },
    {
     "name": "stderr",
     "output_type": "stream",
     "text": [
      "/Users/ugmhackathon/mambaforge/envs/mda_workshop/lib/python3.11/site-packages/MDAnalysisData/base.py:34: DeprecationWarning: pkg_resources is deprecated as an API. See https://setuptools.pypa.io/en/latest/pkg_resources.html\n",
      "  from pkg_resources import resource_string\n"
     ]
    }
   ],
   "source": [
    "import warnings\n",
    "warnings.filterwarnings(\"ignore\") \n",
    "\n",
    "import matplotlib.pyplot as plt\n",
    "import seaborn as sns\n",
    "import numpy as np\n",
    "import nglview as nv\n",
    "import MDAnalysis as mda\n",
    "from MDAnalysis.lib import distances \n",
    "from MDAnalysis.analysis import rdf\n",
    "import MDAnalysisData as data"
   ]
  },
  {
   "cell_type": "markdown",
   "metadata": {},
   "source": [
    "## 1. Root mean square deviation (RMSD)\n",
    "\n",
    "Here we calculate the RMSD of domains in adenylate kinase (AdK), a phosophotransferase enzyme, as it transitions from an open to closed structure."
   ]
  },
  {
   "cell_type": "code",
   "execution_count": 3,
   "metadata": {},
   "outputs": [],
   "source": [
    "from MDAnalysis.tests.datafiles import PSF, DCD, CRD\n",
    "from MDAnalysis.analysis import rms\n",
    "\n",
    "import pandas as pd"
   ]
  },
  {
   "cell_type": "markdown",
   "metadata": {},
   "source": [
    "The trajectory DCD samples a transition from a closed to an open conformation. AdK has three domains:\n",
    "\n",
    "- CORE\n",
    "- LID: an ATP-binding domain\n",
    "- NMP: an AMP-binding domain\n",
    "\n",
    "The LID and NMP domains move around the stable CORE as the enzyme transitions between the opened and closed conformations. One way to quantify this movement is by calculating the root mean square deviation (RMSD) of atomic positions."
   ]
  },
  {
   "cell_type": "code",
   "execution_count": 4,
   "metadata": {},
   "outputs": [
    {
     "name": "stderr",
     "output_type": "stream",
     "text": [
      "/Users/ugmhackathon/mambaforge/envs/mda_workshop/lib/python3.11/site-packages/MDAnalysis/coordinates/DCD.py:165: DeprecationWarning: DCDReader currently makes independent timesteps by copying self.ts while other readers update self.ts inplace. This behavior will be changed in 3.0 to be the same as other readers. Read more at https://github.com/MDAnalysis/mdanalysis/issues/3889 to learn if this change in behavior might affect you.\n",
      "  warnings.warn(\"DCDReader currently makes independent timesteps\"\n"
     ]
    }
   ],
   "source": [
    "u = mda.Universe(PSF, DCD)  # closed AdK (PDB ID: 1AKE)\n",
    "ref = mda.Universe(PSF, CRD)  # open AdK (PDB ID: 4AKE)"
   ]
  },
  {
   "cell_type": "markdown",
   "metadata": {},
   "source": [
    "### Background: RMSD\n",
    "\n",
    "The root mean square deviation (RMSD) of particle coordinates is one measure of distance, or dissimilarity, between molecular conformations. Each structure should have matching elementwise atoms $i$ in the same order, as the distance between them is calculated and summed for the final result. It is calculated between coordinate arrays $\\mathbf{x}$ and $\\mathbf{x}^{\\text{ref}}$ according to the equation below:\n",
    "\n",
    "$$ \\text{RMSD}(\\mathbf{x}, \\mathbf{x}^{\\text{ref}}) = \\sqrt{\\frac{1}{n} \\sum_{i=1}^{n}{|\\mathbf{x}_i-\\mathbf{x}_i^{\\text{ref}}|^2}} $$\n",
    "\n",
    "As molecules can move around, the structure $\\mathbf{x}$ is usually translated by a vector $\\mathbf{t}$ and rotated by a matrix $\\mathsf{R}$ to align with the reference $\\mathbf{x}^{\\text{ref}}$ such that the RMSD is minimised. The RMSD after this optimal superposition can be expressed as follows:\n",
    "\n",
    "$$ \\text{RMSD}(\\mathbf{x}, \\mathbf{x}^{\\text{ref}}) = \\min_{\\mathsf{R}, \\mathbf{t}} %\n",
    "  \\sqrt{\\frac{1}{N} \\sum_{i=1}^{N} \\left[ %\n",
    "      (\\mathsf{R}\\cdot\\mathbf{x}_{i}(t) + \\mathbf{t}) - \\mathbf{x}_{i}^{\\text{ref}} \\right]^{2}}$$\n",
    "\n",
    "The RMSD between one reference state and a trajectory of structures is often calculated as a way to measure the dissimilarity of the trajectory conformational ensemble to the reference. This reference is frequently the first frame of the trajectory (the default in MDAnalysis), in which case it can provide insight into the overall movement from the initial starting point. W\n",
    "\n",
    "Typically not all coordinates in a structures are included in an RMSD analysis. With proteins, the fluctuation of the residue side-chains is not representative of overall conformational change. Therefore when RMSD analyses are performed to investigate large-scale movements in proteins, the atoms are usually restricted only to the backbone atoms (forming the amide-bond chain) or the alpha-carbon atoms. \n",
    "\n",
    "MDAnalysis provides functions and classes to calculate the RMSD between coordinate arrays, and `Universes` or `AtomGroups`.  The contribution of each particle $i$ to the final RMSD value can also be weighted.\n"
   ]
  },
  {
   "cell_type": "markdown",
   "metadata": {},
   "source": [
    "### RMSD between two sets of coordinates\n",
    "\n",
    "The MDAnalysis.analysis.rms.rmsd function returns the root mean square deviation (in Angstrom) between two sets of coordinates. Here, we calculate the RMSD between the backbone atoms of the open and closed conformations of AdK. "
   ]
  },
  {
   "cell_type": "code",
   "execution_count": 5,
   "metadata": {},
   "outputs": [
    {
     "data": {
      "text/plain": [
       "6.823686867261616"
      ]
     },
     "execution_count": 5,
     "metadata": {},
     "output_type": "execute_result"
    }
   ],
   "source": [
    "# RMSD Function Implementing the Above Equation\n",
    "backbone_ag = u.select_atoms('backbone')\n",
    "ref_ag = ref.select_atoms('backbone')\n",
    "rms.rmsd(backbone_ag.positions,  # coordinates to align\n",
    "         ref_ag.positions,  # reference coordinates\n",
    "         center=True,  # subtract the center of geometry\n",
    "         superposition=True)  # superimpose coordinates"
   ]
  },
  {
   "cell_type": "markdown",
   "metadata": {},
   "source": [
    "<div class=\"alert alert-success\"> <b>Exercise 1</b> \n",
    "\n",
    "Write your own trajectory iteration and get the RMSD of backbone atoms relative to the reference over time.\n",
    "</div>"
   ]
  },
  {
   "cell_type": "code",
   "execution_count": 6,
   "metadata": {},
   "outputs": [],
   "source": [
    "# Exercise 1"
   ]
  },
  {
   "cell_type": "markdown",
   "metadata": {},
   "source": [
    "#### Exercise 1 solution"
   ]
  },
  {
   "cell_type": "code",
   "execution_count": 7,
   "metadata": {},
   "outputs": [
    {
     "name": "stdout",
     "output_type": "stream",
     "text": [
      "[6.82368687 6.71926991 6.61572955 6.52929675 6.43862693 6.35782819\n",
      " 6.28123668 6.20690655 6.12838641 6.0299184  5.93945175 5.85839369\n",
      " 5.77592029 5.69462238 5.61155126 5.5281683  5.44614643 5.36947787\n",
      " 5.27785367 5.19365894 5.11679071 5.03967991 4.96901347 4.89805889\n",
      " 4.82726983 4.75065867 4.67096042 4.57934297 4.49845659 4.42320576\n",
      " 4.34275131 4.2747248  4.20598916 4.14576263 4.0839381  4.02082565\n",
      " 3.9262493  3.86205122 3.76515705 3.69237759 3.62036106 3.53185352\n",
      " 3.43816122 3.36155692 3.28617794 3.19980089 3.12496826 3.04046049\n",
      " 2.95195257 2.87687721 2.80769534 2.73973414 2.66422176 2.5829632\n",
      " 2.51731204 2.44606579 2.36723069 2.27772649 2.21077804 2.14044593\n",
      " 2.06508845 2.01232012 1.9412279  1.88191098 1.81545519 1.74576299\n",
      " 1.67966118 1.61349704 1.5516766  1.47917424 1.42116392 1.36527209\n",
      " 1.3173664  1.25410874 1.2092104  1.16588536 1.12888446 1.08336024\n",
      " 1.05449296 1.02442912 0.98328031 0.9495711  0.91225704 0.880558\n",
      " 0.84514044 0.81348164 0.77143986 0.7418361  0.70903679 0.67855634\n",
      " 0.64338629 0.61123464 0.59064955 0.56756278 0.5375714  0.51233916\n",
      " 0.49225897 0.4715296 ]\n"
     ]
    }
   ],
   "source": [
    "# Exercise 1 solution\n",
    "\n",
    "rmsd_results = np.zeros(u.trajectory.n_frames)\n",
    "\n",
    "backbone_ag = u.select_atoms('backbone')\n",
    "ref_ag = ref.select_atoms('backbone')\n",
    "\n",
    "for i, ts in enumerate(u.trajectory):\n",
    "    rmsd_results[i] = rms.rmsd(backbone_ag.positions,  # coordinates to align\n",
    "                               ref_ag.positions,  # reference coordinates\n",
    "                               center=True,  # subtract the center of geometry\n",
    "                               superposition=True)  # superimpose coordinates\n",
    "\n",
    "print(rmsd_results)"
   ]
  },
  {
   "cell_type": "markdown",
   "metadata": {},
   "source": [
    "### RMSD analysis class\n",
    "\n",
    "It is more efficient to use the `MDAnalysis.analysis.rms.RMSD` class to calculate the RMSD of an entire trajectory to a single reference point, than to use the the `MDAnalysis.analysis.rms.rmsd` function.\n",
    "\n",
    "The `rms.RMSD` class first performs a rotational and translational alignment of the target trajectory to the reference universe at `ref_frame`, using the atoms in select to determine the transformation. The RMSD of the select selection is calculated."
   ]
  },
  {
   "cell_type": "markdown",
   "metadata": {},
   "source": [
    "<div class=\"alert alert-success\"> <b>Exercise 2</b> \n",
    "\n",
    "Now use `RMSD` class to achieve the same goal.\n",
    "\n",
    "Hint: refer to https://docs.mdanalysis.org/stable/documentation_pages/analysis/rms.html#MDAnalysis.analysis.rms.RMSD or use the magic command `rms.RMSD?`\n",
    "</div>"
   ]
  },
  {
   "cell_type": "code",
   "execution_count": 25,
   "metadata": {},
   "outputs": [],
   "source": [
    "# Exercise 2"
   ]
  },
  {
   "cell_type": "markdown",
   "metadata": {},
   "source": [
    "#### Exercise 2 solution"
   ]
  },
  {
   "cell_type": "code",
   "execution_count": 9,
   "metadata": {},
   "outputs": [],
   "source": [
    "# Exercise 2 solution\n",
    "\n",
    "backbone_ag = u.select_atoms('backbone')\n",
    "ref_ag = ref.select_atoms('backbone')\n",
    "R = rms.RMSD(atomgroup=backbone_ag,\n",
    "             reference=ref_ag)\n",
    "R.run()\n",
    "\n",
    "R_results = R.results.rmsd.T[2] # the third column is the rmsd value\n",
    "\n",
    "# Alternative solution\n",
    "\n",
    "R_2 = rms.RMSD(atomgroup=u,\n",
    "             reference=ref,\n",
    "             select='backbone')\n",
    "R_2.run()\n",
    "\n",
    "R_2_results = R_2.results.rmsd.T[2] # the third column is the rmsd value"
   ]
  },
  {
   "cell_type": "code",
   "execution_count": 10,
   "metadata": {},
   "outputs": [
    {
     "data": {
      "text/plain": [
       "[<matplotlib.lines.Line2D at 0x175635e10>]"
      ]
     },
     "execution_count": 10,
     "metadata": {},
     "output_type": "execute_result"
    },
    {
     "data": {
      "image/png": "[encoded data removed]",
      "text/plain": [
       "<Figure size 640x480 with 1 Axes>"
      ]
     },
     "metadata": {},
     "output_type": "display_data"
    }
   ],
   "source": [
    "plt.plot(R_results)\n",
    "plt.plot(R_2_results)\n",
    "plt.plot(rmsd_results)"
   ]
  },
  {
   "cell_type": "markdown",
   "metadata": {},
   "source": [
    "### RMSD with multiple selections"
   ]
  },
  {
   "cell_type": "markdown",
   "metadata": {},
   "source": [
    "<div class=\"alert alert-success\">\n",
    "  <b>Exercise 3</b> \n",
    "\n",
    "  I now want to see the relative movement of each important domain (CORE, LID, NMP defined below) based on the RMSD value relative to its **starting position**. What could I do?\n",
    "\n",
    "  Hint 1: Align the system based on all the backbone atoms.\n",
    "\n",
    "  Hint 2: Use `groupselections`.\n",
    "</div>"
   ]
  },
  {
   "cell_type": "code",
   "execution_count": 11,
   "metadata": {},
   "outputs": [],
   "source": [
    "CORE = 'backbone and (resid 1-29 or resid 60-121 or resid 160-214)'\n",
    "LID = 'backbone and resid 122-159'\n",
    "NMP = 'backbone and resid 30-59'"
   ]
  },
  {
   "cell_type": "code",
   "execution_count": 12,
   "metadata": {},
   "outputs": [],
   "source": [
    "# Exercise 3"
   ]
  },
  {
   "cell_type": "markdown",
   "metadata": {},
   "source": [
    "#### Exercise 3 solution"
   ]
  },
  {
   "cell_type": "code",
   "execution_count": 13,
   "metadata": {},
   "outputs": [
    {
     "data": {
      "text/plain": [
       "<MDAnalysis.analysis.rms.RMSD at 0x175609350>"
      ]
     },
     "execution_count": 13,
     "metadata": {},
     "output_type": "execute_result"
    }
   ],
   "source": [
    "R = rms.RMSD(u,  # universe to align\n",
    "             u,  # reference universe or atomgroup\n",
    "             select='backbone',  # group to superimpose and calculate RMSD\n",
    "             groupselections=[CORE, LID, NMP],  # groups for RMSD\n",
    "             ref_frame=0)  # frame index of the reference\n",
    "R.run()"
   ]
  },
  {
   "cell_type": "markdown",
   "metadata": {},
   "source": [
    "### Plotting the data\n",
    "\n",
    "We can easily plot this data using the common data analysis package `pandas`. We turn the `R.rmsd` array into a `DataFrame` and label each column below.\n"
   ]
  },
  {
   "cell_type": "code",
   "execution_count": 14,
   "metadata": {},
   "outputs": [
    {
     "data": {
      "text/html": [
       "<div>\n",
       "<style scoped>\n",
       "    .dataframe tbody tr th:only-of-type {\n",
       "        vertical-align: middle;\n",
       "    }\n",
       "\n",
       "    .dataframe tbody tr th {\n",
       "        vertical-align: top;\n",
       "    }\n",
       "\n",
       "    .dataframe thead th {\n",
       "        text-align: right;\n",
       "    }\n",
       "</style>\n",
       "<table border=\"1\" class=\"dataframe\">\n",
       "  <thead>\n",
       "    <tr style=\"text-align: right;\">\n",
       "      <th></th>\n",
       "      <th>Frame</th>\n",
       "      <th>Time (ns)</th>\n",
       "      <th>Backbone</th>\n",
       "      <th>CORE</th>\n",
       "      <th>LID</th>\n",
       "      <th>NMP</th>\n",
       "    </tr>\n",
       "  </thead>\n",
       "  <tbody>\n",
       "    <tr>\n",
       "      <th>0</th>\n",
       "      <td>0.0</td>\n",
       "      <td>1.000000</td>\n",
       "      <td>5.834344e-07</td>\n",
       "      <td>3.921486e-08</td>\n",
       "      <td>1.197000e-07</td>\n",
       "      <td>6.276497e-08</td>\n",
       "    </tr>\n",
       "    <tr>\n",
       "      <th>1</th>\n",
       "      <td>1.0</td>\n",
       "      <td>2.000000</td>\n",
       "      <td>4.636592e-01</td>\n",
       "      <td>4.550181e-01</td>\n",
       "      <td>4.871915e-01</td>\n",
       "      <td>4.745572e-01</td>\n",
       "    </tr>\n",
       "    <tr>\n",
       "      <th>2</th>\n",
       "      <td>2.0</td>\n",
       "      <td>3.000000</td>\n",
       "      <td>6.419340e-01</td>\n",
       "      <td>5.754418e-01</td>\n",
       "      <td>7.940994e-01</td>\n",
       "      <td>7.270191e-01</td>\n",
       "    </tr>\n",
       "    <tr>\n",
       "      <th>3</th>\n",
       "      <td>3.0</td>\n",
       "      <td>4.000000</td>\n",
       "      <td>7.743983e-01</td>\n",
       "      <td>6.739184e-01</td>\n",
       "      <td>1.010261e+00</td>\n",
       "      <td>8.795031e-01</td>\n",
       "    </tr>\n",
       "    <tr>\n",
       "      <th>4</th>\n",
       "      <td>4.0</td>\n",
       "      <td>5.000000</td>\n",
       "      <td>8.588600e-01</td>\n",
       "      <td>7.318859e-01</td>\n",
       "      <td>1.168397e+00</td>\n",
       "      <td>9.612989e-01</td>\n",
       "    </tr>\n",
       "    <tr>\n",
       "      <th>...</th>\n",
       "      <td>...</td>\n",
       "      <td>...</td>\n",
       "      <td>...</td>\n",
       "      <td>...</td>\n",
       "      <td>...</td>\n",
       "      <td>...</td>\n",
       "    </tr>\n",
       "    <tr>\n",
       "      <th>93</th>\n",
       "      <td>93.0</td>\n",
       "      <td>93.999992</td>\n",
       "      <td>6.817898e+00</td>\n",
       "      <td>3.504430e+00</td>\n",
       "      <td>1.143376e+01</td>\n",
       "      <td>1.029266e+01</td>\n",
       "    </tr>\n",
       "    <tr>\n",
       "      <th>94</th>\n",
       "      <td>94.0</td>\n",
       "      <td>94.999992</td>\n",
       "      <td>6.804211e+00</td>\n",
       "      <td>3.480681e+00</td>\n",
       "      <td>1.141134e+01</td>\n",
       "      <td>1.029879e+01</td>\n",
       "    </tr>\n",
       "    <tr>\n",
       "      <th>95</th>\n",
       "      <td>95.0</td>\n",
       "      <td>95.999992</td>\n",
       "      <td>6.807987e+00</td>\n",
       "      <td>3.508946e+00</td>\n",
       "      <td>1.137593e+01</td>\n",
       "      <td>1.031958e+01</td>\n",
       "    </tr>\n",
       "    <tr>\n",
       "      <th>96</th>\n",
       "      <td>96.0</td>\n",
       "      <td>96.999991</td>\n",
       "      <td>6.821205e+00</td>\n",
       "      <td>3.498081e+00</td>\n",
       "      <td>1.139156e+01</td>\n",
       "      <td>1.037768e+01</td>\n",
       "    </tr>\n",
       "    <tr>\n",
       "      <th>97</th>\n",
       "      <td>97.0</td>\n",
       "      <td>97.999991</td>\n",
       "      <td>6.820322e+00</td>\n",
       "      <td>3.507119e+00</td>\n",
       "      <td>1.138474e+01</td>\n",
       "      <td>1.036821e+01</td>\n",
       "    </tr>\n",
       "  </tbody>\n",
       "</table>\n",
       "<p>98 rows × 6 columns</p>\n",
       "</div>"
      ],
      "text/plain": [
       "    Frame  Time (ns)      Backbone          CORE           LID           NMP\n",
       "0     0.0   1.000000  5.834344e-07  3.921486e-08  1.197000e-07  6.276497e-08\n",
       "1     1.0   2.000000  4.636592e-01  4.550181e-01  4.871915e-01  4.745572e-01\n",
       "2     2.0   3.000000  6.419340e-01  5.754418e-01  7.940994e-01  7.270191e-01\n",
       "3     3.0   4.000000  7.743983e-01  6.739184e-01  1.010261e+00  8.795031e-01\n",
       "4     4.0   5.000000  8.588600e-01  7.318859e-01  1.168397e+00  9.612989e-01\n",
       "..    ...        ...           ...           ...           ...           ...\n",
       "93   93.0  93.999992  6.817898e+00  3.504430e+00  1.143376e+01  1.029266e+01\n",
       "94   94.0  94.999992  6.804211e+00  3.480681e+00  1.141134e+01  1.029879e+01\n",
       "95   95.0  95.999992  6.807987e+00  3.508946e+00  1.137593e+01  1.031958e+01\n",
       "96   96.0  96.999991  6.821205e+00  3.498081e+00  1.139156e+01  1.037768e+01\n",
       "97   97.0  97.999991  6.820322e+00  3.507119e+00  1.138474e+01  1.036821e+01\n",
       "\n",
       "[98 rows x 6 columns]"
      ]
     },
     "execution_count": 14,
     "metadata": {},
     "output_type": "execute_result"
    }
   ],
   "source": [
    "df = pd.DataFrame(R.results.rmsd,\n",
    "                  columns=['Frame', 'Time (ns)',\n",
    "                           'Backbone', 'CORE',\n",
    "                           'LID', 'NMP'])\n",
    "\n",
    "df"
   ]
  },
  {
   "cell_type": "code",
   "execution_count": 15,
   "metadata": {},
   "outputs": [
    {
     "data": {
      "text/plain": [
       "Text(0, 0.5, 'RMSD ($\\\\AA$)')"
      ]
     },
     "execution_count": 15,
     "metadata": {},
     "output_type": "execute_result"
    },
    {
     "data": {
      "image/png": "[encoded data removed]",
      "text/plain": [
       "<Figure size 640x480 with 1 Axes>"
      ]
     },
     "metadata": {},
     "output_type": "display_data"
    }
   ],
   "source": [
    "ax = df.plot(x='Frame', y=['Backbone', 'CORE', 'LID', 'NMP'],\n",
    "             kind='line')\n",
    "ax.set_ylabel(r'RMSD ($\\AA$)')"
   ]
  },
  {
   "cell_type": "markdown",
   "metadata": {},
   "source": [
    "<div class=\"alert alert-info\"> <b> Reminder: </b> \n",
    "\n",
    "\n",
    "Some analysis tools (`radius_of_gyration`, `center_of_mass` etc) act on `positions` (which are properties of a single `timestep`). To calculate the property of interest for each frame, we need to iterate over the whole trajectory. \n",
    "\n",
    "Others (`RDF`, `rms.RMSD` etc) act on `AtomGroups`, and can iterate over the whole trajectory for us.\n",
    "\n",
    "</div>"
   ]
  },
  {
   "cell_type": "markdown",
   "metadata": {},
   "source": [
    "## 2. Writing your own analysis class\n",
    "\n",
    "We will now demonstrate how to write your own analysis class.\n",
    "\n",
    "Note: there are methods e.g. `AnalysisFromFunction`, `analysis_class` that can convert simple function into a functional analysis class.\n",
    "\n",
    "**If you implement your own analysis method, please consider [contributing it to the MDAnalysis codebase!](https://www.mdanalysis.org/UserGuide/contributing.html) or create an MDAKit!**\n"
   ]
  },
  {
   "cell_type": "code",
   "execution_count": 16,
   "metadata": {
    "ExecuteTime": {
     "end_time": "2023-06-09T12:13:02.845041605Z",
     "start_time": "2023-06-09T12:13:00.083014779Z"
    },
    "execution": {
     "iopub.execute_input": "2021-05-19T05:45:44.674135Z",
     "iopub.status.busy": "2021-05-19T05:45:44.673007Z",
     "iopub.status.idle": "2021-05-19T05:45:46.290616Z",
     "shell.execute_reply": "2021-05-19T05:45:46.291341Z"
    }
   },
   "outputs": [],
   "source": [
    "from MDAnalysis.tests.datafiles import PSF, DCD\n",
    "from MDAnalysis.analysis.base import AnalysisBase\n",
    "import numpy as np\n",
    "import matplotlib.pyplot as plt"
   ]
  },
  {
   "cell_type": "markdown",
   "metadata": {},
   "source": [
    "### Radius of gyration\n",
    "\n",
    "Let's start off by defining a standalone analysis function.\n",
    "\n",
    "The radius of gyration of a structure measures how compact it is. In [GROMACS](http://manual.gromacs.org/documentation/2019-rc1/reference-manual/analysis/radius-of-gyration.html), it is calculated as follows: \n",
    "\n",
    "$$ R_g = \\sqrt{\\frac{\\sum_i m_i \\mathbf{r}_i^2}{\\sum_i m_i}}$$\n",
    "\n",
    "where $m_i$ is the mass of atom $i$ and $\\mathbf{r}_i$ is the position of atom $i$, relative to the center-of-mass of the selection.\n",
    "\n",
    "The radius of gyration around each axis can also be determined separately. For example, the radius of gyration around the x-axis:\n",
    "\n",
    "$$ R_{i, x} = \\sqrt{\\frac{\\sum_i m_i [r_{i, y}^2 + r_{i, z}^2]}{\\sum_i m_i}}$$\n",
    "\n",
    "Below, we define a function that takes an AtomGroup and calculates the radii of gyration. We could write this function to only need the AtomGroup. However, we also add in a `masses` argument and a `total_mass` keyword to avoid recomputing the mass and total mass for each frame."
   ]
  },
  {
   "cell_type": "code",
   "execution_count": 17,
   "metadata": {
    "ExecuteTime": {
     "end_time": "2023-06-09T12:13:02.913378701Z",
     "start_time": "2023-06-09T12:13:02.846193220Z"
    },
    "execution": {
     "iopub.execute_input": "2021-05-19T05:45:46.297926Z",
     "iopub.status.busy": "2021-05-19T05:45:46.297404Z",
     "iopub.status.idle": "2021-05-19T05:45:46.299247Z",
     "shell.execute_reply": "2021-05-19T05:45:46.299751Z"
    }
   },
   "outputs": [],
   "source": [
    "def radgyr(atomgroup, masses, total_mass=None):\n",
    "    # coordinates change for each frame\n",
    "    coordinates = atomgroup.positions\n",
    "    center_of_mass = atomgroup.center_of_mass()\n",
    "    \n",
    "    # get squared distance from center\n",
    "    ri_sq = (coordinates-center_of_mass)**2\n",
    "    # sum the unweighted positions\n",
    "    sq = np.sum(ri_sq, axis=1)\n",
    "    sq_x = np.sum(ri_sq[:,[1,2]], axis=1) # sum over y and z\n",
    "    sq_y = np.sum(ri_sq[:,[0,2]], axis=1) # sum over x and z\n",
    "    sq_z = np.sum(ri_sq[:,[0,1]], axis=1) # sum over x and y\n",
    "    \n",
    "    # make into array\n",
    "    sq_rs = np.array([sq, sq_x, sq_y, sq_z])\n",
    "    \n",
    "    # weight positions\n",
    "    rog_sq = np.sum(masses*sq_rs, axis=1)/total_mass\n",
    "    # square root and return\n",
    "    return np.sqrt(rog_sq)"
   ]
  },
  {
   "cell_type": "markdown",
   "metadata": {},
   "source": [
    "I want to calculate the radius of gyration of my protein overall and along three dimensions"
   ]
  },
  {
   "cell_type": "code",
   "execution_count": 18,
   "metadata": {},
   "outputs": [
    {
     "name": "stderr",
     "output_type": "stream",
     "text": [
      "/Users/ugmhackathon/mambaforge/envs/mda_workshop/lib/python3.11/site-packages/MDAnalysis/coordinates/DCD.py:165: DeprecationWarning: DCDReader currently makes independent timesteps by copying self.ts while other readers update self.ts inplace. This behavior will be changed in 3.0 to be the same as other readers. Read more at https://github.com/MDAnalysis/mdanalysis/issues/3889 to learn if this change in behavior might affect you.\n",
      "  warnings.warn(\"DCDReader currently makes independent timesteps\"\n"
     ]
    }
   ],
   "source": [
    "u = mda.Universe(PSF, DCD)\n",
    "protein = u.select_atoms('protein')\n",
    "protein_masses = protein.masses\n",
    "total_mass = np.sum(protein_masses)"
   ]
  },
  {
   "cell_type": "code",
   "execution_count": 19,
   "metadata": {},
   "outputs": [],
   "source": [
    "radgyr_results = np.zeros([u.trajectory.n_frames, 4])\n",
    "\n",
    "for i, ts in enumerate(u.trajectory):\n",
    "    radgyr_results[i] = radgyr(atomgroup=protein,\n",
    "                          masses=protein_masses,\n",
    "                          total_mass=total_mass)"
   ]
  },
  {
   "cell_type": "code",
   "execution_count": 20,
   "metadata": {},
   "outputs": [
    {
     "data": {
      "text/plain": [
       "Text(0.5, 0, 'Frame')"
      ]
     },
     "execution_count": 20,
     "metadata": {},
     "output_type": "execute_result"
    },
    {
     "data": {
      "image/png": "[encoded data removed]",
      "text/plain": [
       "<Figure size 640x480 with 1 Axes>"
      ]
     },
     "metadata": {},
     "output_type": "display_data"
    }
   ],
   "source": [
    "labels = ['all', 'x-axis', 'y-axis', 'z-axis']\n",
    "for col, label in zip(radgyr_results.T, labels):\n",
    "    plt.plot(col, label=label)\n",
    "plt.legend()\n",
    "plt.ylabel('Radius of gyration (Å)')\n",
    "plt.xlabel('Frame')"
   ]
  },
  {
   "cell_type": "code",
   "execution_count": 21,
   "metadata": {},
   "outputs": [],
   "source": [
    "view = nv.show_mdanalysis(protein)\n",
    "view.add_representation('axes')"
   ]
  },
  {
   "cell_type": "code",
   "execution_count": 22,
   "metadata": {},
   "outputs": [
    {
     "data": {
      "application/vnd.jupyter.widget-view+json": {
       "model_id": "27909bdec7e54a5e800c7c2148e25dca",
       "version_major": 2,
       "version_minor": 0
      },
      "text/plain": [
       "NGLWidget(max_frame=97)"
      ]
     },
     "metadata": {},
     "output_type": "display_data"
    }
   ],
   "source": [
    "view"
   ]
  },
  {
   "cell_type": "markdown",
   "metadata": {},
   "source": [
    "<div class=\"alert alert-success\">\n",
    "  <b>Exercise 4</b> \n",
    "\n",
    "  I want to create a `RadiusOfGyration` class that inherits from `AnalysisBase` to add this functionality to my MD toolbox. Recall the three methods that I need to implement:\n",
    "  - `__init__`\n",
    "  - `_prepare`\n",
    "  - `_single_frame`\n",
    "\n",
    "  Here’s a reference for how the `run` method in `AnalysisBase` works:\n",
    "  ```python\n",
    "  class AnalysisBase:\n",
    "     ...\n",
    "     def run(self, start, stop, step, ...):\n",
    "          self._setup_frames()\n",
    "          self._prepare()\n",
    "          for ts in self.trajectory:\n",
    "              self._single_frame()\n",
    "          self._conclude()\n",
    "          return self\n",
    "  ```\n",
    "\n",
    "  Hint 1: Use `self._frame_index` to retrieve the current frame index.\n",
    "\n",
    "  Hint 2: Use the `radgyr` function in `_single_frame`.\n",
    "</div>"
   ]
  },
  {
   "cell_type": "code",
   "execution_count": null,
   "metadata": {},
   "outputs": [],
   "source": [
    "# Exercise 4\n",
    "class RadiusOfGyration(AnalysisBase):\n",
    "    def __init__(self, atomgroup, **kwargs):\n",
    "        # set parameters\n",
    "        ...\n",
    "        super().__init__(atomgroup.universe.trajectory,\n",
    "                         **kwargs)\n",
    "\n",
    "    def _prepare(self):\n",
    "        # called before iteration on the trajectory has begun.\n",
    "        # initialize results\n",
    "        ...\n",
    "\n",
    "    def _single_frame(self):\n",
    "        # called after the trajectory is moved onto each new frame.\n",
    "        ..."
   ]
  },
  {
   "cell_type": "code",
   "execution_count": null,
   "metadata": {},
   "outputs": [],
   "source": [
    "rog = RadiusOfGyration(atomgroup=protein)\n",
    "rog.run()\n",
    "\n",
    "rog_results = rog.results.radgyr\n",
    "\n",
    "labels = ['all', 'x-axis', 'y-axis', 'z-axis']\n",
    "for col, label in zip(rog_results.T, labels):\n",
    "    plt.plot(col, label=label)\n",
    "plt.legend()\n",
    "plt.ylabel('Radius of gyration (Å)')\n",
    "plt.xlabel('Frame')"
   ]
  },
  {
   "cell_type": "markdown",
   "metadata": {},
   "source": [
    "#### Exercise 4 solution"
   ]
  },
  {
   "cell_type": "code",
   "execution_count": 23,
   "metadata": {},
   "outputs": [],
   "source": [
    "# Exercise 4 solution\n",
    "class RadiusOfGyration(AnalysisBase):\n",
    "    def __init__(self, atomgroup, **kwargs):\n",
    "        self.atomgroup = atomgroup\n",
    "        self.atom_masses = atomgroup.masses\n",
    "        self.total_mass = np.sum(atomgroup.masses)\n",
    "        super().__init__(atomgroup.universe.trajectory,\n",
    "                         **kwargs)\n",
    "\n",
    "    def _prepare(self):\n",
    "        # called before iteration on the trajectory has begun.\n",
    "        # initialize results\n",
    "        self.results.radgyr = np.zeros([u.trajectory.n_frames, 4])\n",
    "\n",
    "    def _single_frame(self):\n",
    "        # called after the trajectory is moved onto each new frame.\n",
    "        self.results.radgyr[self._frame_index] = radgyr(self.atomgroup, self.atom_masses, self.total_mass)"
   ]
  },
  {
   "cell_type": "code",
   "execution_count": 24,
   "metadata": {},
   "outputs": [
    {
     "data": {
      "text/plain": [
       "Text(0.5, 0, 'Frame')"
      ]
     },
     "execution_count": 24,
     "metadata": {},
     "output_type": "execute_result"
    },
    {
     "data": {
      "image/png": "[encoded data removed]",
      "text/plain": [
       "<Figure size 640x480 with 1 Axes>"
      ]
     },
     "metadata": {},
     "output_type": "display_data"
    }
   ],
   "source": [
    "rog = RadiusOfGyration(atomgroup=protein)\n",
    "rog.run()\n",
    "\n",
    "rog_results = rog.results.radgyr\n",
    "\n",
    "labels = ['all', 'x-axis', 'y-axis', 'z-axis']\n",
    "for col, label in zip(rog_results.T, labels):\n",
    "    plt.plot(col, label=label)\n",
    "plt.legend()\n",
    "plt.ylabel('Radius of gyration (Å)')\n",
    "plt.xlabel('Frame')"
   ]
  },
  {
   "cell_type": "markdown",
   "metadata": {},
   "source": [
    "## Contributing to MDAnalysis\n",
    "\n",
    "If you think that you will want to reuse your new analysis, or that others might find it helpful, please consider [contributing it to the MDAnalysis codebase.](https://www.mdanalysis.org/UserGuide/contributing.html) Making your code open-source can have many benefits; others may notice an unexpected bug or suggest ways to optimise your code. If you write your analysis for a specific publication, please let us know; we will ask those who use your code to cite your reference in published work."
   ]
  }
 ],
 "metadata": {
  "hide_input": false,
  "kernelspec": {
   "display_name": "Python 3 (ipykernel)",
   "language": "python",
   "name": "python3"
  },
  "language_info": {
   "codemirror_mode": {
    "name": "ipython",
    "version": 3
   },
   "file_extension": ".py",
   "mimetype": "text/x-python",
   "name": "python",
   "nbconvert_exporter": "python",
   "pygments_lexer": "ipython3",
   "version": "3.11.9"
  },
  "toc": {
   "base_numbering": 1,
   "nav_menu": {},
   "number_sections": false,
   "sideBar": true,
   "skip_h1_title": false,
   "title_cell": "Table of Contents",
   "title_sidebar": "Contents",
   "toc_cell": false,
   "toc_position": {
    "height": "calc(100% - 180px)",
    "left": "10px",
    "top": "150px",
    "width": "288px"
   },
   "toc_section_display": true,
   "toc_window_display": true
  }
 },
 "nbformat": 4,
 "nbformat_minor": 4
}
