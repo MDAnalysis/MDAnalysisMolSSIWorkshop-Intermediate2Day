{
 "cells": [
  {
   "cell_type": "markdown",
   "metadata": {},
   "source": [
    "# Session 3:  Analysis Tools\n",
    "\n",
    "<a id='trajanalysis'></a>\n",
    "\n",
    "<a rel=\"license\" href=\"http://creativecommons.org/licenses/by/4.0/\"><img alt=\"Creative Commons Licence\" style=\"border-width:0\" src=\"https://i.creativecommons.org/l/by/4.0/88x31.png\" title='This work is licensed under a Creative Commons Attribution 4.0 International License.' align=\"right\"/></a>\n",
    "\n",
    "Authors: \n",
    "\n",
    "- Dr Micaela Matta - [@micaela-matta](https://github.com/micaela-matta)\n",
    "- Dr Richard Gowers - [@richardjgowers](https://github.com/richardjgowers) \n",
    "\n",
    "This notebook is adapted from materials developed for the [2018 Workshop/Hackathon](https://github.com/MDAnalysis/WorkshopHackathon2018) and the [MDAnalysis User Guide](https://userguide.mdanalysis.org/stable/examples/analysis/custom_trajectory_analysis.html#Creating-an-analysis-from-a-function).\n",
    "\n",
    "### Learning outcomes \n",
    "\n",
    "- Using built-in analysis methods that act on `positions` and iterating over a trajectory\n",
    "- Using analysis methods that act on `Atomgroups`, such as radial distribution function, persistence length, root mean square deviation (RMSD)\n",
    "- Creating your own analysis tools with MDAnalysis\n",
    "\n",
    "\n",
    "#### Additional resources\n",
    "\n",
    " - During the workshop, feel free to ask questions at any time\n",
    " - For more on how to use MDAnalysis, see the [User Guide](https://userguide.mdanalysis.org/2.0.0-dev0/) and [documentation](https://docs.mdanalysis.org/2.0.0-dev0/)\n",
    " - Ask questions on the [GitHub Discussions forum](https://github.com/MDAnalysis/mdanalysis/discussions) or on [Discord](https://discord.gg/fXTSfDJyxE)\n",
    " - Report bugs on [GitHub](https://github.com/MDAnalysis/mdanalysis/issues?)\n"
   ]
  },
  {
   "cell_type": "markdown",
   "metadata": {},
   "source": []
  },
  {
   "cell_type": "markdown",
   "metadata": {},
   "source": [
    "# Google Colab package installs\n",
    "\n",
    "This installs the necessary packages for Google Colab. Please only run these if you are using Colab."
   ]
  },
  {
   "cell_type": "code",
   "execution_count": null,
   "metadata": {},
   "outputs": [],
   "source": [
    "# NBVAL_SKIP\n",
    "!pip install condacolab\n",
    "import condacolab\n",
    "condacolab.install()"
   ]
  },
  {
   "cell_type": "code",
   "execution_count": null,
   "metadata": {},
   "outputs": [],
   "source": [
    "# NBVAL_SKIP\n",
    "import condacolab\n",
    "condacolab.check()\n",
    "!mamba install -c conda-forge mdanalysis mdanalysistests mdanalysisdata nglview rdkit"
   ]
  },
  {
   "cell_type": "code",
   "execution_count": null,
   "metadata": {},
   "outputs": [],
   "source": [
    "# NBVAL_SKIP\n",
    "# enable third party jupyter widgets\n",
    "from google.colab import output\n",
    "output.enable_custom_widget_manager()"
   ]
  },
  {
   "cell_type": "code",
   "execution_count": null,
   "metadata": {},
   "outputs": [],
   "source": [
    "import warnings\n",
    "warnings.filterwarnings(\"ignore\") \n",
    "\n",
    "import matplotlib.pyplot as plt\n",
    "import seaborn as sns\n",
    "import numpy as np\n",
    "import nglview as nv\n",
    "import MDAnalysis as mda\n",
    "from MDAnalysis.lib import distances \n",
    "from MDAnalysis.analysis import rdf\n",
    "import MDAnalysisData as data\n"
   ]
  },
  {
   "cell_type": "markdown",
   "metadata": {},
   "source": [
    "\n",
    "## 1. `radius_of_gyration` and end-to-end distance calculation for the whole trajectory\n",
    "Let's go back to our PEG chain and calculate the `radius_of_gyration`:"
   ]
  },
  {
   "cell_type": "code",
   "execution_count": null,
   "metadata": {},
   "outputs": [],
   "source": [
    "PEG_example = data.datasets.fetch_PEG_1chain()"
   ]
  },
  {
   "cell_type": "code",
   "execution_count": null,
   "metadata": {},
   "outputs": [],
   "source": [
    "peg_u = mda.Universe(PEG_example['topology'], PEG_example['trajectory'])"
   ]
  },
  {
   "cell_type": "code",
   "execution_count": null,
   "metadata": {},
   "outputs": [],
   "source": [
    "peg_u.atoms.residues[0]"
   ]
  },
  {
   "cell_type": "code",
   "execution_count": null,
   "metadata": {
    "scrolled": true
   },
   "outputs": [],
   "source": [
    "rog = []\n",
    "Os = peg_u.select_atoms('type os')\n",
    "for ts in peg_u.trajectory:\n",
    "    rog.append(Os.radius_of_gyration())\n",
    "\n",
    "#now let's plot:\n",
    "plt.plot(rog)\n",
    "plt.xlabel('frame')\n",
    "plt.ylabel(r\"R$_{g}$ ($\\AA$)\")\n",
    "plt.show()\n"
   ]
  },
  {
   "cell_type": "markdown",
   "metadata": {},
   "source": [
    "<div class=\"alert alert-success\"> \n",
    "\n",
    "**Exercise 1:**\n",
    "\n",
    "Calculate and plot the center of mass of PEG over the entire trajectory.\n",
    "\n",
    "</div> "
   ]
  },
  {
   "cell_type": "markdown",
   "metadata": {},
   "source": [
    "## 2. Radial Distribution Function (RDF) calculation\n",
    "<a id='rdf'></a>\n",
    "\n",
    "The [radial distribution function](https://en.wikipedia.org/wiki/Radial_distribution_function) describes the probability of finding an atom/molecule within a certain distance of another. The MDAnalysis analysis class has a built-in `rdf` tool for this purpose. \n",
    "\n",
    "<img src=\"https://upload.wikimedia.org/wikipedia/commons/3/3b/Rdf_schematic.svg\"  width=\"600\" height=\"300\">\n",
    "\n",
    "In this case, we don't have to iterate over the trajectory because the function already does that for us.\n",
    "\n",
    "We will demonstrate how to calculate the RDF between PEG oxygens and water oxygens. Let's first define our atomgroups:"
   ]
  },
  {
   "cell_type": "code",
   "execution_count": null,
   "metadata": {},
   "outputs": [],
   "source": [
    "ow = peg_u.select_atoms('type OW')\n",
    "\n",
    "op = peg_u.select_atoms('resname UNL and element O')"
   ]
  },
  {
   "cell_type": "markdown",
   "metadata": {},
   "source": [
    "We use the `rdf.InterRDF` function to calculate the radial distribution function:"
   ]
  },
  {
   "cell_type": "code",
   "execution_count": null,
   "metadata": {},
   "outputs": [],
   "source": [
    "OO_rdf = rdf.InterRDF(ow, op, range=(0,10))"
   ]
  },
  {
   "cell_type": "markdown",
   "metadata": {},
   "source": [
    "We need to `.run()` the radial distribution function, and optionally select an interval of frames:"
   ]
  },
  {
   "cell_type": "code",
   "execution_count": null,
   "metadata": {},
   "outputs": [],
   "source": [
    "RDF = OO_rdf.run()"
   ]
  },
  {
   "cell_type": "markdown",
   "metadata": {},
   "source": [
    "This returns a `results` dictionary reporting the `bins` and `rdf` values:"
   ]
  },
  {
   "cell_type": "code",
   "execution_count": null,
   "metadata": {},
   "outputs": [],
   "source": [
    "RDF.results['bins']"
   ]
  },
  {
   "cell_type": "code",
   "execution_count": null,
   "metadata": {},
   "outputs": [],
   "source": [
    "RDF.results['rdf']"
   ]
  },
  {
   "cell_type": "markdown",
   "metadata": {},
   "source": [
    "We can now plot the RDF between the oxygens of water and PEG:"
   ]
  },
  {
   "cell_type": "code",
   "execution_count": null,
   "metadata": {},
   "outputs": [],
   "source": [
    "plt.plot(RDF.results['bins'], RDF.results['rdf'])\n",
    "plt.hlines(1, 0, 10, linestyles='dashed', colors='orange')\n",
    "plt.xlabel('r ($\\AA$)')\n",
    "plt.ylabel(r'O$_{W}$ - O$_{PEG}$ RDF')\n",
    "plt.show()"
   ]
  },
  {
   "cell_type": "markdown",
   "metadata": {},
   "source": []
  },
  {
   "cell_type": "code",
   "execution_count": null,
   "metadata": {},
   "outputs": [],
   "source": []
  },
  {
   "cell_type": "markdown",
   "metadata": {},
   "source": [
    "## 3. Persistence length \n",
    "\n",
    "This is also a built-in method that return the persistence length calculated over the whole trajectory.\n",
    "\n",
    "In analysing polymers, the persistence length is a measure of a chains stiffness.  The persistence length is the distance at which the direction of two points on a polymer chain becomes decorrelated.  High persistence lengths indicate that the polymer chain is rigid and doesn't change direction, low persistence lengths indicate that the polymer chain has little memory of its orientation.\n",
    "\n",
    "The bond autocorrelation function $C(n)$ measures the average cosine of the angle between bond vector $\\mathbf{a_i}$ and a bond vector $n$ bonds away. \n",
    "\n",
    "$$C(n) = \\langle \\cos\\theta_{i, i+n} \\rangle= \\langle \\mathbf{a_i} \\cdot \\mathbf{a_{i+n}} \\rangle$$\n",
    "\n",
    "This is then fitted to an exponential decay, where $l_B$ is the average bond length, and $l_P$ is the persistence length.\n",
    "\n",
    "\n",
    "$$C(n) \\approx \\exp\\left(-\\frac{n l_B}{l_P}\\right)$$\n"
   ]
  },
  {
   "cell_type": "code",
   "execution_count": null,
   "metadata": {
    "collapsed": true
   },
   "outputs": [],
   "source": [
    "from MDAnalysis.analysis.polymer import PersistenceLength"
   ]
  },
  {
   "cell_type": "markdown",
   "metadata": {},
   "source": [
    "Select the backbone of the polymer. It's easy in this case since we only need to exclude hydrogens:"
   ]
  },
  {
   "cell_type": "code",
   "execution_count": null,
   "metadata": {
    "collapsed": true
   },
   "outputs": [],
   "source": [
    "backbone=peg_u.select_atoms('name C*')\n",
    "backbone"
   ]
  },
  {
   "cell_type": "markdown",
   "metadata": {},
   "source": [
    "It is important that the contents of the polymer `atomgroup` are in order. \n",
    "Selections done using `select_atoms` will always be sorted.\n",
    "This can be checked by listing the `atomgroup`."
   ]
  },
  {
   "cell_type": "code",
   "execution_count": null,
   "metadata": {},
   "outputs": [],
   "source": [
    "list(backbone[:10])"
   ]
  },
  {
   "cell_type": "markdown",
   "metadata": {},
   "source": [
    "Run the `PersistenceLength` function: "
   ]
  },
  {
   "cell_type": "code",
   "execution_count": null,
   "metadata": {
    "collapsed": true
   },
   "outputs": [],
   "source": [
    "pl=PersistenceLength([backbone]).run()"
   ]
  },
  {
   "cell_type": "code",
   "execution_count": null,
   "metadata": {},
   "outputs": [],
   "source": [
    "pl.results"
   ]
  },
  {
   "cell_type": "markdown",
   "metadata": {},
   "source": [
    "We can plot the autocorrelation using `pl.results`.\n",
    "The tool also returns the exponential decay fit for us, which yields the persistence length `lp`.\n",
    "We can check the validity of the fit by plotting the results:"
   ]
  },
  {
   "cell_type": "code",
   "execution_count": null,
   "metadata": {},
   "outputs": [],
   "source": [
    "plt.plot(pl.results['x'], pl.results['bond_autocorrelation'], 'o')\n",
    "plt.plot(pl.results['x'], pl.results['fit'])\n",
    "plt.show()"
   ]
  },
  {
   "cell_type": "markdown",
   "metadata": {},
   "source": [
    ".. Or just look at the value of $l_{P}$:"
   ]
  },
  {
   "cell_type": "code",
   "execution_count": null,
   "metadata": {},
   "outputs": [],
   "source": [
    "pl.results['lp']"
   ]
  },
  {
   "cell_type": "markdown",
   "metadata": {},
   "source": []
  },
  {
   "cell_type": "markdown",
   "metadata": {},
   "source": [
    "## 4. Root mean square deviation (RMSD)\n",
    "\n",
    "Here we calculate the RMSD of domains in adenylate kinase (AdK), a phosophotransferase enzyme, as it transitions from an open to closed structure."
   ]
  },
  {
   "cell_type": "code",
   "execution_count": null,
   "metadata": {},
   "outputs": [],
   "source": [
    "from MDAnalysis.tests.datafiles import PSF, DCD, CRD\n",
    "from MDAnalysis.analysis import rms\n",
    "\n",
    "import pandas as pd"
   ]
  },
  {
   "cell_type": "markdown",
   "metadata": {},
   "source": [
    "The trajectory DCD samples a transition from a closed to an open conformation. AdK has three domains:\n",
    "\n",
    "- CORE\n",
    "- LID: an ATP-binding domain\n",
    "- NMP: an AMP-binding domain\n",
    "\n",
    "The LID and NMP domains move around the stable CORE as the enzyme transitions between the opened and closed conformations. One way to quantify this movement is by calculating the root mean square deviation (RMSD) of atomic positions."
   ]
  },
  {
   "cell_type": "code",
   "execution_count": null,
   "metadata": {},
   "outputs": [],
   "source": [
    "u = mda.Universe(PSF, DCD)  # closed AdK (PDB ID: 1AKE)\n",
    "ref = mda.Universe(PSF, CRD)  # open AdK (PDB ID: 4AKE)"
   ]
  },
  {
   "cell_type": "markdown",
   "metadata": {},
   "source": [
    "## Background: RMSD\n",
    "\n",
    "The root mean square deviation (RMSD) of particle coordinates is one measure of distance, or dissimilarity, between molecular conformations. Each structure should have matching elementwise atoms $i$ in the same order, as the distance between them is calculated and summed for the final result. It is calculated between coordinate arrays $\\mathbf{x}$ and $\\mathbf{x}^{\\text{ref}}$ according to the equation below:\n",
    "\n",
    "$$ \\text{RMSD}(\\mathbf{x}, \\mathbf{x}^{\\text{ref}}) = \\sqrt{\\frac{1}{n} \\sum_{i=1}^{n}{|\\mathbf{x}_i-\\mathbf{x}_i^{\\text{ref}}|^2}} $$\n",
    "\n",
    "As molecules can move around, the structure $\\mathbf{x}$ is usually translated by a vector $\\mathbf{t}$ and rotated by a matrix $\\mathsf{R}$ to align with the reference $\\mathbf{x}^{\\text{ref}}$ such that the RMSD is minimised. The RMSD after this optimal superposition can be expressed as follows:\n",
    "\n",
    "$$ \\text{RMSD}(\\mathbf{x}, \\mathbf{x}^{\\text{ref}}) = \\min_{\\mathsf{R}, \\mathbf{t}} %\n",
    "  \\sqrt{\\frac{1}{N} \\sum_{i=1}^{N} \\left[ %\n",
    "      (\\mathsf{R}\\cdot\\mathbf{x}_{i}(t) + \\mathbf{t}) - \\mathbf{x}_{i}^{\\text{ref}} \\right]^{2}}$$\n",
    "\n",
    "The RMSD between one reference state and a trajectory of structures is often calculated as a way to measure the dissimilarity of the trajectory conformational ensemble to the reference. This reference is frequently the first frame of the trajectory (the default in MDAnalysis), in which case it can provide insight into the overall movement from the initial starting point. W\n",
    "\n",
    "Typically not all coordinates in a structures are included in an RMSD analysis. With proteins, the fluctuation of the residue side-chains is not representative of overall conformational change. Therefore when RMSD analyses are performed to investigate large-scale movements in proteins, the atoms are usually restricted only to the backbone atoms (forming the amide-bond chain) or the alpha-carbon atoms. \n",
    "\n",
    "MDAnalysis provides functions and classes to calculate the RMSD between coordinate arrays, and `Universes` or `AtomGroups`.  The contribution of each particle $i$ to the final RMSD value can also be weighted.\n"
   ]
  },
  {
   "cell_type": "markdown",
   "metadata": {},
   "source": [
    "### RMSD between two sets of coordinates\n",
    "\n",
    "The MDAnalysis.analysis.rms.rmsd function returns the root mean square deviation (in Angstrom) between two sets of coordinates. Here, we calculate the RMSD between the backbone atoms of the open and closed conformations of AdK. "
   ]
  },
  {
   "cell_type": "code",
   "execution_count": null,
   "metadata": {},
   "outputs": [],
   "source": [
    "rms.rmsd(u.select_atoms('backbone').positions,  # coordinates to align\n",
    "         ref.select_atoms('backbone').positions,  # reference coordinates\n",
    "         center=True,  # subtract the center of geometry\n",
    "         superposition=True)  # superimpose coordinates"
   ]
  },
  {
   "cell_type": "markdown",
   "metadata": {},
   "source": [
    "### RMSD of a Universe with multiple selections\n",
    "\n",
    "It is more efficient to use the `MDAnalysis.analysis.rms.RMSD` class to calculate the RMSD of an entire trajectory to a single reference point, than to use the the `MDAnalysis.analysis.rms.rmsd` function.\n",
    "\n",
    "The `rms.RMSD` class first performs a rotational and translational alignment of the target trajectory to the reference universe at `ref_frame`, using the atoms in select to determine the transformation. The RMSD of the select selection is calculated. Then, without further alignment, the RMSD of each group in `groupselections` is calculated."
   ]
  },
  {
   "cell_type": "code",
   "execution_count": null,
   "metadata": {},
   "outputs": [],
   "source": [
    "CORE = 'backbone and (resid 1-29 or resid 60-121 or resid 160-214)'\n",
    "LID = 'backbone and resid 122-159'\n",
    "NMP = 'backbone and resid 30-59'"
   ]
  },
  {
   "cell_type": "code",
   "execution_count": null,
   "metadata": {},
   "outputs": [],
   "source": [
    "R = rms.RMSD(u,  # universe to align\n",
    "             u,  # reference universe or atomgroup\n",
    "             select='backbone',  # group to superimpose and calculate RMSD\n",
    "             groupselections=[CORE, LID, NMP],  # groups for RMSD\n",
    "             ref_frame=0)  # frame index of the reference\n",
    "R.run()"
   ]
  },
  {
   "cell_type": "markdown",
   "metadata": {},
   "source": [
    "The data is saved as usual in the `results` object:"
   ]
  },
  {
   "cell_type": "code",
   "execution_count": null,
   "metadata": {},
   "outputs": [],
   "source": [
    "R.results.rmsd"
   ]
  },
  {
   "cell_type": "markdown",
   "metadata": {},
   "source": [
    "### Plotting the data\n",
    "\n",
    "We can easily plot this data using the common data analysis package `pandas`. We turn the `R.rmsd` array into a `DataFrame` and label each column below.\n"
   ]
  },
  {
   "cell_type": "code",
   "execution_count": null,
   "metadata": {},
   "outputs": [],
   "source": [
    "df = pd.DataFrame(R.results.rmsd,\n",
    "                  columns=['Frame', 'Time (ns)',\n",
    "                           'Backbone', 'CORE',\n",
    "                           'LID', 'NMP'])\n",
    "\n",
    "df"
   ]
  },
  {
   "cell_type": "code",
   "execution_count": null,
   "metadata": {},
   "outputs": [],
   "source": [
    "ax = df.plot(x='Frame', y=['Backbone', 'CORE', 'LID', 'NMP'],\n",
    "             kind='line')\n",
    "ax.set_ylabel(r'RMSD ($\\AA$)')"
   ]
  },
  {
   "cell_type": "markdown",
   "metadata": {},
   "source": [
    "<div class=\"alert alert-info\"> <b> Reminder: </b> \n",
    "\n",
    "\n",
    "Some analysis tools (`radius_of_gyration`, `center_of_mass` etc) act on `positions` (which are properties of a single `timestep`). To calculate the property of interest for each frame, we need to iterate over the whole trajectory. \n",
    "\n",
    "Others (`RDF`, `rms.RMSD` etc) act on `AtomGroups`, and can iterate over the whole trajectory for us.\n",
    "\n",
    "</div>"
   ]
  },
  {
   "cell_type": "markdown",
   "metadata": {},
   "source": [
    "## 5. Writing your own analysis method\n",
    "\n",
    "We will now demonstrate how to create your own analysis methods.\n",
    "\n",
    "This can generally be done in three ways, from least to most flexible:\n",
    "\n",
    " 1. [Running the analysis directly from a function](#Creating-an-analysis-from-a-function)\n",
    " \n",
    " 2. [Turning a function into a class](#Transforming-a-function-into-a-class)\n",
    " \n",
    " 3. [Writing your own class](#Creating-your-own-class)\n",
    "\n",
    "Note: the building blocks and methods shown in this section are only suitable for analyses that involve iterating over the trajectory once.\n",
    "\n",
    "**If you implement your own analysis method, please consider [contributing it to the MDAnalysis codebase!](https://www.mdanalysis.org/UserGuide/contributing.html)**\n"
   ]
  },
  {
   "cell_type": "code",
   "execution_count": null,
   "metadata": {
    "ExecuteTime": {
     "end_time": "2023-06-09T12:13:02.845041605Z",
     "start_time": "2023-06-09T12:13:00.083014779Z"
    },
    "execution": {
     "iopub.execute_input": "2021-05-19T05:45:44.674135Z",
     "iopub.status.busy": "2021-05-19T05:45:44.673007Z",
     "iopub.status.idle": "2021-05-19T05:45:46.290616Z",
     "shell.execute_reply": "2021-05-19T05:45:46.291341Z"
    }
   },
   "outputs": [],
   "source": [
    "from MDAnalysis.tests.datafiles import PSF, DCD, DCD2\n",
    "from MDAnalysis.analysis.base import (AnalysisBase,\n",
    "                                      AnalysisFromFunction,\n",
    "                                      analysis_class)\n",
    "import numpy as np\n",
    "import pandas as pd\n",
    "import matplotlib.pyplot as plt"
   ]
  },
  {
   "cell_type": "markdown",
   "metadata": {},
   "source": [
    "### Radius of gyration\n",
    "\n",
    "Let's start off by defining a standalone analysis function.\n",
    "\n",
    "The radius of gyration of a structure measures how compact it is. In [GROMACS](http://manual.gromacs.org/documentation/2019-rc1/reference-manual/analysis/radius-of-gyration.html), it is calculated as follows: \n",
    "\n",
    "$$ R_g = \\sqrt{\\frac{\\sum_i m_i \\mathbf{r}_i^2}{\\sum_i m_i}}$$\n",
    "\n",
    "where $m_i$ is the mass of atom $i$ and $\\mathbf{r}_i$ is the position of atom $i$, relative to the center-of-mass of the selection.\n",
    "\n",
    "The radius of gyration around each axis can also be determined separately. For example, the radius of gyration around the x-axis:\n",
    "\n",
    "$$ R_{i, x} = \\sqrt{\\frac{\\sum_i m_i [r_{i, y}^2 + r_{i, z}^2]}{\\sum_i m_i}}$$\n",
    "\n",
    "Below, we define a function that takes an AtomGroup and calculates the radii of gyration. We could write this function to only need the AtomGroup. However, we also add in a `masses` argument and a `total_mass` keyword to avoid recomputing the mass and total mass for each frame."
   ]
  },
  {
   "cell_type": "code",
   "execution_count": null,
   "metadata": {
    "ExecuteTime": {
     "end_time": "2023-06-09T12:13:02.913378701Z",
     "start_time": "2023-06-09T12:13:02.846193220Z"
    },
    "execution": {
     "iopub.execute_input": "2021-05-19T05:45:46.297926Z",
     "iopub.status.busy": "2021-05-19T05:45:46.297404Z",
     "iopub.status.idle": "2021-05-19T05:45:46.299247Z",
     "shell.execute_reply": "2021-05-19T05:45:46.299751Z"
    }
   },
   "outputs": [],
   "source": [
    "def radgyr(atomgroup, masses, total_mass=None):\n",
    "    # coordinates change for each frame\n",
    "    coordinates = atomgroup.positions\n",
    "    center_of_mass = atomgroup.center_of_mass()\n",
    "    \n",
    "    # get squared distance from center\n",
    "    ri_sq = (coordinates-center_of_mass)**2\n",
    "    # sum the unweighted positions\n",
    "    sq = np.sum(ri_sq, axis=1)\n",
    "    sq_x = np.sum(ri_sq[:,[1,2]], axis=1) # sum over y and z\n",
    "    sq_y = np.sum(ri_sq[:,[0,2]], axis=1) # sum over x and z\n",
    "    sq_z = np.sum(ri_sq[:,[0,1]], axis=1) # sum over x and y\n",
    "    \n",
    "    # make into array\n",
    "    sq_rs = np.array([sq, sq_x, sq_y, sq_z])\n",
    "    \n",
    "    # weight positions\n",
    "    rog_sq = np.sum(masses*sq_rs, axis=1)/total_mass\n",
    "    # square root and return\n",
    "    return np.sqrt(rog_sq)"
   ]
  },
  {
   "cell_type": "markdown",
   "metadata": {},
   "source": [
    "### Loading files\n",
    "\n",
    "The test files we will be working with here feature adenylate kinase (AdK), a phosophotransferase enzyme. (<a data-cite=\"beckstein_zipping_2009\" href=\"https://doi.org/10.1016/j.jmb.2009.09.009\">Beckstein *et al.*, 2009</a>)"
   ]
  },
  {
   "cell_type": "code",
   "execution_count": null,
   "metadata": {
    "ExecuteTime": {
     "end_time": "2023-06-09T12:13:04.148426149Z",
     "start_time": "2023-06-09T12:13:02.901815020Z"
    },
    "execution": {
     "iopub.execute_input": "2021-05-19T05:45:46.304382Z",
     "iopub.status.busy": "2021-05-19T05:45:46.303729Z",
     "iopub.status.idle": "2021-05-19T05:45:46.735057Z",
     "shell.execute_reply": "2021-05-19T05:45:46.736379Z"
    }
   },
   "outputs": [],
   "source": [
    "u = mda.Universe(PSF, DCD)\n",
    "protein = u.select_atoms('protein')\n",
    "\n",
    "u2 = mda.Universe(PSF, DCD2)"
   ]
  },
  {
   "cell_type": "markdown",
   "metadata": {},
   "source": [
    "### Creating an analysis from a function\n",
    "\n",
    "`MDAnalysis.analysis.base.AnalysisFromFunction` can create an analysis from a function that works on AtomGroups. It requires the function itself, the trajectory to operate on, and then the arguments / keyword arguments necessary for the function."
   ]
  },
  {
   "cell_type": "code",
   "execution_count": null,
   "metadata": {
    "ExecuteTime": {
     "end_time": "2023-06-09T12:13:04.317952076Z",
     "start_time": "2023-06-09T12:13:04.015481912Z"
    },
    "execution": {
     "iopub.execute_input": "2021-05-19T05:45:46.744071Z",
     "iopub.status.busy": "2021-05-19T05:45:46.743156Z",
     "iopub.status.idle": "2021-05-19T05:45:46.820924Z",
     "shell.execute_reply": "2021-05-19T05:45:46.821283Z"
    }
   },
   "outputs": [],
   "source": [
    "rog = AnalysisFromFunction(radgyr, u.trajectory, \n",
    "                           protein, protein.masses, \n",
    "                           total_mass=np.sum(protein.masses))\n",
    "rog.run()"
   ]
  },
  {
   "cell_type": "markdown",
   "metadata": {},
   "source": [
    "Running the analysis iterates over the trajectory. The output is saved in `rog.results.timeseries`, which has the same number of rows, as frames in the trajectory. You can access the results both at `rog.results.timeseries` and `rog.results['timeseries']`:"
   ]
  },
  {
   "cell_type": "code",
   "execution_count": null,
   "metadata": {
    "ExecuteTime": {
     "end_time": "2023-06-09T12:13:04.471427459Z",
     "start_time": "2023-06-09T12:13:04.314601521Z"
    },
    "execution": {
     "iopub.execute_input": "2021-05-19T05:45:46.827199Z",
     "iopub.status.busy": "2021-05-19T05:45:46.826150Z",
     "iopub.status.idle": "2021-05-19T05:45:46.829723Z",
     "shell.execute_reply": "2021-05-19T05:45:46.830409Z"
    },
    "scrolled": true
   },
   "outputs": [],
   "source": [
    "rog.results['timeseries'].shape"
   ]
  },
  {
   "cell_type": "markdown",
   "metadata": {},
   "source": [
    "gives the same outputs as:"
   ]
  },
  {
   "cell_type": "code",
   "execution_count": null,
   "metadata": {
    "ExecuteTime": {
     "end_time": "2023-06-09T12:13:04.529356339Z",
     "start_time": "2023-06-09T12:13:04.336002495Z"
    }
   },
   "outputs": [],
   "source": [
    "rog.results.timeseries.shape"
   ]
  },
  {
   "cell_type": "code",
   "execution_count": null,
   "metadata": {
    "ExecuteTime": {
     "end_time": "2023-06-09T12:13:04.865856492Z",
     "start_time": "2023-06-09T12:13:04.372004616Z"
    },
    "execution": {
     "iopub.execute_input": "2021-05-19T05:45:46.853297Z",
     "iopub.status.busy": "2021-05-19T05:45:46.851794Z",
     "iopub.status.idle": "2021-05-19T05:45:46.991491Z",
     "shell.execute_reply": "2021-05-19T05:45:46.991906Z"
    }
   },
   "outputs": [],
   "source": [
    "labels = ['all', 'x-axis', 'y-axis', 'z-axis']\n",
    "for col, label in zip(rog.results['timeseries'].T, labels):\n",
    "    plt.plot(col, label=label)\n",
    "plt.legend()\n",
    "plt.ylabel('Radius of gyration (Å)')\n",
    "plt.xlabel('Frame')"
   ]
  },
  {
   "cell_type": "markdown",
   "metadata": {},
   "source": [
    "You can also re-run the analysis with different frame selections. \n",
    "\n",
    "Below, we start from the 10th frame and take every 8th frame until the 80th. Note that the slice includes the `start` frame, but does not include the `stop` frame index (much like the actual `range()` function)."
   ]
  },
  {
   "cell_type": "code",
   "execution_count": null,
   "metadata": {
    "ExecuteTime": {
     "end_time": "2023-06-09T12:13:04.970771465Z",
     "start_time": "2023-06-09T12:13:04.860485450Z"
    },
    "execution": {
     "iopub.execute_input": "2021-05-19T05:45:46.997610Z",
     "iopub.status.busy": "2021-05-19T05:45:46.996736Z",
     "iopub.status.idle": "2021-05-19T05:45:47.008365Z",
     "shell.execute_reply": "2021-05-19T05:45:47.008817Z"
    }
   },
   "outputs": [],
   "source": [
    "rog_10 = AnalysisFromFunction(radgyr, u.trajectory, \n",
    "                              protein, protein.masses, \n",
    "                              total_mass=np.sum(protein.masses))\n",
    "\n",
    "rog_10.run(start=10, stop=80, step=7)\n",
    "rog_10.results['timeseries'].shape"
   ]
  },
  {
   "cell_type": "code",
   "execution_count": null,
   "metadata": {
    "ExecuteTime": {
     "end_time": "2023-06-09T12:13:05.341820897Z",
     "start_time": "2023-06-09T12:13:04.884418060Z"
    },
    "execution": {
     "iopub.execute_input": "2021-05-19T05:45:47.026036Z",
     "iopub.status.busy": "2021-05-19T05:45:47.021412Z",
     "iopub.status.idle": "2021-05-19T05:45:47.153405Z",
     "shell.execute_reply": "2021-05-19T05:45:47.153774Z"
    },
    "scrolled": false
   },
   "outputs": [],
   "source": [
    "for col, label in zip(rog_10.results['timeseries'].T, labels):\n",
    "    plt.plot(col, label=label)\n",
    "plt.legend()\n",
    "plt.ylabel('Radius of gyration (Å)')\n",
    "plt.xlabel('Frame')"
   ]
  },
  {
   "cell_type": "markdown",
   "metadata": {},
   "source": [
    "### Transforming a function into a class\n",
    "\n",
    "While the `AnalysisFromFunction` is convenient for quick analyses, you may want to turn your function into a class that can be applied to many different trajectories, much like other MDAnalysis analyses.\n",
    "\n",
    "You can apply `analysis_class` to any function that you can run with `AnalysisFromFunction` to get a class."
   ]
  },
  {
   "cell_type": "code",
   "execution_count": null,
   "metadata": {
    "ExecuteTime": {
     "end_time": "2023-06-09T12:13:05.363999617Z",
     "start_time": "2023-06-09T12:13:05.340762290Z"
    },
    "execution": {
     "iopub.execute_input": "2021-05-19T05:45:47.158522Z",
     "iopub.status.busy": "2021-05-19T05:45:47.157956Z",
     "iopub.status.idle": "2021-05-19T05:45:47.159704Z",
     "shell.execute_reply": "2021-05-19T05:45:47.160090Z"
    }
   },
   "outputs": [],
   "source": [
    "RadiusOfGyration = analysis_class(radgyr)"
   ]
  },
  {
   "cell_type": "markdown",
   "metadata": {},
   "source": [
    "To run the analysis, pass exactly the same arguments as you would for `AnalysisFromFunction`."
   ]
  },
  {
   "cell_type": "code",
   "execution_count": null,
   "metadata": {
    "ExecuteTime": {
     "end_time": "2023-06-09T12:13:05.623603885Z",
     "start_time": "2023-06-09T12:13:05.355806546Z"
    },
    "execution": {
     "iopub.execute_input": "2021-05-19T05:45:47.164528Z",
     "iopub.status.busy": "2021-05-19T05:45:47.163876Z",
     "iopub.status.idle": "2021-05-19T05:45:47.223088Z",
     "shell.execute_reply": "2021-05-19T05:45:47.223864Z"
    }
   },
   "outputs": [],
   "source": [
    "rog_u1 = RadiusOfGyration(u.trajectory, protein, \n",
    "                          protein.masses,\n",
    "                          total_mass=np.sum(protein.masses))\n",
    "rog_u1.run()"
   ]
  },
  {
   "cell_type": "markdown",
   "metadata": {},
   "source": [
    "As with `AnalysisFromFunction`, the results are in `results`."
   ]
  },
  {
   "cell_type": "code",
   "execution_count": null,
   "metadata": {
    "ExecuteTime": {
     "end_time": "2023-06-09T12:13:06.016298115Z",
     "start_time": "2023-06-09T12:13:05.619608090Z"
    },
    "execution": {
     "iopub.execute_input": "2021-05-19T05:45:47.235361Z",
     "iopub.status.busy": "2021-05-19T05:45:47.234354Z",
     "iopub.status.idle": "2021-05-19T05:45:47.386475Z",
     "shell.execute_reply": "2021-05-19T05:45:47.386946Z"
    }
   },
   "outputs": [],
   "source": [
    "for col, label in zip(rog_u1.results['timeseries'].T, labels):\n",
    "    plt.plot(col, label=label)\n",
    "plt.legend()\n",
    "plt.ylabel('Radius of gyration (Å)')\n",
    "plt.xlabel('Frame')\n",
    "plt.show()"
   ]
  },
  {
   "cell_type": "markdown",
   "metadata": {},
   "source": [
    "## Contributing to MDAnalysis\n",
    "\n",
    "If you think that you will want to reuse your new analysis, or that others might find it helpful, please consider [contributing it to the MDAnalysis codebase.](https://www.mdanalysis.org/UserGuide/contributing.html) Making your code open-source can have many benefits; others may notice an unexpected bug or suggest ways to optimise your code. If you write your analysis for a specific publication, please let us know; we will ask those who use your code to cite your reference in published work."
   ]
  },
  {
   "cell_type": "markdown",
   "metadata": {},
   "source": []
  }
 ],
 "metadata": {
  "hide_input": false,
  "kernelspec": {
   "display_name": "Python 3 (ipykernel)",
   "language": "python",
   "name": "python3"
  },
  "language_info": {
   "codemirror_mode": {
    "name": "ipython",
    "version": 3
   },
   "file_extension": ".py",
   "mimetype": "text/x-python",
   "name": "python",
   "nbconvert_exporter": "python",
   "pygments_lexer": "ipython3",
   "version": "3.11.0"
  },
  "toc": {
   "base_numbering": 1,
   "nav_menu": {},
   "number_sections": false,
   "sideBar": true,
   "skip_h1_title": false,
   "title_cell": "Table of Contents",
   "title_sidebar": "Contents",
   "toc_cell": false,
   "toc_position": {
    "height": "calc(100% - 180px)",
    "left": "10px",
    "top": "150px",
    "width": "288px"
   },
   "toc_section_display": true,
   "toc_window_display": true
  }
 },
 "nbformat": 4,
 "nbformat_minor": 4
}
